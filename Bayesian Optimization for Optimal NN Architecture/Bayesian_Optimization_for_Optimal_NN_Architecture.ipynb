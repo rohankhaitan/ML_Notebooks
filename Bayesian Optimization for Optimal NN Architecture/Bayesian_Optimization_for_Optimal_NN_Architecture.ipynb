{
  "nbformat": 4,
  "nbformat_minor": 0,
  "metadata": {
    "colab": {
      "name": "Bayesian Optimization for Optimal NN Architecture",
      "provenance": [],
      "collapsed_sections": []
    },
    "kernelspec": {
      "name": "python3",
      "display_name": "Python 3"
    },
    "accelerator": "GPU"
  },
  "cells": [
    {
      "cell_type": "markdown",
      "metadata": {
        "id": "jRNBGXOtHxfk",
        "colab_type": "text"
      },
      "source": [
        "### Bayesian Optimization to find the optimal neural network architecture\n",
        "### Fashion MNIST Dataset\n"
      ]
    },
    {
      "cell_type": "markdown",
      "metadata": {
        "id": "BCwU_w0LqS6d",
        "colab_type": "text"
      },
      "source": [
        "**Importing necessary libraries**"
      ]
    },
    {
      "cell_type": "code",
      "metadata": {
        "id": "2scql1SPsQbR",
        "colab_type": "code",
        "colab": {
          "base_uri": "https://localhost:8080/",
          "height": 34
        },
        "outputId": "0b873832-5f8d-4f15-ba31-da5310a56717"
      },
      "source": [
        "import pandas as pd\n",
        "import numpy as np\n",
        "\n",
        "from IPython.core.interactiveshell import InteractiveShell\n",
        "InteractiveShell.ast_node_interactivity = \"all\"\n",
        "\n",
        "import matplotlib.pyplot as plot\n",
        "from sklearn.model_selection import train_test_split\n",
        "\n",
        "import sklearn.gaussian_process as gp\n",
        "\n",
        "from sklearn.model_selection import KFold\n",
        "\n",
        "from __future__ import absolute_import, division, print_function, unicode_literals\n",
        "# TensorFlow and tf.keras\n",
        "import tensorflow as tf\n",
        "from tensorflow import keras\n",
        "\n",
        "import matplotlib.pyplot as plt\n",
        "\n",
        "print(tf.__version__)"
      ],
      "execution_count": null,
      "outputs": [
        {
          "output_type": "stream",
          "text": [
            "1.15.0\n"
          ],
          "name": "stdout"
        }
      ]
    },
    {
      "cell_type": "markdown",
      "metadata": {
        "id": "pVX1KyMOrKQ6",
        "colab_type": "text"
      },
      "source": [
        "**Importing gp.py**"
      ]
    },
    {
      "cell_type": "code",
      "metadata": {
        "id": "vdVIh76QCEL2",
        "colab_type": "code",
        "colab": {
          "resources": {
            "http://localhost:8080/nbextensions/google.colab/files.js": {
              "data": "Ly8gQ29weXJpZ2h0IDIwMTcgR29vZ2xlIExMQwovLwovLyBMaWNlbnNlZCB1bmRlciB0aGUgQXBhY2hlIExpY2Vuc2UsIFZlcnNpb24gMi4wICh0aGUgIkxpY2Vuc2UiKTsKLy8geW91IG1heSBub3QgdXNlIHRoaXMgZmlsZSBleGNlcHQgaW4gY29tcGxpYW5jZSB3aXRoIHRoZSBMaWNlbnNlLgovLyBZb3UgbWF5IG9idGFpbiBhIGNvcHkgb2YgdGhlIExpY2Vuc2UgYXQKLy8KLy8gICAgICBodHRwOi8vd3d3LmFwYWNoZS5vcmcvbGljZW5zZXMvTElDRU5TRS0yLjAKLy8KLy8gVW5sZXNzIHJlcXVpcmVkIGJ5IGFwcGxpY2FibGUgbGF3IG9yIGFncmVlZCB0byBpbiB3cml0aW5nLCBzb2Z0d2FyZQovLyBkaXN0cmlidXRlZCB1bmRlciB0aGUgTGljZW5zZSBpcyBkaXN0cmlidXRlZCBvbiBhbiAiQVMgSVMiIEJBU0lTLAovLyBXSVRIT1VUIFdBUlJBTlRJRVMgT1IgQ09ORElUSU9OUyBPRiBBTlkgS0lORCwgZWl0aGVyIGV4cHJlc3Mgb3IgaW1wbGllZC4KLy8gU2VlIHRoZSBMaWNlbnNlIGZvciB0aGUgc3BlY2lmaWMgbGFuZ3VhZ2UgZ292ZXJuaW5nIHBlcm1pc3Npb25zIGFuZAovLyBsaW1pdGF0aW9ucyB1bmRlciB0aGUgTGljZW5zZS4KCi8qKgogKiBAZmlsZW92ZXJ2aWV3IEhlbHBlcnMgZm9yIGdvb2dsZS5jb2xhYiBQeXRob24gbW9kdWxlLgogKi8KKGZ1bmN0aW9uKHNjb3BlKSB7CmZ1bmN0aW9uIHNwYW4odGV4dCwgc3R5bGVBdHRyaWJ1dGVzID0ge30pIHsKICBjb25zdCBlbGVtZW50ID0gZG9jdW1lbnQuY3JlYXRlRWxlbWVudCgnc3BhbicpOwogIGVsZW1lbnQudGV4dENvbnRlbnQgPSB0ZXh0OwogIGZvciAoY29uc3Qga2V5IG9mIE9iamVjdC5rZXlzKHN0eWxlQXR0cmlidXRlcykpIHsKICAgIGVsZW1lbnQuc3R5bGVba2V5XSA9IHN0eWxlQXR0cmlidXRlc1trZXldOwogIH0KICByZXR1cm4gZWxlbWVudDsKfQoKLy8gTWF4IG51bWJlciBvZiBieXRlcyB3aGljaCB3aWxsIGJlIHVwbG9hZGVkIGF0IGEgdGltZS4KY29uc3QgTUFYX1BBWUxPQURfU0laRSA9IDEwMCAqIDEwMjQ7Ci8vIE1heCBhbW91bnQgb2YgdGltZSB0byBibG9jayB3YWl0aW5nIGZvciB0aGUgdXNlci4KY29uc3QgRklMRV9DSEFOR0VfVElNRU9VVF9NUyA9IDMwICogMTAwMDsKCmZ1bmN0aW9uIF91cGxvYWRGaWxlcyhpbnB1dElkLCBvdXRwdXRJZCkgewogIGNvbnN0IHN0ZXBzID0gdXBsb2FkRmlsZXNTdGVwKGlucHV0SWQsIG91dHB1dElkKTsKICBjb25zdCBvdXRwdXRFbGVtZW50ID0gZG9jdW1lbnQuZ2V0RWxlbWVudEJ5SWQob3V0cHV0SWQpOwogIC8vIENhY2hlIHN0ZXBzIG9uIHRoZSBvdXRwdXRFbGVtZW50IHRvIG1ha2UgaXQgYXZhaWxhYmxlIGZvciB0aGUgbmV4dCBjYWxsCiAgLy8gdG8gdXBsb2FkRmlsZXNDb250aW51ZSBmcm9tIFB5dGhvbi4KICBvdXRwdXRFbGVtZW50LnN0ZXBzID0gc3RlcHM7CgogIHJldHVybiBfdXBsb2FkRmlsZXNDb250aW51ZShvdXRwdXRJZCk7Cn0KCi8vIFRoaXMgaXMgcm91Z2hseSBhbiBhc3luYyBnZW5lcmF0b3IgKG5vdCBzdXBwb3J0ZWQgaW4gdGhlIGJyb3dzZXIgeWV0KSwKLy8gd2hlcmUgdGhlcmUgYXJlIG11bHRpcGxlIGFzeW5jaHJvbm91cyBzdGVwcyBhbmQgdGhlIFB5dGhvbiBzaWRlIGlzIGdvaW5nCi8vIHRvIHBvbGwgZm9yIGNvbXBsZXRpb24gb2YgZWFjaCBzdGVwLgovLyBUaGlzIHVzZXMgYSBQcm9taXNlIHRvIGJsb2NrIHRoZSBweXRob24gc2lkZSBvbiBjb21wbGV0aW9uIG9mIGVhY2ggc3RlcCwKLy8gdGhlbiBwYXNzZXMgdGhlIHJlc3VsdCBvZiB0aGUgcHJldmlvdXMgc3RlcCBhcyB0aGUgaW5wdXQgdG8gdGhlIG5leHQgc3RlcC4KZnVuY3Rpb24gX3VwbG9hZEZpbGVzQ29udGludWUob3V0cHV0SWQpIHsKICBjb25zdCBvdXRwdXRFbGVtZW50ID0gZG9jdW1lbnQuZ2V0RWxlbWVudEJ5SWQob3V0cHV0SWQpOwogIGNvbnN0IHN0ZXBzID0gb3V0cHV0RWxlbWVudC5zdGVwczsKCiAgY29uc3QgbmV4dCA9IHN0ZXBzLm5leHQob3V0cHV0RWxlbWVudC5sYXN0UHJvbWlzZVZhbHVlKTsKICByZXR1cm4gUHJvbWlzZS5yZXNvbHZlKG5leHQudmFsdWUucHJvbWlzZSkudGhlbigodmFsdWUpID0+IHsKICAgIC8vIENhY2hlIHRoZSBsYXN0IHByb21pc2UgdmFsdWUgdG8gbWFrZSBpdCBhdmFpbGFibGUgdG8gdGhlIG5leHQKICAgIC8vIHN0ZXAgb2YgdGhlIGdlbmVyYXRvci4KICAgIG91dHB1dEVsZW1lbnQubGFzdFByb21pc2VWYWx1ZSA9IHZhbHVlOwogICAgcmV0dXJuIG5leHQudmFsdWUucmVzcG9uc2U7CiAgfSk7Cn0KCi8qKgogKiBHZW5lcmF0b3IgZnVuY3Rpb24gd2hpY2ggaXMgY2FsbGVkIGJldHdlZW4gZWFjaCBhc3luYyBzdGVwIG9mIHRoZSB1cGxvYWQKICogcHJvY2Vzcy4KICogQHBhcmFtIHtzdHJpbmd9IGlucHV0SWQgRWxlbWVudCBJRCBvZiB0aGUgaW5wdXQgZmlsZSBwaWNrZXIgZWxlbWVudC4KICogQHBhcmFtIHtzdHJpbmd9IG91dHB1dElkIEVsZW1lbnQgSUQgb2YgdGhlIG91dHB1dCBkaXNwbGF5LgogKiBAcmV0dXJuIHshSXRlcmFibGU8IU9iamVjdD59IEl0ZXJhYmxlIG9mIG5leHQgc3RlcHMuCiAqLwpmdW5jdGlvbiogdXBsb2FkRmlsZXNTdGVwKGlucHV0SWQsIG91dHB1dElkKSB7CiAgY29uc3QgaW5wdXRFbGVtZW50ID0gZG9jdW1lbnQuZ2V0RWxlbWVudEJ5SWQoaW5wdXRJZCk7CiAgaW5wdXRFbGVtZW50LmRpc2FibGVkID0gZmFsc2U7CgogIGNvbnN0IG91dHB1dEVsZW1lbnQgPSBkb2N1bWVudC5nZXRFbGVtZW50QnlJZChvdXRwdXRJZCk7CiAgb3V0cHV0RWxlbWVudC5pbm5lckhUTUwgPSAnJzsKCiAgY29uc3QgcGlja2VkUHJvbWlzZSA9IG5ldyBQcm9taXNlKChyZXNvbHZlKSA9PiB7CiAgICBpbnB1dEVsZW1lbnQuYWRkRXZlbnRMaXN0ZW5lcignY2hhbmdlJywgKGUpID0+IHsKICAgICAgcmVzb2x2ZShlLnRhcmdldC5maWxlcyk7CiAgICB9KTsKICB9KTsKCiAgY29uc3QgY2FuY2VsID0gZG9jdW1lbnQuY3JlYXRlRWxlbWVudCgnYnV0dG9uJyk7CiAgaW5wdXRFbGVtZW50LnBhcmVudEVsZW1lbnQuYXBwZW5kQ2hpbGQoY2FuY2VsKTsKICBjYW5jZWwudGV4dENvbnRlbnQgPSAnQ2FuY2VsIHVwbG9hZCc7CiAgY29uc3QgY2FuY2VsUHJvbWlzZSA9IG5ldyBQcm9taXNlKChyZXNvbHZlKSA9PiB7CiAgICBjYW5jZWwub25jbGljayA9ICgpID0+IHsKICAgICAgcmVzb2x2ZShudWxsKTsKICAgIH07CiAgfSk7CgogIC8vIENhbmNlbCB1cGxvYWQgaWYgdXNlciBoYXNuJ3QgcGlja2VkIGFueXRoaW5nIGluIHRpbWVvdXQuCiAgY29uc3QgdGltZW91dFByb21pc2UgPSBuZXcgUHJvbWlzZSgocmVzb2x2ZSkgPT4gewogICAgc2V0VGltZW91dCgoKSA9PiB7CiAgICAgIHJlc29sdmUobnVsbCk7CiAgICB9LCBGSUxFX0NIQU5HRV9USU1FT1VUX01TKTsKICB9KTsKCiAgLy8gV2FpdCBmb3IgdGhlIHVzZXIgdG8gcGljayB0aGUgZmlsZXMuCiAgY29uc3QgZmlsZXMgPSB5aWVsZCB7CiAgICBwcm9taXNlOiBQcm9taXNlLnJhY2UoW3BpY2tlZFByb21pc2UsIHRpbWVvdXRQcm9taXNlLCBjYW5jZWxQcm9taXNlXSksCiAgICByZXNwb25zZTogewogICAgICBhY3Rpb246ICdzdGFydGluZycsCiAgICB9CiAgfTsKCiAgaWYgKCFmaWxlcykgewogICAgcmV0dXJuIHsKICAgICAgcmVzcG9uc2U6IHsKICAgICAgICBhY3Rpb246ICdjb21wbGV0ZScsCiAgICAgIH0KICAgIH07CiAgfQoKICBjYW5jZWwucmVtb3ZlKCk7CgogIC8vIERpc2FibGUgdGhlIGlucHV0IGVsZW1lbnQgc2luY2UgZnVydGhlciBwaWNrcyBhcmUgbm90IGFsbG93ZWQuCiAgaW5wdXRFbGVtZW50LmRpc2FibGVkID0gdHJ1ZTsKCiAgZm9yIChjb25zdCBmaWxlIG9mIGZpbGVzKSB7CiAgICBjb25zdCBsaSA9IGRvY3VtZW50LmNyZWF0ZUVsZW1lbnQoJ2xpJyk7CiAgICBsaS5hcHBlbmQoc3BhbihmaWxlLm5hbWUsIHtmb250V2VpZ2h0OiAnYm9sZCd9KSk7CiAgICBsaS5hcHBlbmQoc3BhbigKICAgICAgICBgKCR7ZmlsZS50eXBlIHx8ICduL2EnfSkgLSAke2ZpbGUuc2l6ZX0gYnl0ZXMsIGAgKwogICAgICAgIGBsYXN0IG1vZGlmaWVkOiAkewogICAgICAgICAgICBmaWxlLmxhc3RNb2RpZmllZERhdGUgPyBmaWxlLmxhc3RNb2RpZmllZERhdGUudG9Mb2NhbGVEYXRlU3RyaW5nKCkgOgogICAgICAgICAgICAgICAgICAgICAgICAgICAgICAgICAgICAnbi9hJ30gLSBgKSk7CiAgICBjb25zdCBwZXJjZW50ID0gc3BhbignMCUgZG9uZScpOwogICAgbGkuYXBwZW5kQ2hpbGQocGVyY2VudCk7CgogICAgb3V0cHV0RWxlbWVudC5hcHBlbmRDaGlsZChsaSk7CgogICAgY29uc3QgZmlsZURhdGFQcm9taXNlID0gbmV3IFByb21pc2UoKHJlc29sdmUpID0+IHsKICAgICAgY29uc3QgcmVhZGVyID0gbmV3IEZpbGVSZWFkZXIoKTsKICAgICAgcmVhZGVyLm9ubG9hZCA9IChlKSA9PiB7CiAgICAgICAgcmVzb2x2ZShlLnRhcmdldC5yZXN1bHQpOwogICAgICB9OwogICAgICByZWFkZXIucmVhZEFzQXJyYXlCdWZmZXIoZmlsZSk7CiAgICB9KTsKICAgIC8vIFdhaXQgZm9yIHRoZSBkYXRhIHRvIGJlIHJlYWR5LgogICAgbGV0IGZpbGVEYXRhID0geWllbGQgewogICAgICBwcm9taXNlOiBmaWxlRGF0YVByb21pc2UsCiAgICAgIHJlc3BvbnNlOiB7CiAgICAgICAgYWN0aW9uOiAnY29udGludWUnLAogICAgICB9CiAgICB9OwoKICAgIC8vIFVzZSBhIGNodW5rZWQgc2VuZGluZyB0byBhdm9pZCBtZXNzYWdlIHNpemUgbGltaXRzLiBTZWUgYi82MjExNTY2MC4KICAgIGxldCBwb3NpdGlvbiA9IDA7CiAgICB3aGlsZSAocG9zaXRpb24gPCBmaWxlRGF0YS5ieXRlTGVuZ3RoKSB7CiAgICAgIGNvbnN0IGxlbmd0aCA9IE1hdGgubWluKGZpbGVEYXRhLmJ5dGVMZW5ndGggLSBwb3NpdGlvbiwgTUFYX1BBWUxPQURfU0laRSk7CiAgICAgIGNvbnN0IGNodW5rID0gbmV3IFVpbnQ4QXJyYXkoZmlsZURhdGEsIHBvc2l0aW9uLCBsZW5ndGgpOwogICAgICBwb3NpdGlvbiArPSBsZW5ndGg7CgogICAgICBjb25zdCBiYXNlNjQgPSBidG9hKFN0cmluZy5mcm9tQ2hhckNvZGUuYXBwbHkobnVsbCwgY2h1bmspKTsKICAgICAgeWllbGQgewogICAgICAgIHJlc3BvbnNlOiB7CiAgICAgICAgICBhY3Rpb246ICdhcHBlbmQnLAogICAgICAgICAgZmlsZTogZmlsZS5uYW1lLAogICAgICAgICAgZGF0YTogYmFzZTY0LAogICAgICAgIH0sCiAgICAgIH07CiAgICAgIHBlcmNlbnQudGV4dENvbnRlbnQgPQogICAgICAgICAgYCR7TWF0aC5yb3VuZCgocG9zaXRpb24gLyBmaWxlRGF0YS5ieXRlTGVuZ3RoKSAqIDEwMCl9JSBkb25lYDsKICAgIH0KICB9CgogIC8vIEFsbCBkb25lLgogIHlpZWxkIHsKICAgIHJlc3BvbnNlOiB7CiAgICAgIGFjdGlvbjogJ2NvbXBsZXRlJywKICAgIH0KICB9Owp9CgpzY29wZS5nb29nbGUgPSBzY29wZS5nb29nbGUgfHwge307CnNjb3BlLmdvb2dsZS5jb2xhYiA9IHNjb3BlLmdvb2dsZS5jb2xhYiB8fCB7fTsKc2NvcGUuZ29vZ2xlLmNvbGFiLl9maWxlcyA9IHsKICBfdXBsb2FkRmlsZXMsCiAgX3VwbG9hZEZpbGVzQ29udGludWUsCn07Cn0pKHNlbGYpOwo=",
              "ok": true,
              "headers": [
                [
                  "content-type",
                  "application/javascript"
                ]
              ],
              "status": 200,
              "status_text": ""
            }
          },
          "base_uri": "https://localhost:8080/",
          "height": 91
        },
        "outputId": "0dbbf497-e5ae-46ba-e537-c94c0ef44b6c"
      },
      "source": [
        "from google.colab import files\n",
        "src = list(files.upload().values())[0]\n",
        "open('gp.py','wb').write(src)\n",
        "import gp\n",
        "\n",
        "%load gp.py\n",
        "%run gp.py"
      ],
      "execution_count": null,
      "outputs": [
        {
          "output_type": "display_data",
          "data": {
            "text/html": [
              "\n",
              "     <input type=\"file\" id=\"files-e656f558-afca-428c-a057-e73279ad585c\" name=\"files[]\" multiple disabled />\n",
              "     <output id=\"result-e656f558-afca-428c-a057-e73279ad585c\">\n",
              "      Upload widget is only available when the cell has been executed in the\n",
              "      current browser session. Please rerun this cell to enable.\n",
              "      </output>\n",
              "      <script src=\"/nbextensions/google.colab/files.js\"></script> "
            ],
            "text/plain": [
              "<IPython.core.display.HTML object>"
            ]
          },
          "metadata": {
            "tags": []
          }
        },
        {
          "output_type": "stream",
          "text": [
            "Saving gp.py to gp (1).py\n"
          ],
          "name": "stdout"
        },
        {
          "output_type": "execute_result",
          "data": {
            "text/plain": [
              "6563"
            ]
          },
          "metadata": {
            "tags": []
          },
          "execution_count": 2
        }
      ]
    },
    {
      "cell_type": "markdown",
      "metadata": {
        "id": "w8sk0tA5tXP1",
        "colab_type": "text"
      },
      "source": [
        "**Reading the Fashion-Mnist Data**"
      ]
    },
    {
      "cell_type": "code",
      "metadata": {
        "id": "ZCd3pDMqvbcj",
        "colab_type": "code",
        "colab": {}
      },
      "source": [
        "fashion_mnist = keras.datasets.fashion_mnist"
      ],
      "execution_count": null,
      "outputs": []
    },
    {
      "cell_type": "markdown",
      "metadata": {
        "id": "jMnWaA-31WhZ",
        "colab_type": "text"
      },
      "source": [
        "**Train-Test Split**"
      ]
    },
    {
      "cell_type": "code",
      "metadata": {
        "id": "1D9FvcOc1cuB",
        "colab_type": "code",
        "colab": {}
      },
      "source": [
        "(train_images, train_labels), (test_images, test_labels) = fashion_mnist.load_data()"
      ],
      "execution_count": null,
      "outputs": []
    },
    {
      "cell_type": "markdown",
      "metadata": {
        "id": "1IVGQ3p4aR9H",
        "colab_type": "text"
      },
      "source": [
        "### Approach"
      ]
    },
    {
      "cell_type": "markdown",
      "metadata": {
        "id": "d-AL9xPP1AHE",
        "colab_type": "text"
      },
      "source": [
        "\n",
        "    No of models used- 2\n",
        "\n",
        "    First model - Using one hidden layer\n",
        "    Second model- Using two hidden layer\n",
        "\n",
        "    For both the models we first choose the no of nodes in the layer/layers randomly. We then check the accuracy of the model in train and test sets.\n",
        "\n",
        "    Now our target is to find the optimal no of nodes for a layer for each model.\n",
        "    We will use Bayes Optimization to find the optimal architechture for these two cases. We then check the accuracy in the train and test set by fitting models using optimal no of nodes.\n",
        "\n",
        "    So, steps- \n",
        "    1. Fit model 1 (By randomly choosing the no of nodes)\n",
        "    2. Evaluate the model on train and test set\n",
        "       Now use Bayes Optimization to find optimal no of nodes.\n",
        "    3. Define a sample loss function(here we used cross validation) and fix the bounds for the parameters\n",
        "    4. Find the optimal no of nodes\n",
        "    5. Fit another model using the optimal no of nodes\n",
        "    6. Evaluate the model on train and test sets\n",
        "\n",
        "    We follow the same steps for model 2 (where we used two hidden layers)   "
      ]
    },
    {
      "cell_type": "markdown",
      "metadata": {
        "id": "xxsyNjYpukEl",
        "colab_type": "text"
      },
      "source": [
        "**Defining the first model**\n",
        "\n",
        "    Here,\n",
        "    no of hidden layers=1 \n",
        "    Activation function in hidden layer- Relu\n",
        "    No of Nodes in hidden layer= 128\n",
        "\n",
        "    No of nodes in output layer= 10 (as total 10 classes are there)\n",
        "    Activation function in output layer- Softmax\n",
        "\n",
        "    Optimizer- ADAM\n",
        "    Loss Function- Sparse Categorical Crossentropy\n",
        "    Metric= Accuracy\n"
      ]
    },
    {
      "cell_type": "code",
      "metadata": {
        "id": "l8K2uoHAZomT",
        "colab_type": "code",
        "colab": {}
      },
      "source": [
        "#one parameter, h1. It defines the no of nodes in the hidden layer.\n",
        "def create_model(h1):\n",
        "  model = keras.Sequential([\n",
        "    keras.layers.Flatten(input_shape=(28, 28)),\n",
        "    keras.layers.Dense(h1, activation='relu'),\n",
        "    keras.layers.Dense(10, activation='softmax')\n",
        "  ])\n",
        "  model.compile(optimizer='adam',\n",
        "              loss='sparse_categorical_crossentropy',\n",
        "              metrics=['accuracy'])\n",
        "\n",
        "  return model"
      ],
      "execution_count": null,
      "outputs": []
    },
    {
      "cell_type": "markdown",
      "metadata": {
        "id": "GCrUlDFD0cuf",
        "colab_type": "text"
      },
      "source": [
        "**Fitting the model**\n",
        "\n",
        "    Verbose is set to zero. So it will not show the information for any epochs. If we set the verbose to 3, we can see the details for each epochs. "
      ]
    },
    {
      "cell_type": "code",
      "metadata": {
        "id": "GjGnOi3KDgx4",
        "colab_type": "code",
        "colab": {
          "base_uri": "https://localhost:8080/",
          "height": 105
        },
        "outputId": "0cd1004e-a6e6-483b-a755-f23403846b06"
      },
      "source": [
        "model=create_model(128)\n",
        "model.fit(train_images, train_labels, batch_size=512, epochs=30, verbose=0)"
      ],
      "execution_count": null,
      "outputs": [
        {
          "output_type": "stream",
          "text": [
            "WARNING:tensorflow:From /usr/local/lib/python3.6/dist-packages/tensorflow_core/python/ops/resource_variable_ops.py:1630: calling BaseResourceVariable.__init__ (from tensorflow.python.ops.resource_variable_ops) with constraint is deprecated and will be removed in a future version.\n",
            "Instructions for updating:\n",
            "If using Keras pass *_constraint arguments to layers.\n"
          ],
          "name": "stdout"
        },
        {
          "output_type": "execute_result",
          "data": {
            "text/plain": [
              "<tensorflow.python.keras.callbacks.History at 0x7f1d2a602eb8>"
            ]
          },
          "metadata": {
            "tags": []
          },
          "execution_count": 6
        }
      ]
    },
    {
      "cell_type": "markdown",
      "metadata": {
        "id": "H2SbN6Ab0oSn",
        "colab_type": "text"
      },
      "source": [
        "**Evaluating the model**"
      ]
    },
    {
      "cell_type": "code",
      "metadata": {
        "id": "dwf5OEScweFP",
        "colab_type": "code",
        "colab": {
          "base_uri": "https://localhost:8080/",
          "height": 51
        },
        "outputId": "00fefb00-8e5d-48ce-ecb6-ac8f8557892f"
      },
      "source": [
        "train_loss, train_acc = model.evaluate(train_images,  train_labels, verbose=0)\n",
        "test_loss, test_acc = model.evaluate(test_images,  test_labels, verbose=0)\n",
        "print(\"Train Accuracy\",train_acc)\n",
        "print(\"Test Accuracy\",test_acc)"
      ],
      "execution_count": null,
      "outputs": [
        {
          "output_type": "stream",
          "text": [
            "Train Accuracy 0.88306665\n",
            "Test Accuracy 0.8478\n"
          ],
          "name": "stdout"
        }
      ]
    },
    {
      "cell_type": "markdown",
      "metadata": {
        "id": "RrqG_JY61mIb",
        "colab_type": "text"
      },
      "source": [
        "**Applying Bayesian Optimization**"
      ]
    },
    {
      "cell_type": "markdown",
      "metadata": {
        "id": "m87J4PKN1mXQ",
        "colab_type": "text"
      },
      "source": [
        "    Target: To find the optimal architecture for the above fitted model\n",
        "    Here we have the checked the accuracy of the model fitted using one hidden layer and 128 nodes in that layer\n",
        "    We don't have idea about how many nodes to use in the hidden layer. So here we will use Bayesian Optimization to identify the optimal number of nodes in that hidden layer"
      ]
    },
    {
      "cell_type": "markdown",
      "metadata": {
        "id": "cIUm0r6DwtDo",
        "colab_type": "text"
      },
      "source": [
        "**Defining Sample Loss Function**"
      ]
    },
    {
      "cell_type": "markdown",
      "metadata": {
        "id": "aRZGLNB_k5vs",
        "colab_type": "text"
      },
      "source": [
        "    Used the Cross validation score.\n",
        "    No of splits- 4"
      ]
    },
    {
      "cell_type": "code",
      "metadata": {
        "id": "6cEllYlN7brn",
        "colab_type": "code",
        "colab": {}
      },
      "source": [
        "def sample_loss_NN(params):\n",
        "  h1 = np.int(params[0])\n",
        "  n_split=4\n",
        "  cv_scores=[]\n",
        "\n",
        "  for train_index,test_index in KFold(n_split).split(train_images):\n",
        "    x_train,x_test=train_images[train_index],train_images[test_index]\n",
        "    y_train,y_test=train_labels[train_index],train_labels[test_index]\n",
        "  \n",
        "    model_cv=create_model(h1)\n",
        "    model_cv.fit(x_train, y_train,batch_size=512,epochs=20,verbose=0)\n",
        "  \n",
        "    #print('Model evaluation ',model_cv.evaluate(x_test,y_test))\n",
        "    cv_scores.append(model_cv.evaluate(x_test,y_test,verbose=0)[1])\n",
        "  #print(cv_scores)\n",
        "  return(np.array(cv_scores).mean())"
      ],
      "execution_count": null,
      "outputs": []
    },
    {
      "cell_type": "markdown",
      "metadata": {
        "id": "DSZw-RV_ld9F",
        "colab_type": "text"
      },
      "source": [
        "    Bounds for the parameters"
      ]
    },
    {
      "cell_type": "code",
      "metadata": {
        "id": "znYsJTYS5vww",
        "colab_type": "code",
        "colab": {
          "base_uri": "https://localhost:8080/",
          "height": 88
        },
        "outputId": "f3670c7f-a267-4e5d-a587-a94a2ec35fb6"
      },
      "source": [
        "bounds = np.array([[60,300]])\n",
        "print(bounds)\n",
        "\n",
        "xp, yp = bayesian_optimisation(n_iters=10, sample_loss=sample_loss_NN, \n",
        "                               bounds=bounds,\n",
        "                               n_pre_samples=10)\n"
      ],
      "execution_count": null,
      "outputs": [
        {
          "output_type": "stream",
          "text": [
            "[[ 60 300]]\n"
          ],
          "name": "stdout"
        },
        {
          "output_type": "stream",
          "text": [
            "/usr/local/lib/python3.6/dist-packages/sklearn/gaussian_process/gpr.py:469: ConvergenceWarning: fmin_l_bfgs_b terminated abnormally with the  state: {'grad': array([-1.43708335e-05]), 'task': b'ABNORMAL_TERMINATION_IN_LNSRCH', 'funcalls': 51, 'nit': 8, 'warnflag': 2}\n",
            "  ConvergenceWarning)\n"
          ],
          "name": "stderr"
        }
      ]
    },
    {
      "cell_type": "markdown",
      "metadata": {
        "id": "lNpn5aY1A7iO",
        "colab_type": "text"
      },
      "source": [
        "**Optimal number of nodes**"
      ]
    },
    {
      "cell_type": "code",
      "metadata": {
        "id": "7WZRQZJS_sG2",
        "colab_type": "code",
        "colab": {
          "base_uri": "https://localhost:8080/",
          "height": 34
        },
        "outputId": "d6297242-24f4-41d6-fe8d-e78a52b7d736"
      },
      "source": [
        "#print(xp)\n",
        "#print(yp)\n",
        "\n",
        "# The maximum is at:\n",
        "xp_hat = np.round(xp[np.array(yp).argmax(), :])\n",
        "\n",
        "print(np.round(xp_hat))"
      ],
      "execution_count": null,
      "outputs": [
        {
          "output_type": "stream",
          "text": [
            "[297.]\n"
          ],
          "name": "stdout"
        }
      ]
    },
    {
      "cell_type": "markdown",
      "metadata": {
        "id": "0KKs4g2BBF2t",
        "colab_type": "text"
      },
      "source": [
        "**Fitting the model with the optimal no of nodes obtained**"
      ]
    },
    {
      "cell_type": "code",
      "metadata": {
        "id": "xPOX8VULilF2",
        "colab_type": "code",
        "colab": {
          "base_uri": "https://localhost:8080/",
          "height": 34
        },
        "outputId": "bb41b08c-1f4b-41a3-d4f2-c7d9e95b1336"
      },
      "source": [
        "model_1_gp=create_model(np.round(xp_hat))\n",
        "model_1_gp.fit(train_images, train_labels, batch_size=512, epochs=30, verbose=0)"
      ],
      "execution_count": null,
      "outputs": [
        {
          "output_type": "execute_result",
          "data": {
            "text/plain": [
              "<tensorflow.python.keras.callbacks.History at 0x7f1cd38e6128>"
            ]
          },
          "metadata": {
            "tags": []
          },
          "execution_count": 13
        }
      ]
    },
    {
      "cell_type": "markdown",
      "metadata": {
        "id": "58EvDn1b9_Rh",
        "colab_type": "text"
      },
      "source": [
        "**Evaluating the model fitted using optimal no of nodes**"
      ]
    },
    {
      "cell_type": "code",
      "metadata": {
        "id": "uAvQCQZEjrvU",
        "colab_type": "code",
        "colab": {
          "base_uri": "https://localhost:8080/",
          "height": 51
        },
        "outputId": "6c51d1c3-8c61-42d0-e49c-e1b8f516af75"
      },
      "source": [
        "train_loss, train_acc = model_1_gp.evaluate(train_images,  train_labels, verbose=0)\n",
        "test_loss, test_acc = model_1_gp.evaluate(test_images,  test_labels, verbose=0)\n",
        "print(\"Train Accuracy\",train_acc)\n",
        "print(\"Test Accuracy\",test_acc)"
      ],
      "execution_count": null,
      "outputs": [
        {
          "output_type": "stream",
          "text": [
            "Train Accuracy 0.896\n",
            "Test Accuracy 0.8386\n"
          ],
          "name": "stdout"
        }
      ]
    },
    {
      "cell_type": "markdown",
      "metadata": {
        "id": "rx1Damn2wtSV",
        "colab_type": "text"
      },
      "source": [
        "    We now see the optimal architechture using 2 hidden layers\n",
        "    Here we will try to find the optimal no of nodes for each of the layers.\n",
        "    Except that we can also check for optimal batch size. But batch size of 512 is used here."
      ]
    },
    {
      "cell_type": "markdown",
      "metadata": {
        "id": "iphLzWzQB9CL",
        "colab_type": "text"
      },
      "source": [
        "**Defining 2nd model**\n",
        "\n",
        "    No of layes is 2. All other parameters are same.\n",
        "\n"
      ]
    },
    {
      "cell_type": "code",
      "metadata": {
        "id": "yxS3h0zbBOq2",
        "colab_type": "code",
        "colab": {}
      },
      "source": [
        "#one parameter, h1. It defines the no of nodes in the hidden layer.\n",
        "def create_model_2(h1,h2):\n",
        "  model = keras.Sequential([\n",
        "    keras.layers.Flatten(input_shape=(28, 28)),\n",
        "    keras.layers.Dense(h1, activation='relu'),\n",
        "    keras.layers.Dense(h2, activation='relu'),                 ### added layer\n",
        "    keras.layers.Dense(10, activation='softmax')\n",
        "  ])\n",
        "  model.compile(optimizer='adam',\n",
        "              loss='sparse_categorical_crossentropy',\n",
        "              metrics=['accuracy'])\n",
        "\n",
        "  return model"
      ],
      "execution_count": null,
      "outputs": []
    },
    {
      "cell_type": "markdown",
      "metadata": {
        "id": "6XqdiT5DxpTl",
        "colab_type": "text"
      },
      "source": [
        "**Fitting model 2 with randomly chosen number of nodes**\n",
        "\n",
        "    Here no of nodes in each hidden layer chosen as 128.\n",
        "    Activation function in both hidden layers- Relu\n",
        "    Other architecture is same as the first model"
      ]
    },
    {
      "cell_type": "code",
      "metadata": {
        "id": "sWn3Qbe4Bfrv",
        "colab_type": "code",
        "colab": {
          "base_uri": "https://localhost:8080/",
          "height": 34
        },
        "outputId": "9a200cc2-518e-4541-b108-68c06a737b83"
      },
      "source": [
        "model_2=create_model_2(128,128)\n",
        "model_2.fit(train_images, train_labels, batch_size=512, epochs=30, verbose=0)"
      ],
      "execution_count": null,
      "outputs": [
        {
          "output_type": "execute_result",
          "data": {
            "text/plain": [
              "<tensorflow.python.keras.callbacks.History at 0x7f1cd37f7668>"
            ]
          },
          "metadata": {
            "tags": []
          },
          "execution_count": 16
        }
      ]
    },
    {
      "cell_type": "markdown",
      "metadata": {
        "id": "XRxX-WMkxT6D",
        "colab_type": "text"
      },
      "source": [
        "**Evaluating Model 2**"
      ]
    },
    {
      "cell_type": "code",
      "metadata": {
        "id": "djcBeySJBf4G",
        "colab_type": "code",
        "colab": {
          "base_uri": "https://localhost:8080/",
          "height": 51
        },
        "outputId": "eb7562b9-b2b5-4824-d23b-c85cee7a774a"
      },
      "source": [
        "train_loss, train_acc = model_2.evaluate(train_images,  train_labels, verbose=0)\n",
        "test_loss, test_acc = model_2.evaluate(test_images,  test_labels, verbose=0)\n",
        "print(\"Train Accuracy\",train_acc)\n",
        "print(\"Test Accuracy\",test_acc)"
      ],
      "execution_count": null,
      "outputs": [
        {
          "output_type": "stream",
          "text": [
            "Train Accuracy 0.8933167\n",
            "Test Accuracy 0.8364\n"
          ],
          "name": "stdout"
        }
      ]
    },
    {
      "cell_type": "markdown",
      "metadata": {
        "id": "reDP4yOs0N6c",
        "colab_type": "text"
      },
      "source": [
        "**Applying Bayes optimization**"
      ]
    },
    {
      "cell_type": "markdown",
      "metadata": {
        "id": "ALs5zMbmwhF4",
        "colab_type": "text"
      },
      "source": [
        "**Defining sample loss function**\n",
        "\n",
        "    Same as the first model.\n",
        "    Cross validation score is used."
      ]
    },
    {
      "cell_type": "code",
      "metadata": {
        "id": "NzjtaYheBgGO",
        "colab_type": "code",
        "colab": {}
      },
      "source": [
        "def sample_loss_2(params):\n",
        "  h1 = np.int(params[0])\n",
        "  h2 = np.int(params[1])\n",
        "\n",
        "  n_split=4\n",
        "  cv_scores=[]\n",
        "\n",
        "  for train_index,test_index in KFold(n_split).split(train_images):\n",
        "    x_train,x_test=train_images[train_index],train_images[test_index]\n",
        "    y_train,y_test=train_labels[train_index],train_labels[test_index]\n",
        "  \n",
        "    model_cv=create_model_2(h1,h2)\n",
        "    model_cv.fit(x_train, y_train,batch_size=512,epochs=20,verbose=0)\n",
        "  \n",
        "    #print('Model evaluation ',model_cv.evaluate(x_test,y_test))\n",
        "    cv_scores.append(model_cv.evaluate(x_test,y_test,verbose=0)[1])\n",
        "  #print(cv_scores)\n",
        "  return(np.array(cv_scores).mean())"
      ],
      "execution_count": null,
      "outputs": []
    },
    {
      "cell_type": "code",
      "metadata": {
        "id": "FfS4-moqBO_0",
        "colab_type": "code",
        "colab": {
          "base_uri": "https://localhost:8080/",
          "height": 71
        },
        "outputId": "065a57d2-bb0a-4185-aca0-6ed78d8bd97f"
      },
      "source": [
        "bounds = np.array([[60,300],[60,300]])\n",
        "#print(bounds)\n",
        "\n",
        "xp, yp = bayesian_optimisation(n_iters=10, sample_loss=sample_loss_NN, \n",
        "                               bounds=bounds,\n",
        "                               n_pre_samples=10)\n"
      ],
      "execution_count": null,
      "outputs": [
        {
          "output_type": "stream",
          "text": [
            "/usr/local/lib/python3.6/dist-packages/sklearn/gaussian_process/gpr.py:469: ConvergenceWarning: fmin_l_bfgs_b terminated abnormally with the  state: {'grad': array([1.22748914e-05]), 'task': b'ABNORMAL_TERMINATION_IN_LNSRCH', 'funcalls': 48, 'nit': 7, 'warnflag': 2}\n",
            "  ConvergenceWarning)\n"
          ],
          "name": "stderr"
        }
      ]
    },
    {
      "cell_type": "markdown",
      "metadata": {
        "id": "hds4z75BGKJ9",
        "colab_type": "text"
      },
      "source": [
        "**Optimal no of nodes**"
      ]
    },
    {
      "cell_type": "code",
      "metadata": {
        "id": "JhzXJFXRvgtU",
        "colab_type": "code",
        "colab": {
          "base_uri": "https://localhost:8080/",
          "height": 34
        },
        "outputId": "e1901998-58f0-457a-d917-abfc5392febc"
      },
      "source": [
        "xp_hat = np.round(xp[np.array(yp).argmax(), :])\n",
        "\n",
        "print(np.round(xp_hat))"
      ],
      "execution_count": null,
      "outputs": [
        {
          "output_type": "stream",
          "text": [
            "[297. 279.]\n"
          ],
          "name": "stdout"
        }
      ]
    },
    {
      "cell_type": "markdown",
      "metadata": {
        "id": "wzqPudPKwSvz",
        "colab_type": "text"
      },
      "source": [
        "**Fitting and evaluating Model 2 with optimal architechture for model 2**"
      ]
    },
    {
      "cell_type": "code",
      "metadata": {
        "id": "fL8z0HouvnPD",
        "colab_type": "code",
        "colab": {
          "base_uri": "https://localhost:8080/",
          "height": 34
        },
        "outputId": "5866120f-5b0b-4a1e-dde6-651635896701"
      },
      "source": [
        "model_2_gp=create_model_2(xp_hat[0],xp_hat[1])\n",
        "model_2_gp.fit(train_images, train_labels, batch_size=512, epochs=30, verbose=0)"
      ],
      "execution_count": null,
      "outputs": [
        {
          "output_type": "execute_result",
          "data": {
            "text/plain": [
              "<tensorflow.python.keras.callbacks.History at 0x7f1cd0047978>"
            ]
          },
          "metadata": {
            "tags": []
          },
          "execution_count": 22
        }
      ]
    },
    {
      "cell_type": "code",
      "metadata": {
        "id": "b7yXZLGKwEpg",
        "colab_type": "code",
        "colab": {
          "base_uri": "https://localhost:8080/",
          "height": 51
        },
        "outputId": "a04d5e0d-d29b-4942-fd12-0da964abaa9f"
      },
      "source": [
        "train_loss, train_acc = model_2_gp.evaluate(train_images,  train_labels, verbose=0)\n",
        "test_loss, test_acc = model_2_gp.evaluate(test_images,  test_labels, verbose=0)\n",
        "print(\"Train Accuracy\",train_acc)\n",
        "print(\"Test Accuracy\",test_acc)"
      ],
      "execution_count": null,
      "outputs": [
        {
          "output_type": "stream",
          "text": [
            "Train Accuracy 0.9209167\n",
            "Test Accuracy 0.8632\n"
          ],
          "name": "stdout"
        }
      ]
    },
    {
      "cell_type": "markdown",
      "metadata": {
        "id": "sA1n_CbPyoAc",
        "colab_type": "text"
      },
      "source": [
        "    We see for both the models,(model 1 with one hidden layer and model 2 with 2 hidden layers), using Bayes Optimization we have found the optimal no of nodes. \n",
        "\n",
        "    The accuracy has increased in both train and test data in case of both the models."
      ]
    }
  ]
}