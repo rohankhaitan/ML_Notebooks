{
 "cells": [
  {
   "cell_type": "markdown",
   "metadata": {
    "application/vnd.databricks.v1+cell": {
     "inputWidgets": {},
     "nuid": "55cd9a79-eebc-422e-aa1a-fd5be633e907",
     "showTitle": false,
     "title": ""
    }
   },
   "source": [
    "### Data Validation"
   ]
  },
  {
   "cell_type": "markdown",
   "metadata": {
    "application/vnd.databricks.v1+cell": {
     "inputWidgets": {},
     "nuid": "5c6273f5-b20d-4877-a748-2b482cb11127",
     "showTitle": false,
     "title": ""
    }
   },
   "source": [
    "##### Import Libraries"
   ]
  },
  {
   "cell_type": "code",
   "execution_count": null,
   "metadata": {
    "application/vnd.databricks.v1+cell": {
     "inputWidgets": {},
     "nuid": "922e4a4a-ea1e-4b26-b368-095ac2e2f2ec",
     "showTitle": false,
     "title": ""
    }
   },
   "outputs": [
    {
     "data": {
      "text/html": [
       "<style scoped>\n",
       "  .ansiout {\n",
       "    display: block;\n",
       "    unicode-bidi: embed;\n",
       "    white-space: pre-wrap;\n",
       "    word-wrap: break-word;\n",
       "    word-break: break-all;\n",
       "    font-family: \"Source Code Pro\", \"Menlo\", monospace;;\n",
       "    font-size: 13px;\n",
       "    color: #555;\n",
       "    margin-left: 4px;\n",
       "    line-height: 19px;\n",
       "  }\n",
       "</style>\n",
       "<div class=\"ansiout\"></div>"
      ]
     },
     "metadata": {
      "application/vnd.databricks.v1+output": {
       "addedWidgets": {},
       "arguments": {},
       "data": "<div class=\"ansiout\"></div>",
       "datasetInfos": [],
       "removedWidgets": [],
       "type": "html"
      }
     },
     "output_type": "display_data"
    }
   ],
   "source": [
    "import os\n",
    "import json\n",
    "from pyspark.sql.types import *\n",
    "from pyspark.sql import functions as F\n",
    "import matplotlib.pyplot as plt\n",
    "import numpy as np\n",
    "import pandas as pd  \n",
    "from random import sample "
   ]
  },
  {
   "cell_type": "markdown",
   "metadata": {
    "application/vnd.databricks.v1+cell": {
     "inputWidgets": {},
     "nuid": "bd54511c-3739-4401-9e56-4ab7a09cef1f",
     "showTitle": false,
     "title": ""
    }
   },
   "source": [
    "#### Config\n",
    "\n",
    "(Provide the Data Paths, Directory path for results and data fromat if it is not \"delta\")"
   ]
  },
  {
   "cell_type": "code",
   "execution_count": null,
   "metadata": {
    "application/vnd.databricks.v1+cell": {
     "inputWidgets": {},
     "nuid": "7439bc12-2e7f-41c5-ad35-388ca8df929a",
     "showTitle": false,
     "title": ""
    }
   },
   "outputs": [
    {
     "data": {
      "text/html": [
       "<style scoped>\n",
       "  .ansiout {\n",
       "    display: block;\n",
       "    unicode-bidi: embed;\n",
       "    white-space: pre-wrap;\n",
       "    word-wrap: break-word;\n",
       "    word-break: break-all;\n",
       "    font-family: \"Source Code Pro\", \"Menlo\", monospace;;\n",
       "    font-size: 13px;\n",
       "    color: #555;\n",
       "    margin-left: 4px;\n",
       "    line-height: 19px;\n",
       "  }\n",
       "</style>\n",
       "<div class=\"ansiout\"></div>"
      ]
     },
     "metadata": {
      "application/vnd.databricks.v1+output": {
       "addedWidgets": {},
       "arguments": {},
       "data": "<div class=\"ansiout\"></div>",
       "datasetInfos": [],
       "removedWidgets": [],
       "type": "html"
      }
     },
     "output_type": "display_data"
    }
   ],
   "source": [
    "# Define Data Paths\n",
    "\n",
    "base_data_path = '/mnt/data_timepoint1'\n",
    "\n",
    "data_to_validate_path = '/mnt/data_timepoint2'\n",
    "\n",
    "# Define Data Format (delta/csv/..)\n",
    "\n",
    "data_format = \"delta\"\n",
    "\n",
    "# Define directory to store results\n",
    "\n",
    "dir_path = \"/mnt\"\n",
    "\n",
    "###----------------------------------- Optional ------------------------------------------\n",
    "\n",
    "## Change criterion & threshold values as needed\n",
    "\n",
    "threshold_setting = {  \"Data Type\" : {'criterion': \"equality\"},\n",
    "                     \n",
    "                       \"Data size\" : {'criterion': \"equality\"},\n",
    "                     \n",
    "                       \"No of Features\" : {'criterion': \"equality\"},\n",
    "                     \n",
    "                       \"Presence\"  : {'criterion': \"within\", \n",
    "                                      \"Min_fraction\" : {'criterion': \"reverse_difference\",\n",
    "                                                        'value' : 0.05}},\n",
    "                     \n",
    "                       'isComplete' : {'criterion': \"equality\"},\n",
    "                     \n",
    "                       'isPositive' : {'criterion': \"equality\"},\n",
    "                     \n",
    "                       'Minimum' : {'criterion': \"less than\"},\n",
    "                     \n",
    "                       \"Average\"   : {'criterion': \"ratio\",\n",
    "                                      'value': 1.5},\n",
    "                     \n",
    "                       'Standard Deviation' : {'criterion': \"ratio\",\n",
    "                                               'value': 2},\n",
    "                     \n",
    "                       'Range' : {'criterion': \"inRange\",\n",
    "                                  'value': 1.5},\n",
    "                     \n",
    "                       'Skewness' : {'criterion': \"ratio\",\n",
    "                                     'value': 1.5},\n",
    "                     \n",
    "                       \"Mininum_categories\" : {'criterion': \"less_than\"}}\n",
    "\n",
    "\n",
    "## Provide the columns/features of interest (if any)\n",
    "\n",
    "drift_for_particular_features_only = []\n",
    "\n",
    "\n",
    "## To update any rules (either standard values for a feature or the threshold used for the feature)\n",
    "\n",
    "change_default_standard_values_for_features = {}  # Eg -  {\"Age\", {\"Mean\": 23,...}}\n",
    "\n",
    "change_default_threshold_for_features = {} # Eg - {\"Age\": {\"Mean\": {\"Criterion\": 'ratio', 'value': 1.5}}, \"Height\" : {...}} (for any feature and stat, set the                                                      criterion and value)"
   ]
  },
  {
   "cell_type": "markdown",
   "metadata": {
    "application/vnd.databricks.v1+cell": {
     "inputWidgets": {},
     "nuid": "4fb500b2-35ea-47a3-8d53-c332eb05abcd",
     "showTitle": false,
     "title": ""
    }
   },
   "source": [
    "#### Read Data"
   ]
  },
  {
   "cell_type": "code",
   "execution_count": null,
   "metadata": {
    "application/vnd.databricks.v1+cell": {
     "inputWidgets": {},
     "nuid": "4e4d988a-89fd-4af8-b615-0329742e2aaf",
     "showTitle": false,
     "title": ""
    }
   },
   "outputs": [
    {
     "data": {
      "text/html": [
       "<style scoped>\n",
       "  .ansiout {\n",
       "    display: block;\n",
       "    unicode-bidi: embed;\n",
       "    white-space: pre-wrap;\n",
       "    word-wrap: break-word;\n",
       "    word-break: break-all;\n",
       "    font-family: \"Source Code Pro\", \"Menlo\", monospace;;\n",
       "    font-size: 13px;\n",
       "    color: #555;\n",
       "    margin-left: 4px;\n",
       "    line-height: 19px;\n",
       "  }\n",
       "</style>\n",
       "<div class=\"ansiout\"></div>"
      ]
     },
     "metadata": {
      "application/vnd.databricks.v1+output": {
       "addedWidgets": {},
       "arguments": {},
       "data": "<div class=\"ansiout\"></div>",
       "datasetInfos": [],
       "removedWidgets": [],
       "type": "html"
      }
     },
     "output_type": "display_data"
    }
   ],
   "source": [
    "sdf = spark.read.format(data_format).load(base_data_path)"
   ]
  },
  {
   "cell_type": "markdown",
   "metadata": {
    "application/vnd.databricks.v1+cell": {
     "inputWidgets": {},
     "nuid": "87795bb7-5878-4bef-a294-fa91833980f1",
     "showTitle": false,
     "title": ""
    }
   },
   "source": [
    "### Create Rules"
   ]
  },
  {
   "cell_type": "code",
   "execution_count": null,
   "metadata": {
    "application/vnd.databricks.v1+cell": {
     "inputWidgets": {},
     "nuid": "250753ff-a951-422b-b7ed-9fb0a1623392",
     "showTitle": false,
     "title": ""
    }
   },
   "outputs": [
    {
     "data": {
      "text/html": [
       "<style scoped>\n",
       "  .ansiout {\n",
       "    display: block;\n",
       "    unicode-bidi: embed;\n",
       "    white-space: pre-wrap;\n",
       "    word-wrap: break-word;\n",
       "    word-break: break-all;\n",
       "    font-family: \"Source Code Pro\", \"Menlo\", monospace;;\n",
       "    font-size: 13px;\n",
       "    color: #555;\n",
       "    margin-left: 4px;\n",
       "    line-height: 19px;\n",
       "  }\n",
       "</style>\n",
       "<div class=\"ansiout\"></div>"
      ]
     },
     "metadata": {
      "application/vnd.databricks.v1+output": {
       "addedWidgets": {},
       "arguments": {},
       "data": "<div class=\"ansiout\"></div>",
       "datasetInfos": [],
       "removedWidgets": [],
       "type": "html"
      }
     },
     "output_type": "display_data"
    }
   ],
   "source": [
    "def create_rules(statistics, default_threshold_setting = threshold_setting):\n",
    "  \n",
    "  rules_dic = {\"Dataset\": {}, \"Numerical\":{}, \"Categorical\": {}}\n",
    "  \n",
    "  dataset_stat_keys= [\"Data size\",\n",
    "                      \"No of Features\"]\n",
    "  \n",
    "  numerical_stat_keys = [\"Data Type\",\n",
    "                         \"Presence\",\n",
    "                         \"Average\",\n",
    "                         'Standard Deviation',\n",
    "                         'Range',\n",
    "                         'Skewness',\n",
    "                         'isPositive',\n",
    "                         'isComplete']\n",
    "\n",
    "        \n",
    "  categorical_stat_keys = [\"Data Type\",\n",
    "                           \"Presence\",\n",
    "                           \"Mininum_categories\",\n",
    "                           'isComplete']\n",
    "\n",
    "  \n",
    "  #-----------------------------------------Function to compute other required Statistics -----------------------------------------------\n",
    "  \n",
    "  \n",
    "  def generate_stat(stats, key):\n",
    "    \n",
    "    if key == \"Range\":\n",
    "      \n",
    "      return ([stats[\"Minimum\"], stats['Maximum']])\n",
    "    \n",
    "    elif key ==\"isComplete\":\n",
    "      \n",
    "      if int(stats[\"Missing Value Percentage\"]) == 0 :\n",
    "          \n",
    "          return True\n",
    "        \n",
    "      else:\n",
    "          \n",
    "          return False\n",
    "    \n",
    "    elif key == \"Presence\":\n",
    "      \n",
    "      return {\"Min_fraction\" : (1 - stats[\"Missing Value Percentage\"] /100)}\n",
    "    \n",
    "    elif key == \"isPositive\":\n",
    "      \n",
    "      if int(stats[\"Minimum\"]) >= 0 :\n",
    "          \n",
    "          return True\n",
    "        \n",
    "      else:\n",
    "          \n",
    "          return False      \n",
    "    \n",
    "    elif key ==\"Mininum_categories\":\n",
    "      \n",
    "      return stats[\"No of Distinct Categories\"]\n",
    "    \n",
    "    elif key == \"isContainedIn\" :\n",
    "      \n",
    "      return stats[\"distinct_categories\"]\n",
    "  \n",
    "  #----------------------------------------------------------Define Threshold---------------------------------------------------------------------\n",
    "  \n",
    "  rules_dic[\"Threshold\"] = {\"Dataset\": {k : default_threshold_setting[k]  for k in dataset_stat_keys},\n",
    "                            \n",
    "                              \n",
    "                            \"Numerical\" : {\"Feature-wise\": {feat: {k : default_threshold_setting[k]  for k in numerical_stat_keys} for feat in statistics['Numerical'].keys()},\n",
    "                              \n",
    "                              \n",
    "                                            \"Global\": {k : default_threshold_setting[k]  for k in numerical_stat_keys}},\n",
    "                            \n",
    "                            \"Categorical\" : {\"Feature-wise\": {feat: {k : default_threshold_setting[k]  for k in categorical_stat_keys} for feat in statistics['Categorical'].keys()},\n",
    "                              \n",
    "                              \"Global\": {k : default_threshold_setting[k]  for k in categorical_stat_keys}}}\n",
    "\n",
    "                            \n",
    "                            \n",
    "  #--------------------------------------- Generate Rules from Statistics ----------------------------------------------\n",
    "  \n",
    "  for  key in statistics.keys():\n",
    "    \n",
    "    if key == \"Numerical\":\n",
    "      \n",
    "      for feature in statistics[\"Numerical\"].keys():\n",
    "        \n",
    "        rules_dic[\"Numerical\"][feature] = {}\n",
    "        \n",
    "        for k in numerical_stat_keys:\n",
    "          \n",
    "          try:\n",
    "\n",
    "            rules_dic[\"Numerical\"][feature][k] = statistics[\"Numerical\"][feature][k]\n",
    "          \n",
    "          except:\n",
    "            \n",
    "            rules_dic[\"Numerical\"][feature][k] = generate_stat(statistics[\"Numerical\"][feature], k)\n",
    "            \n",
    "            \n",
    "    elif key == \"Categorical\":\n",
    "      \n",
    "      for feature in statistics[\"Categorical\"].keys():\n",
    "        \n",
    "        rules_dic[\"Categorical\"][feature] = {}\n",
    "        \n",
    "        for k in categorical_stat_keys:\n",
    "            \n",
    "          try:\n",
    "          \n",
    "            rules_dic[\"Categorical\"][feature][k] = statistics[\"Categorical\"][feature][k]\n",
    "          \n",
    "          except:\n",
    "            \n",
    "            rules_dic[\"Categorical\"][feature][k] = generate_stat(statistics[\"Categorical\"][feature], k)\n",
    "    \n",
    "    else:\n",
    "        \n",
    "        rules_dic[\"Dataset\"] = {k : statistics[\"Dataset\"][k]  for k in dataset_stat_keys}\n",
    "  \n",
    "  return rules_dic"
   ]
  },
  {
   "cell_type": "markdown",
   "metadata": {
    "application/vnd.databricks.v1+cell": {
     "inputWidgets": {},
     "nuid": "04c59091-b344-4af7-88e4-27a7ce4bccc0",
     "showTitle": false,
     "title": ""
    }
   },
   "source": [
    "#### Update Rules Function"
   ]
  },
  {
   "cell_type": "code",
   "execution_count": null,
   "metadata": {
    "application/vnd.databricks.v1+cell": {
     "inputWidgets": {},
     "nuid": "76ec8645-a1e7-4199-a013-425fb94ec22a",
     "showTitle": false,
     "title": ""
    }
   },
   "outputs": [
    {
     "data": {
      "text/html": [
       "<style scoped>\n",
       "  .ansiout {\n",
       "    display: block;\n",
       "    unicode-bidi: embed;\n",
       "    white-space: pre-wrap;\n",
       "    word-wrap: break-word;\n",
       "    word-break: break-all;\n",
       "    font-family: \"Source Code Pro\", \"Menlo\", monospace;;\n",
       "    font-size: 13px;\n",
       "    color: #555;\n",
       "    margin-left: 4px;\n",
       "    line-height: 19px;\n",
       "  }\n",
       "</style>\n",
       "<div class=\"ansiout\"></div>"
      ]
     },
     "metadata": {
      "application/vnd.databricks.v1+output": {
       "addedWidgets": {},
       "arguments": {},
       "data": "<div class=\"ansiout\"></div>",
       "datasetInfos": [],
       "removedWidgets": [],
       "type": "html"
      }
     },
     "output_type": "display_data"
    }
   ],
   "source": [
    "def update_rules(rules, feature_name, dic, threshold = False):\n",
    "  \n",
    "  if threshold == False:\n",
    "    \n",
    "    if feature_name in rules[\"Numerical\"].keys():\n",
    "      \n",
    "      for k in dic.keys():\n",
    "\n",
    "        rules[\"Numerical\"][feature_name][k] = dic[k]\n",
    "\n",
    "    elif feature_name in rules[\"Categorical\"].keys():\n",
    "\n",
    "      for k in dic.keys():\n",
    "\n",
    "        rules[\"Categorical\"][feature_name][k] = dic[k]\n",
    "        \n",
    "    else:\n",
    "\n",
    "      print(\"Wrong Feature Name provided to update the Rules\")\n",
    "      print(\"Name provided:\", feature_name)\n",
    "      \n",
    "  elif threshold == True:\n",
    "    \n",
    "    if feature_name in rules['Threshold'][\"Numerical\"]['Feature-wise'].keys():\n",
    "      \n",
    "      for k in dic.keys():\n",
    "\n",
    "        rules['Threshold'][\"Numerical\"]['Feature-wise'][feature_name][k] = dic[k]\n",
    "        \n",
    "    elif feature_name in rules['Threshold'][\"Categorical\"]['Feature-wise'].keys():\n",
    "      \n",
    "      for k in dic.keys():\n",
    "\n",
    "        rules['Threshold'][\"Categorical\"]['Feature-wise'][feature_name][k] = dic[k]\n",
    "\n",
    "    else:\n",
    "\n",
    "      print(\"Wrong Feature Name provided to update the Threshold Rules\")\n",
    "      print(\"Name provided:\", feature_name)\n",
    "  \n",
    "  return rules"
   ]
  },
  {
   "cell_type": "markdown",
   "metadata": {
    "application/vnd.databricks.v1+cell": {
     "inputWidgets": {},
     "nuid": "838f2a48-f6c9-45a0-ac42-d71c7b79b9ea",
     "showTitle": false,
     "title": ""
    }
   },
   "source": [
    "#### Anomaly Message Function"
   ]
  },
  {
   "cell_type": "code",
   "execution_count": null,
   "metadata": {
    "application/vnd.databricks.v1+cell": {
     "inputWidgets": {},
     "nuid": "6c6276a0-511f-49a7-8902-d433a00741c9",
     "showTitle": false,
     "title": ""
    }
   },
   "outputs": [
    {
     "data": {
      "text/html": [
       "<style scoped>\n",
       "  .ansiout {\n",
       "    display: block;\n",
       "    unicode-bidi: embed;\n",
       "    white-space: pre-wrap;\n",
       "    word-wrap: break-word;\n",
       "    word-break: break-all;\n",
       "    font-family: \"Source Code Pro\", \"Menlo\", monospace;;\n",
       "    font-size: 13px;\n",
       "    color: #555;\n",
       "    margin-left: 4px;\n",
       "    line-height: 19px;\n",
       "  }\n",
       "</style>\n",
       "<div class=\"ansiout\"></div>"
      ]
     },
     "metadata": {
      "application/vnd.databricks.v1+output": {
       "addedWidgets": {},
       "arguments": {},
       "data": "<div class=\"ansiout\"></div>",
       "datasetInfos": [],
       "removedWidgets": [],
       "type": "html"
      }
     },
     "output_type": "display_data"
    }
   ],
   "source": [
    "def anomaly_message(dic, Type, detailed_msg = False, default_setting = threshold_setting):\n",
    "  \n",
    "  if Type in default_setting.keys():\n",
    "    \n",
    "    try:\n",
    "    \n",
    "      obs = dic[Type][\"Observed\"]\n",
    "      exp = dic[Type][\"Expected\"]\n",
    "      \n",
    "    except:\n",
    "      \n",
    "      pass\n",
    "      \n",
    "  \n",
    "  else:\n",
    "    \n",
    "    return\n",
    "  \n",
    "  if Type == \"Data size\":\n",
    "    \n",
    "    print(\"\\t** Significant Change in  No of Rows/Data Points\")\n",
    "    \n",
    "    if detailed_msg == True :\n",
    "      \n",
    "      if  obs >  exp:\n",
    "        \n",
    "        print(\"\\t\\t- No of Rows/Data Points has increased from {} to {}\\n\".format(exp, obs))\n",
    "      \n",
    "      else:\n",
    "        \n",
    "        print(\"\\t\\t- No of Rows/Data Points has decreased from {} to {}\\n\".format(exp, obs))\n",
    "        \n",
    "  \n",
    "  elif Type == \"No of Features\":\n",
    "    \n",
    "    print(\"\\t** Significant Change in  No of Columns/Features\")\n",
    "    \n",
    "    if detailed_msg == True :\n",
    "      \n",
    "      if  obs >  exp:\n",
    "        \n",
    "        print(\"\\t\\t- No of Columns/Features has increased from {} to {}\\n\".format(exp, obs))\n",
    "      \n",
    "      else:\n",
    "        \n",
    "        print(\"\\t\\t- No of Columns/Features has decreased from {} to {}\\n\".format(exp, obs))\n",
    "  \n",
    "  elif Type == \"Data Type\":\n",
    "    \n",
    "    print(\"\\t** Data Type of the Column/Feature has changed\")\n",
    "    \n",
    "    if detailed_msg == True :\n",
    "      \n",
    "      print(\"\\t\\t-{} Type when expected {} Type\\n\".format(obs, exp))\n",
    "    \n",
    "  elif Type == \"Presence\":\n",
    "    \n",
    "    for k in dic[Type].keys():\n",
    "      \n",
    "      if k == \"Min_fraction\":\n",
    "        \n",
    "        print(\"\\t** The fraction of examples containing the feature is too small\")\n",
    "        \n",
    "        if detailed_msg == True :\n",
    "          \n",
    "          print(\"\\t\\t- Expected atleast {} fraction of Examples but observed {}\\n\".format(dic[Type][k][\"Expected\"], dic[Type][k][\"Observed\"]))\n",
    "  \n",
    "  elif Type == 'isComplete':\n",
    "    \n",
    "    print(\"\\t** The feature/columnn has Missing values whereas there should be no Missing value\")\n",
    "    \n",
    "  elif Type == 'isPositive':\n",
    "    \n",
    "    print(\"\\t** The feature is supposed to have positive/zero values but there are some Negative values\")\n",
    "    \n",
    "  elif Type == \"Mininum_categories\":\n",
    "    \n",
    "    print(\"\\t** The Feature has less no of Categories than expected\")\n",
    "    \n",
    "    if detailed_msg == True :\n",
    "      \n",
    "      print(\"\\t\\t- Expected atleast {} Categories but {} Categories present\\n\".format(exp, obs))\n",
    "      \n",
    "  elif Type == \"Average\":\n",
    "    \n",
    "    print(\"\\t** The Feature Mean has changed Significantly\")\n",
    "    \n",
    "    if detailed_msg == True :\n",
    "      \n",
    "      print(\"\\t\\t- The Feature Mean has changed from {} to {}\\n\".format(exp, obs))\n",
    "    \n",
    "  elif Type == \"Standard Deviation\":\n",
    "    \n",
    "    print(\"\\t** The Feature Standard Deviation has changed Significantly\")\n",
    "    \n",
    "    if detailed_msg == True :\n",
    "      \n",
    "      print(\"\\t\\t- The Feature SD has changed from {} to {}\\n\".format(exp, obs))\n",
    "  \n",
    "  \n",
    "  elif Type == \"Skewness\":\n",
    "    \n",
    "    print(\"\\t** The Skewness of the Feature has changed Significantly\")\n",
    "    \n",
    "    if detailed_msg == True :\n",
    "      \n",
    "      print(\"\\t\\t- The Skewness has changed from {} to {}\\n\".format(exp, obs))\n",
    "      \n",
    "  elif Type ==\"Range\":\n",
    "    \n",
    "    print(\"\\t** Some values found to be outside the Range of Feature\")\n",
    "      \n",
    "  else:\n",
    "    \n",
    "    print(\"Anomaly is there. Detailed msg is not there\")"
   ]
  },
  {
   "cell_type": "markdown",
   "metadata": {
    "application/vnd.databricks.v1+cell": {
     "inputWidgets": {},
     "nuid": "1ba889a1-b7d7-4cf8-ac22-32001315a4dd",
     "showTitle": false,
     "title": ""
    }
   },
   "source": [
    "#### Function for Numerical Statistics"
   ]
  },
  {
   "cell_type": "code",
   "execution_count": null,
   "metadata": {
    "application/vnd.databricks.v1+cell": {
     "inputWidgets": {},
     "nuid": "d6f20c14-3e6f-4629-8f0c-edfe2ee9c6d7",
     "showTitle": false,
     "title": ""
    }
   },
   "outputs": [
    {
     "data": {
      "text/html": [
       "<style scoped>\n",
       "  .ansiout {\n",
       "    display: block;\n",
       "    unicode-bidi: embed;\n",
       "    white-space: pre-wrap;\n",
       "    word-wrap: break-word;\n",
       "    word-break: break-all;\n",
       "    font-family: \"Source Code Pro\", \"Menlo\", monospace;;\n",
       "    font-size: 13px;\n",
       "    color: #555;\n",
       "    margin-left: 4px;\n",
       "    line-height: 19px;\n",
       "  }\n",
       "</style>\n",
       "<div class=\"ansiout\"></div>"
      ]
     },
     "metadata": {
      "application/vnd.databricks.v1+output": {
       "addedWidgets": {},
       "arguments": {},
       "data": "<div class=\"ansiout\"></div>",
       "datasetInfos": [],
       "removedWidgets": [],
       "type": "html"
      }
     },
     "output_type": "display_data"
    }
   ],
   "source": [
    "def num_stat_fn(df, num_features):\n",
    "  \n",
    "  stat_dic = {}\n",
    "  dtype_dic = dict(df.dtypes)\n",
    "\n",
    "  \n",
    "  for feature in num_features:\n",
    "    \n",
    "    df_stats = df.select(\n",
    "    F.mean(F.col(feature)).alias('mean'),\n",
    "    F.stddev(F.col(feature)).alias('std'),\n",
    "    F.min(F.col(feature)).alias('min'),\n",
    "    F.max(F.col(feature)).alias('max'),\n",
    "    F.count(F.col(feature)).alias('count'),\n",
    "    F.skewness(F.col(feature)).alias('skewness'),\n",
    "    F.kurtosis(F.col(feature)).alias('kurtosis'),\n",
    "    F.count(F.when(F.isnan(feature) | F.col(feature).isNull(), feature)).alias(\"missing_val\")\n",
    ").collect()\n",
    "    \n",
    "    stat_dic[feature] = {\"Feature Type\": \"Numerical\",\n",
    "                         \"Data Type\": dtype_dic[feature],\n",
    "                         \"Count\": df_stats[0][\"count\"],\"Average\": df_stats[0][\"mean\"],\n",
    "                         \"Standard Deviation\":df_stats[0][\"std\"],\n",
    "                         \"Minimum\": df_stats[0][\"min\"],\n",
    "                         \"Maximum\": df_stats[0][\"max\"],\n",
    "                         \"Skewness\": df_stats[0][\"skewness\"],\n",
    "                         \"Kurtosis\": df_stats[0][\"kurtosis\"],\n",
    "                         \"Missing Value Percentage\": (df_stats[0][\"missing_val\"]) * 100/df.count()}\n",
    "  \n",
    "  return stat_dic"
   ]
  },
  {
   "cell_type": "markdown",
   "metadata": {
    "application/vnd.databricks.v1+cell": {
     "inputWidgets": {},
     "nuid": "5214b2c5-66a9-4cb6-80d5-55fd1319c267",
     "showTitle": false,
     "title": ""
    }
   },
   "source": [
    "#### Function for Categorical Statistics"
   ]
  },
  {
   "cell_type": "code",
   "execution_count": null,
   "metadata": {
    "application/vnd.databricks.v1+cell": {
     "inputWidgets": {},
     "nuid": "bf9a1b4f-1b61-477f-9cb3-f58b1d4b0c9a",
     "showTitle": false,
     "title": ""
    }
   },
   "outputs": [
    {
     "data": {
      "text/html": [
       "<style scoped>\n",
       "  .ansiout {\n",
       "    display: block;\n",
       "    unicode-bidi: embed;\n",
       "    white-space: pre-wrap;\n",
       "    word-wrap: break-word;\n",
       "    word-break: break-all;\n",
       "    font-family: \"Source Code Pro\", \"Menlo\", monospace;;\n",
       "    font-size: 13px;\n",
       "    color: #555;\n",
       "    margin-left: 4px;\n",
       "    line-height: 19px;\n",
       "  }\n",
       "</style>\n",
       "<div class=\"ansiout\"></div>"
      ]
     },
     "metadata": {
      "application/vnd.databricks.v1+output": {
       "addedWidgets": {},
       "arguments": {},
       "data": "<div class=\"ansiout\"></div>",
       "datasetInfos": [],
       "removedWidgets": [],
       "type": "html"
      }
     },
     "output_type": "display_data"
    }
   ],
   "source": [
    "def cat_stat_fn(df, cat_features):\n",
    "  \n",
    "  stat_dic = {}\n",
    "  dtype_dic = dict(df.dtypes)\n",
    "  \n",
    "  for feature in cat_features:\n",
    "    \n",
    "    df_stats = df.select(\n",
    "    F.count(F.col(feature)).alias('count'),\n",
    "    F.count(F.when(F.isnan(feature) | F.col(feature).isNull(), feature)).alias(\"missing_val\"),\n",
    "    F.countDistinct(F.col(feature)).alias(\"categories\")\n",
    ").collect()\n",
    "    \n",
    "    stat_dic[feature] = {\"Feature Type\": \"Categorical\",\n",
    "                         \"Data Type\": dtype_dic[feature],\n",
    "                         \"Count\": df_stats[0][\"count\"],\n",
    "                         \"No of Distinct Categories\": df_stats[0][\"categories\"],\n",
    "                         \"Missing Value Percentage\": (df_stats[0][\"missing_val\"]) * 100 /df.count()}\n",
    "  \n",
    "  return stat_dic"
   ]
  },
  {
   "cell_type": "markdown",
   "metadata": {
    "application/vnd.databricks.v1+cell": {
     "inputWidgets": {},
     "nuid": "11e0900a-f9a6-4511-87a3-2e8d56ce8785",
     "showTitle": false,
     "title": ""
    }
   },
   "source": [
    "#### Separate Numerical & Categorical Features"
   ]
  },
  {
   "cell_type": "code",
   "execution_count": null,
   "metadata": {
    "application/vnd.databricks.v1+cell": {
     "inputWidgets": {},
     "nuid": "c1567d71-5655-4d4f-b0dc-3139dbdfd0ae",
     "showTitle": false,
     "title": ""
    }
   },
   "outputs": [
    {
     "data": {
      "text/html": [
       "<style scoped>\n",
       "  .ansiout {\n",
       "    display: block;\n",
       "    unicode-bidi: embed;\n",
       "    white-space: pre-wrap;\n",
       "    word-wrap: break-word;\n",
       "    word-break: break-all;\n",
       "    font-family: \"Source Code Pro\", \"Menlo\", monospace;;\n",
       "    font-size: 13px;\n",
       "    color: #555;\n",
       "    margin-left: 4px;\n",
       "    line-height: 19px;\n",
       "  }\n",
       "</style>\n",
       "<div class=\"ansiout\"></div>"
      ]
     },
     "metadata": {
      "application/vnd.databricks.v1+output": {
       "addedWidgets": {},
       "arguments": {},
       "data": "<div class=\"ansiout\"></div>",
       "datasetInfos": [],
       "removedWidgets": [],
       "type": "html"
      }
     },
     "output_type": "display_data"
    }
   ],
   "source": [
    "def num_cat_features(df, category = 10):\n",
    "  \n",
    "  categoricalColumns = [item[0] for item in df.dtypes if item[1].startswith('string')]\n",
    "\n",
    "  rest_cols = list(set(df.columns) - set(categoricalColumns))\n",
    "  \n",
    "  for feature in rest_cols:\n",
    "    if df.select(F.countDistinct(F.col(feature))).collect()[0][0] <= category:\n",
    "      categoricalColumns.append(feature)\n",
    "\n",
    "  categoricalColumns = list(set(categoricalColumns))  \n",
    "  numericalColumns = list(set(df.columns) - set(categoricalColumns))\n",
    "  \n",
    "  return(categoricalColumns,numericalColumns)"
   ]
  },
  {
   "cell_type": "markdown",
   "metadata": {
    "application/vnd.databricks.v1+cell": {
     "inputWidgets": {},
     "nuid": "f8db60ea-dc66-462b-961a-81171358e106",
     "showTitle": false,
     "title": ""
    }
   },
   "source": [
    "##### Data Stat"
   ]
  },
  {
   "cell_type": "code",
   "execution_count": null,
   "metadata": {
    "application/vnd.databricks.v1+cell": {
     "inputWidgets": {},
     "nuid": "3fc3b72f-c7df-4c2d-9e77-2a9cf9d705cc",
     "showTitle": false,
     "title": ""
    }
   },
   "outputs": [
    {
     "data": {
      "text/html": [
       "<style scoped>\n",
       "  .ansiout {\n",
       "    display: block;\n",
       "    unicode-bidi: embed;\n",
       "    white-space: pre-wrap;\n",
       "    word-wrap: break-word;\n",
       "    word-break: break-all;\n",
       "    font-family: \"Source Code Pro\", \"Menlo\", monospace;;\n",
       "    font-size: 13px;\n",
       "    color: #555;\n",
       "    margin-left: 4px;\n",
       "    line-height: 19px;\n",
       "  }\n",
       "</style>\n",
       "<div class=\"ansiout\"></div>"
      ]
     },
     "metadata": {
      "application/vnd.databricks.v1+output": {
       "addedWidgets": {},
       "arguments": {},
       "data": "<div class=\"ansiout\"></div>",
       "datasetInfos": [],
       "removedWidgets": [],
       "type": "html"
      }
     },
     "output_type": "display_data"
    }
   ],
   "source": [
    "def dataset_statistics(df, num_count, cat_count):\n",
    "  \n",
    "  num_cat_features(df, category = 10)\n",
    "  stat_dic = {\"Data size\": df.count(), \"No of Features\": len(df.columns), \"No of Numerical Features\": num_count, \"No of Categorical Features\": cat_count}\n",
    "  return stat_dic"
   ]
  },
  {
   "cell_type": "markdown",
   "metadata": {
    "application/vnd.databricks.v1+cell": {
     "inputWidgets": {},
     "nuid": "46d6c257-66e1-44de-97a4-e2d78b271595",
     "showTitle": false,
     "title": ""
    }
   },
   "source": [
    "### Generate Statistics Function"
   ]
  },
  {
   "cell_type": "code",
   "execution_count": null,
   "metadata": {
    "application/vnd.databricks.v1+cell": {
     "inputWidgets": {},
     "nuid": "720362a3-e46d-470b-8174-7bc0362ad048",
     "showTitle": false,
     "title": ""
    }
   },
   "outputs": [
    {
     "data": {
      "text/html": [
       "<style scoped>\n",
       "  .ansiout {\n",
       "    display: block;\n",
       "    unicode-bidi: embed;\n",
       "    white-space: pre-wrap;\n",
       "    word-wrap: break-word;\n",
       "    word-break: break-all;\n",
       "    font-family: \"Source Code Pro\", \"Menlo\", monospace;;\n",
       "    font-size: 13px;\n",
       "    color: #555;\n",
       "    margin-left: 4px;\n",
       "    line-height: 19px;\n",
       "  }\n",
       "</style>\n",
       "<div class=\"ansiout\"></div>"
      ]
     },
     "metadata": {
      "application/vnd.databricks.v1+output": {
       "addedWidgets": {},
       "arguments": {},
       "data": "<div class=\"ansiout\"></div>",
       "datasetInfos": [],
       "removedWidgets": [],
       "type": "html"
      }
     },
     "output_type": "display_data"
    }
   ],
   "source": [
    "def generate_statistics(df):\n",
    "  \n",
    "  categoricalColumns,numericalColumns = num_cat_features(df, category = 4)\n",
    "  feature_stat = {\"Numerical\": num_stat_fn(df, numericalColumns), \"Categorical\" :cat_stat_fn(df, categoricalColumns)}\n",
    "  data_stat = dataset_statistics(df, len(categoricalColumns), len(numericalColumns))\n",
    "  stat = {\"Dataset\" :data_stat, **feature_stat}\n",
    "  \n",
    "  return stat"
   ]
  },
  {
   "cell_type": "markdown",
   "metadata": {
    "application/vnd.databricks.v1+cell": {
     "inputWidgets": {},
     "nuid": "14168dd9-1083-4a44-b815-59b05cedfb09",
     "showTitle": false,
     "title": ""
    }
   },
   "source": [
    "#### Generate Statistics & Rules"
   ]
  },
  {
   "cell_type": "code",
   "execution_count": null,
   "metadata": {
    "application/vnd.databricks.v1+cell": {
     "inputWidgets": {},
     "nuid": "dc662367-e13f-4cfc-a790-e583b23d572d",
     "showTitle": false,
     "title": ""
    }
   },
   "outputs": [
    {
     "data": {
      "text/html": [
       "<style scoped>\n",
       "  .ansiout {\n",
       "    display: block;\n",
       "    unicode-bidi: embed;\n",
       "    white-space: pre-wrap;\n",
       "    word-wrap: break-word;\n",
       "    word-break: break-all;\n",
       "    font-family: \"Source Code Pro\", \"Menlo\", monospace;;\n",
       "    font-size: 13px;\n",
       "    color: #555;\n",
       "    margin-left: 4px;\n",
       "    line-height: 19px;\n",
       "  }\n",
       "</style>\n",
       "<div class=\"ansiout\"></div>"
      ]
     },
     "metadata": {
      "application/vnd.databricks.v1+output": {
       "addedWidgets": {},
       "arguments": {},
       "data": "<div class=\"ansiout\"></div>",
       "datasetInfos": [],
       "removedWidgets": [],
       "type": "html"
      }
     },
     "output_type": "display_data"
    }
   ],
   "source": [
    "rules_path = dir_path + \"/rules.json\"\n",
    "base_stat_path = dir_path + \"/base_statistics.json\"\n",
    "\n",
    "base_stat = generate_statistics(sdf)\n",
    "\n",
    "rules_dic = create_rules(base_stat)\n",
    "\n",
    "out_file = open(rules_path, \"w\")  \n",
    "json.dump(rules_dic, out_file)\n",
    "out_file.close()"
   ]
  },
  {
   "cell_type": "markdown",
   "metadata": {
    "application/vnd.databricks.v1+cell": {
     "inputWidgets": {},
     "nuid": "89872fd5-a8aa-43b9-abdf-e43409352c66",
     "showTitle": false,
     "title": ""
    }
   },
   "source": [
    "##### Print Rules (Json File)"
   ]
  },
  {
   "cell_type": "code",
   "execution_count": null,
   "metadata": {
    "application/vnd.databricks.v1+cell": {
     "inputWidgets": {},
     "nuid": "5900a31d-1754-4807-bc6b-34a457f85601",
     "showTitle": false,
     "title": ""
    }
   },
   "outputs": [
    {
     "data": {
      "text/html": [
       "<style scoped>\n",
       "  .ansiout {\n",
       "    display: block;\n",
       "    unicode-bidi: embed;\n",
       "    white-space: pre-wrap;\n",
       "    word-wrap: break-word;\n",
       "    word-break: break-all;\n",
       "    font-family: \"Source Code Pro\", \"Menlo\", monospace;;\n",
       "    font-size: 13px;\n",
       "    color: #555;\n",
       "    margin-left: 4px;\n",
       "    line-height: 19px;\n",
       "  }\n",
       "</style>\n",
       "<div class=\"ansiout\">Out[95]: {&#39;Dataset&#39;: {&#39;Data size&#39;: 100, &#39;No of Features&#39;: 60},\n",
       " &#39;Numerical&#39;: {&#39;event_event_eventDetail_wifiConfig_lastDeauthReason&#39;: {&#39;Data Type&#39;: &#39;int&#39;,\n",
       "   &#39;Presence&#39;: {&#39;Min_fraction&#39;: 1.0},\n",
       "   &#39;Average&#39;: 1.67,\n",
       "   &#39;Standard Deviation&#39;: 3.293872486845227,\n",
       "   &#39;Range&#39;: [0, 16],\n",
       "   &#39;Skewness&#39;: 2.8247911399224517,\n",
       "   &#39;isPositive&#39;: True,\n",
       "   &#39;isComplete&#39;: True},\n",
       "  &#39;event_event_eventDetail_wifiConfig_undirectedScanCount&#39;: {&#39;Data Type&#39;: &#39;int&#39;,\n",
       "   &#39;Presence&#39;: {&#39;Min_fraction&#39;: 1.0},\n",
       "   &#39;Average&#39;: 11.0,\n",
       "   &#39;Standard Deviation&#39;: 12.15389533101103,\n",
       "   &#39;Range&#39;: [1, 100],\n",
       "   &#39;Skewness&#39;: 4.422620521496445,\n",
       "   &#39;isPositive&#39;: True,\n",
       "   &#39;isComplete&#39;: True},\n",
       "  &#39;event_event_eventDetail_linkStats_txPackets&#39;: {&#39;Data Type&#39;: &#39;int&#39;,\n",
       "   &#39;Presence&#39;: {&#39;Min_fraction&#39;: 1.0},\n",
       "   &#39;Average&#39;: 488902.41,\n",
       "   &#39;Standard Deviation&#39;: 1799164.0783993176,\n",
       "   &#39;Range&#39;: [148, 17096048],\n",
       "   &#39;Skewness&#39;: 8.155918642560685,\n",
       "   &#39;isPositive&#39;: True,\n",
       "   &#39;isComplete&#39;: True},\n",
       "  &#39;event_event_eventDetail_linkStats_rxPackets&#39;: {&#39;Data Type&#39;: &#39;int&#39;,\n",
       "   &#39;Presence&#39;: {&#39;Min_fraction&#39;: 1.0},\n",
       "   &#39;Average&#39;: 954844.59,\n",
       "   &#39;Standard Deviation&#39;: 1996573.1652504208,\n",
       "   &#39;Range&#39;: [22, 13122628],\n",
       "   &#39;Skewness&#39;: 4.066695812881047,\n",
       "   &#39;isPositive&#39;: True,\n",
       "   &#39;isComplete&#39;: True},\n",
       "  &#39;event_event_eventDetail_wifiConfig_directedScanCount&#39;: {&#39;Data Type&#39;: &#39;int&#39;,\n",
       "   &#39;Presence&#39;: {&#39;Min_fraction&#39;: 1.0},\n",
       "   &#39;Average&#39;: 2.04,\n",
       "   &#39;Standard Deviation&#39;: 2.0788497207869936,\n",
       "   &#39;Range&#39;: [1, 12],\n",
       "   &#39;Skewness&#39;: 2.68561443691425,\n",
       "   &#39;isPositive&#39;: True,\n",
       "   &#39;isComplete&#39;: True},\n",
       "  &#39;event_event_eventDetail_wifiConfig_signalQuality_noise&#39;: {&#39;Data Type&#39;: &#39;float&#39;,\n",
       "   &#39;Presence&#39;: {&#39;Min_fraction&#39;: 1.0},\n",
       "   &#39;Average&#39;: -92.63,\n",
       "   &#39;Standard Deviation&#39;: 11.03498110921845,\n",
       "   &#39;Range&#39;: [-99.0, 0.0],\n",
       "   &#39;Skewness&#39;: 6.9627953253481225,\n",
       "   &#39;isPositive&#39;: False,\n",
       "   &#39;isComplete&#39;: True},\n",
       "  &#39;event_event_eventDetail_wifiConfig_signalQuality_strength&#39;: {&#39;Data Type&#39;: &#39;float&#39;,\n",
       "   &#39;Presence&#39;: {&#39;Min_fraction&#39;: 1.0},\n",
       "   &#39;Average&#39;: -45.74,\n",
       "   &#39;Standard Deviation&#39;: 16.099827466294297,\n",
       "   &#39;Range&#39;: [-84.0, 0.0],\n",
       "   &#39;Skewness&#39;: 0.13578803727096214,\n",
       "   &#39;isPositive&#39;: False,\n",
       "   &#39;isComplete&#39;: True},\n",
       "  &#39;event_event_eventDetail_linkStats_txErrors&#39;: {&#39;Data Type&#39;: &#39;int&#39;,\n",
       "   &#39;Presence&#39;: {&#39;Min_fraction&#39;: 1.0},\n",
       "   &#39;Average&#39;: 2.5,\n",
       "   &#39;Standard Deviation&#39;: 16.314150764030448,\n",
       "   &#39;Range&#39;: [0, 155],\n",
       "   &#39;Skewness&#39;: 8.55026286512786,\n",
       "   &#39;isPositive&#39;: True,\n",
       "   &#39;isComplete&#39;: True},\n",
       "  &#39;event_event_eventDetail_wifiConfig_channel&#39;: {&#39;Data Type&#39;: &#39;int&#39;,\n",
       "   &#39;Presence&#39;: {&#39;Min_fraction&#39;: 0.97},\n",
       "   &#39;Average&#39;: 42.4639175257732,\n",
       "   &#39;Standard Deviation&#39;: 53.22927254177405,\n",
       "   &#39;Range&#39;: [1, 161],\n",
       "   &#39;Skewness&#39;: 1.2595130409533934,\n",
       "   &#39;isPositive&#39;: True,\n",
       "   &#39;isComplete&#39;: False}},\n",
       " &#39;Categorical&#39;: {&#39;event_event_eventDetail_domainConfig_domainName&#39;: {&#39;Data Type&#39;: &#39;string&#39;,\n",
       "   &#39;Presence&#39;: {&#39;Min_fraction&#39;: 0.47},\n",
       "   &#39;Mininum_categories&#39;: 30,\n",
       "   &#39;isComplete&#39;: False},\n",
       "  &#39;event_event_eventDetail_connectionStateMax&#39;: {&#39;Data Type&#39;: &#39;int&#39;,\n",
       "   &#39;Presence&#39;: {&#39;Min_fraction&#39;: 1.0},\n",
       "   &#39;Mininum_categories&#39;: 1,\n",
       "   &#39;isComplete&#39;: True},\n",
       "  &#39;event_event_eventDetail_selfHealSta_selfHealMinWaitTime&#39;: {&#39;Data Type&#39;: &#39;int&#39;,\n",
       "   &#39;Presence&#39;: {&#39;Min_fraction&#39;: 0.050000000000000044},\n",
       "   &#39;Mininum_categories&#39;: 1,\n",
       "   &#39;isComplete&#39;: False},\n",
       "  &#39;event_event_eventDetail_subsystemStates_bleKernelModuleState&#39;: {&#39;Data Type&#39;: &#39;string&#39;,\n",
       "   &#39;Presence&#39;: {&#39;Min_fraction&#39;: 0.98},\n",
       "   &#39;Mininum_categories&#39;: 2,\n",
       "   &#39;isComplete&#39;: False},\n",
       "  &#39;event_event_eventDetail_uapConfig_adminDisabled&#39;: {&#39;Data Type&#39;: &#39;string&#39;,\n",
       "   &#39;Presence&#39;: {&#39;Min_fraction&#39;: 1.0},\n",
       "   &#39;Mininum_categories&#39;: 1,\n",
       "   &#39;isComplete&#39;: True},\n",
       "  &#39;event_event_eventDetail_domainConfig_searchDomains_3&#39;: {&#39;Data Type&#39;: &#39;string&#39;,\n",
       "   &#39;Presence&#39;: {&#39;Min_fraction&#39;: 0.0},\n",
       "   &#39;Mininum_categories&#39;: 0,\n",
       "   &#39;isComplete&#39;: False},\n",
       "  &#39;event_event_eventDetail_userConfig_ssid&#39;: {&#39;Data Type&#39;: &#39;string&#39;,\n",
       "   &#39;Presence&#39;: {&#39;Min_fraction&#39;: 1.0},\n",
       "   &#39;Mininum_categories&#39;: 98,\n",
       "   &#39;isComplete&#39;: True},\n",
       "  &#39;event_event_eventDetail_subsystemStates_wifiHwModuleState&#39;: {&#39;Data Type&#39;: &#39;string&#39;,\n",
       "   &#39;Presence&#39;: {&#39;Min_fraction&#39;: 0.98},\n",
       "   &#39;Mininum_categories&#39;: 1,\n",
       "   &#39;isComplete&#39;: False},\n",
       "  &#39;event_event_eventDetail_domainConfig_searchDomains_1&#39;: {&#39;Data Type&#39;: &#39;string&#39;,\n",
       "   &#39;Presence&#39;: {&#39;Min_fraction&#39;: 0.0},\n",
       "   &#39;Mininum_categories&#39;: 0,\n",
       "   &#39;isComplete&#39;: False},\n",
       "  &#39;event_event_eventDetail_eventTriggerReason&#39;: {&#39;Data Type&#39;: &#39;string&#39;,\n",
       "   &#39;Presence&#39;: {&#39;Min_fraction&#39;: 1.0},\n",
       "   &#39;Mininum_categories&#39;: 1,\n",
       "   &#39;isComplete&#39;: True},\n",
       "  &#39;event_eventDetailError&#39;: {&#39;Data Type&#39;: &#39;string&#39;,\n",
       "   &#39;Presence&#39;: {&#39;Min_fraction&#39;: 0.0},\n",
       "   &#39;Mininum_categories&#39;: 0,\n",
       "   &#39;isComplete&#39;: False},\n",
       "  &#39;event_event_eventDetail_connectionStateCurrent&#39;: {&#39;Data Type&#39;: &#39;int&#39;,\n",
       "   &#39;Presence&#39;: {&#39;Min_fraction&#39;: 1.0},\n",
       "   &#39;Mininum_categories&#39;: 1,\n",
       "   &#39;isComplete&#39;: True},\n",
       "  &#39;event_event_eventDetail_networkInterfaceName&#39;: {&#39;Data Type&#39;: &#39;string&#39;,\n",
       "   &#39;Presence&#39;: {&#39;Min_fraction&#39;: 1.0},\n",
       "   &#39;Mininum_categories&#39;: 1,\n",
       "   &#39;isComplete&#39;: True},\n",
       "  &#39;event_event_eventDetail_domainConfig_searchDomains_2&#39;: {&#39;Data Type&#39;: &#39;string&#39;,\n",
       "   &#39;Presence&#39;: {&#39;Min_fraction&#39;: 0.0},\n",
       "   &#39;Mininum_categories&#39;: 0,\n",
       "   &#39;isComplete&#39;: False},\n",
       "  &#39;event_event_eventDetail_linkStats_txDropped&#39;: {&#39;Data Type&#39;: &#39;int&#39;,\n",
       "   &#39;Presence&#39;: {&#39;Min_fraction&#39;: 1.0},\n",
       "   &#39;Mininum_categories&#39;: 1,\n",
       "   &#39;isComplete&#39;: True},\n",
       "  &#39;event_event_eventDetail_bleState&#39;: {&#39;Data Type&#39;: &#39;string&#39;,\n",
       "   &#39;Presence&#39;: {&#39;Min_fraction&#39;: 0.98},\n",
       "   &#39;Mininum_categories&#39;: 3,\n",
       "   &#39;isComplete&#39;: False},\n",
       "  &#39;event_event_eventDetail_linkStats_rxErrors&#39;: {&#39;Data Type&#39;: &#39;int&#39;,\n",
       "   &#39;Presence&#39;: {&#39;Min_fraction&#39;: 1.0},\n",
       "   &#39;Mininum_categories&#39;: 1,\n",
       "   &#39;isComplete&#39;: True},\n",
       "  &#39;event_event_eventDetail_wifiConfig_authentication&#39;: {&#39;Data Type&#39;: &#39;string&#39;,\n",
       "   &#39;Presence&#39;: {&#39;Min_fraction&#39;: 0.98},\n",
       "   &#39;Mininum_categories&#39;: 4,\n",
       "   &#39;isComplete&#39;: False},\n",
       "  &#39;event_event_eventDetail_userConfig_ipv6ConfigMethod&#39;: {&#39;Data Type&#39;: &#39;string&#39;,\n",
       "   &#39;Presence&#39;: {&#39;Min_fraction&#39;: 1.0},\n",
       "   &#39;Mininum_categories&#39;: 1,\n",
       "   &#39;isComplete&#39;: True},\n",
       "  &#39;event_eventMeta_eventMetaDetail_eventId&#39;: {&#39;Data Type&#39;: &#39;string&#39;,\n",
       "   &#39;Presence&#39;: {&#39;Min_fraction&#39;: 1.0},\n",
       "   &#39;Mininum_categories&#39;: 100,\n",
       "   &#39;isComplete&#39;: True},\n",
       "  &#39;event_event_eventDetail_userConfig_adminDisabled&#39;: {&#39;Data Type&#39;: &#39;string&#39;,\n",
       "   &#39;Presence&#39;: {&#39;Min_fraction&#39;: 1.0},\n",
       "   &#39;Mininum_categories&#39;: 1,\n",
       "   &#39;isComplete&#39;: True},\n",
       "  &#39;event_event_eventDetail_userConfig_ipv4Enabled&#39;: {&#39;Data Type&#39;: &#39;string&#39;,\n",
       "   &#39;Presence&#39;: {&#39;Min_fraction&#39;: 1.0},\n",
       "   &#39;Mininum_categories&#39;: 1,\n",
       "   &#39;isComplete&#39;: True},\n",
       "  &#39;event_event_eventDetail_domainConfig_hostname&#39;: {&#39;Data Type&#39;: &#39;string&#39;,\n",
       "   &#39;Presence&#39;: {&#39;Min_fraction&#39;: 1.0},\n",
       "   &#39;Mininum_categories&#39;: 99,\n",
       "   &#39;isComplete&#39;: True},\n",
       "  &#39;event_event_eventDetail_selfHealSta_reason&#39;: {&#39;Data Type&#39;: &#39;string&#39;,\n",
       "   &#39;Presence&#39;: {&#39;Min_fraction&#39;: 0.050000000000000044},\n",
       "   &#39;Mininum_categories&#39;: 2,\n",
       "   &#39;isComplete&#39;: False},\n",
       "  &#39;event_event_eventDetailType&#39;: {&#39;Data Type&#39;: &#39;string&#39;,\n",
       "   &#39;Presence&#39;: {&#39;Min_fraction&#39;: 1.0},\n",
       "   &#39;Mininum_categories&#39;: 3,\n",
       "   &#39;isComplete&#39;: True},\n",
       "  &#39;event_event_eventDetail_networkInterfaceType&#39;: {&#39;Data Type&#39;: &#39;string&#39;,\n",
       "   &#39;Presence&#39;: {&#39;Min_fraction&#39;: 1.0},\n",
       "   &#39;Mininum_categories&#39;: 1,\n",
       "   &#39;isComplete&#39;: True},\n",
       "  &#39;event_event_eventDetail_wifiConfig_associatedBssid&#39;: {&#39;Data Type&#39;: &#39;string&#39;,\n",
       "   &#39;Presence&#39;: {&#39;Min_fraction&#39;: 0.99},\n",
       "   &#39;Mininum_categories&#39;: 98,\n",
       "   &#39;isComplete&#39;: False},\n",
       "  &#39;event_event_eventDetail_domainConfig_searchDomains_5&#39;: {&#39;Data Type&#39;: &#39;string&#39;,\n",
       "   &#39;Presence&#39;: {&#39;Min_fraction&#39;: 0.0},\n",
       "   &#39;Mininum_categories&#39;: 0,\n",
       "   &#39;isComplete&#39;: False},\n",
       "  &#39;event_event_eventDetail_userConfig_passwdChanged&#39;: {&#39;Data Type&#39;: &#39;string&#39;,\n",
       "   &#39;Presence&#39;: {&#39;Min_fraction&#39;: 1.0},\n",
       "   &#39;Mininum_categories&#39;: 2,\n",
       "   &#39;isComplete&#39;: True},\n",
       "  &#39;event_event_eventDetail_networkConfig_ipv4Address_subnetMask&#39;: {&#39;Data Type&#39;: &#39;string&#39;,\n",
       "   &#39;Presence&#39;: {&#39;Min_fraction&#39;: 1.0},\n",
       "   &#39;Mininum_categories&#39;: 4,\n",
       "   &#39;isComplete&#39;: True},\n",
       "  &#39;event_event_eventDetail_subsystemStates_wifiKernelModuleState&#39;: {&#39;Data Type&#39;: &#39;string&#39;,\n",
       "   &#39;Presence&#39;: {&#39;Min_fraction&#39;: 0.98},\n",
       "   &#39;Mininum_categories&#39;: 1,\n",
       "   &#39;isComplete&#39;: False},\n",
       "  &#39;event_event_eventDetail_userConfig_powered&#39;: {&#39;Data Type&#39;: &#39;string&#39;,\n",
       "   &#39;Presence&#39;: {&#39;Min_fraction&#39;: 1.0},\n",
       "   &#39;Mininum_categories&#39;: 1,\n",
       "   &#39;isComplete&#39;: True},\n",
       "  &#39;event_event_eventDetail_userConfig_ipv4ConfigMethod&#39;: {&#39;Data Type&#39;: &#39;string&#39;,\n",
       "   &#39;Presence&#39;: {&#39;Min_fraction&#39;: 1.0},\n",
       "   &#39;Mininum_categories&#39;: 1,\n",
       "   &#39;isComplete&#39;: True},\n",
       "  &#39;event_event_eventDetail_wifiConfig_lastAssociationCode&#39;: {&#39;Data Type&#39;: &#39;string&#39;,\n",
       "   &#39;Presence&#39;: {&#39;Min_fraction&#39;: 1.0},\n",
       "   &#39;Mininum_categories&#39;: 1,\n",
       "   &#39;isComplete&#39;: True},\n",
       "  &#39;event_event_eventDetail_domainConfig_nameServerConfig_ipv4Addresses_0_addr&#39;: {&#39;Data Type&#39;: &#39;string&#39;,\n",
       "   &#39;Presence&#39;: {&#39;Min_fraction&#39;: 1.0},\n",
       "   &#39;Mininum_categories&#39;: 38,\n",
       "   &#39;isComplete&#39;: True},\n",
       "  &#39;event_event_eventDetail_connectionState&#39;: {&#39;Data Type&#39;: &#39;string&#39;,\n",
       "   &#39;Presence&#39;: {&#39;Min_fraction&#39;: 1.0},\n",
       "   &#39;Mininum_categories&#39;: 1,\n",
       "   &#39;isComplete&#39;: True},\n",
       "  &#39;event_event_eventDetail_stateStabilisationDelay&#39;: {&#39;Data Type&#39;: &#39;int&#39;,\n",
       "   &#39;Presence&#39;: {&#39;Min_fraction&#39;: 1.0},\n",
       "   &#39;Mininum_categories&#39;: 2,\n",
       "   &#39;isComplete&#39;: True},\n",
       "  &#39;event_event_eventDetail_subsystemStates_wifiSupplicantState&#39;: {&#39;Data Type&#39;: &#39;string&#39;,\n",
       "   &#39;Presence&#39;: {&#39;Min_fraction&#39;: 0.98},\n",
       "   &#39;Mininum_categories&#39;: 1,\n",
       "   &#39;isComplete&#39;: False},\n",
       "  &#39;event_event_eventDetail_networkConfig_ipv4Gateway&#39;: {&#39;Data Type&#39;: &#39;string&#39;,\n",
       "   &#39;Presence&#39;: {&#39;Min_fraction&#39;: 1.0},\n",
       "   &#39;Mininum_categories&#39;: 32,\n",
       "   &#39;isComplete&#39;: True},\n",
       "  &#39;event_event_eventDetail_userConfig_ipv6Enabled&#39;: {&#39;Data Type&#39;: &#39;string&#39;,\n",
       "   &#39;Presence&#39;: {&#39;Min_fraction&#39;: 1.0},\n",
       "   &#39;Mininum_categories&#39;: 2,\n",
       "   &#39;isComplete&#39;: True},\n",
       "  &#39;event_event_eventDetail_userConfig_changeCounter&#39;: {&#39;Data Type&#39;: &#39;int&#39;,\n",
       "   &#39;Presence&#39;: {&#39;Min_fraction&#39;: 1.0},\n",
       "   &#39;Mininum_categories&#39;: 3,\n",
       "   &#39;isComplete&#39;: True},\n",
       "  &#39;event_event_eventDetail_connectionStateMin&#39;: {&#39;Data Type&#39;: &#39;int&#39;,\n",
       "   &#39;Presence&#39;: {&#39;Min_fraction&#39;: 1.0},\n",
       "   &#39;Mininum_categories&#39;: 1,\n",
       "   &#39;isComplete&#39;: True},\n",
       "  &#39;event_event_eventDetail_networkConfig_ipv4Address_addr&#39;: {&#39;Data Type&#39;: &#39;string&#39;,\n",
       "   &#39;Presence&#39;: {&#39;Min_fraction&#39;: 1.0},\n",
       "   &#39;Mininum_categories&#39;: 83,\n",
       "   &#39;isComplete&#39;: True},\n",
       "  &#39;event_event_eventDetail_linkStats_rxDropped&#39;: {&#39;Data Type&#39;: &#39;int&#39;,\n",
       "   &#39;Presence&#39;: {&#39;Min_fraction&#39;: 1.0},\n",
       "   &#39;Mininum_categories&#39;: 1,\n",
       "   &#39;isComplete&#39;: True},\n",
       "  &#39;event_event_eventDetail_version&#39;: {&#39;Data Type&#39;: &#39;string&#39;,\n",
       "   &#39;Presence&#39;: {&#39;Min_fraction&#39;: 1.0},\n",
       "   &#39;Mininum_categories&#39;: 3,\n",
       "   &#39;isComplete&#39;: True},\n",
       "  &#39;event_event_eventDetail_domainConfig_searchDomains_4&#39;: {&#39;Data Type&#39;: &#39;string&#39;,\n",
       "   &#39;Presence&#39;: {&#39;Min_fraction&#39;: 0.0},\n",
       "   &#39;Mininum_categories&#39;: 0,\n",
       "   &#39;isComplete&#39;: False},\n",
       "  &#39;event_event_eventDetail_uapConfig_powered&#39;: {&#39;Data Type&#39;: &#39;string&#39;,\n",
       "   &#39;Presence&#39;: {&#39;Min_fraction&#39;: 1.0},\n",
       "   &#39;Mininum_categories&#39;: 2,\n",
       "   &#39;isComplete&#39;: True},\n",
       "  &#39;event_event_eventDetail_wifiConfig_disconnectCountFromLastEvent&#39;: {&#39;Data Type&#39;: &#39;int&#39;,\n",
       "   &#39;Presence&#39;: {&#39;Min_fraction&#39;: 0.98},\n",
       "   &#39;Mininum_categories&#39;: 4,\n",
       "   &#39;isComplete&#39;: False},\n",
       "  &#39;event_event_eventDetail_networkConfig_ipv6Gateway&#39;: {&#39;Data Type&#39;: &#39;string&#39;,\n",
       "   &#39;Presence&#39;: {&#39;Min_fraction&#39;: 0.14},\n",
       "   &#39;Mininum_categories&#39;: 10,\n",
       "   &#39;isComplete&#39;: False},\n",
       "  &#39;event_event_eventDetail_domainConfig_searchDomains_0&#39;: {&#39;Data Type&#39;: &#39;string&#39;,\n",
       "   &#39;Presence&#39;: {&#39;Min_fraction&#39;: 0.0},\n",
       "   &#39;Mininum_categories&#39;: 0,\n",
       "   &#39;isComplete&#39;: False},\n",
       "  &#39;event_event_eventDetail_subsystemStates_wifiConnectionState&#39;: {&#39;Data Type&#39;: &#39;string&#39;,\n",
       "   &#39;Presence&#39;: {&#39;Min_fraction&#39;: 0.98},\n",
       "   &#39;Mininum_categories&#39;: 1,\n",
       "   &#39;isComplete&#39;: False}},\n",
       " &#39;Threshold&#39;: {&#39;Dataset&#39;: {&#39;Data size&#39;: {&#39;criterion&#39;: &#39;equality&#39;},\n",
       "   &#39;No of Features&#39;: {&#39;criterion&#39;: &#39;equality&#39;}},\n",
       "  &#39;Numerical&#39;: {&#39;Feature-wise&#39;: {&#39;event_event_eventDetail_wifiConfig_lastDeauthReason&#39;: {&#39;Data Type&#39;: {&#39;criterion&#39;: &#39;equality&#39;},\n",
       "     &#39;Presence&#39;: {&#39;criterion&#39;: &#39;within&#39;,\n",
       "      &#39;Min_fraction&#39;: {&#39;criterion&#39;: &#39;reverse_difference&#39;, &#39;value&#39;: 0.05}},\n",
       "     &#39;Average&#39;: {&#39;criterion&#39;: &#39;ratio&#39;, &#39;value&#39;: 1.5},\n",
       "     &#39;Standard Deviation&#39;: {&#39;criterion&#39;: &#39;ratio&#39;, &#39;value&#39;: 2},\n",
       "     &#39;Range&#39;: {&#39;criterion&#39;: &#39;inRange&#39;, &#39;value&#39;: 1.5},\n",
       "     &#39;Skewness&#39;: {&#39;criterion&#39;: &#39;ratio&#39;, &#39;value&#39;: 1.5},\n",
       "     &#39;isPositive&#39;: {&#39;criterion&#39;: &#39;equality&#39;},\n",
       "     &#39;isComplete&#39;: {&#39;criterion&#39;: &#39;equality&#39;}},\n",
       "    &#39;event_event_eventDetail_wifiConfig_undirectedScanCount&#39;: {&#39;Data Type&#39;: {&#39;criterion&#39;: &#39;equality&#39;},\n",
       "     &#39;Presence&#39;: {&#39;criterion&#39;: &#39;within&#39;,\n",
       "      &#39;Min_fraction&#39;: {&#39;criterion&#39;: &#39;reverse_difference&#39;, &#39;value&#39;: 0.05}},\n",
       "     &#39;Average&#39;: {&#39;criterion&#39;: &#39;ratio&#39;, &#39;value&#39;: 1.5},\n",
       "     &#39;Standard Deviation&#39;: {&#39;criterion&#39;: &#39;ratio&#39;, &#39;value&#39;: 2},\n",
       "     &#39;Range&#39;: {&#39;criterion&#39;: &#39;inRange&#39;, &#39;value&#39;: 1.5},\n",
       "     &#39;Skewness&#39;: {&#39;criterion&#39;: &#39;ratio&#39;, &#39;value&#39;: 1.5},\n",
       "     &#39;isPositive&#39;: {&#39;criterion&#39;: &#39;equality&#39;},\n",
       "     &#39;isComplete&#39;: {&#39;criterion&#39;: &#39;equality&#39;}},\n",
       "    &#39;event_event_eventDetail_linkStats_txPackets&#39;: {&#39;Data Type&#39;: {&#39;criterion&#39;: &#39;equality&#39;},\n",
       "     &#39;Presence&#39;: {&#39;criterion&#39;: &#39;within&#39;,\n",
       "      &#39;Min_fraction&#39;: {&#39;criterion&#39;: &#39;reverse_difference&#39;, &#39;value&#39;: 0.05}},\n",
       "     &#39;Average&#39;: {&#39;criterion&#39;: &#39;ratio&#39;, &#39;value&#39;: 1.5},\n",
       "     &#39;Standard Deviation&#39;: {&#39;criterion&#39;: &#39;ratio&#39;, &#39;value&#39;: 2},\n",
       "     &#39;Range&#39;: {&#39;criterion&#39;: &#39;inRange&#39;, &#39;value&#39;: 1.5},\n",
       "     &#39;Skewness&#39;: {&#39;criterion&#39;: &#39;ratio&#39;, &#39;value&#39;: 1.5},\n",
       "     &#39;isPositive&#39;: {&#39;criterion&#39;: &#39;equality&#39;},\n",
       "     &#39;isComplete&#39;: {&#39;criterion&#39;: &#39;equality&#39;}},\n",
       "    &#39;event_event_eventDetail_linkStats_rxPackets&#39;: {&#39;Data Type&#39;: {&#39;criterion&#39;: &#39;equality&#39;},\n",
       "     &#39;Presence&#39;: {&#39;criterion&#39;: &#39;within&#39;,\n",
       "      &#39;Min_fraction&#39;: {&#39;criterion&#39;: &#39;reverse_difference&#39;, &#39;value&#39;: 0.05}},\n",
       "     &#39;Average&#39;: {&#39;criterion&#39;: &#39;ratio&#39;, &#39;value&#39;: 1.5},\n",
       "     &#39;Standard Deviation&#39;: {&#39;criterion&#39;: &#39;ratio&#39;, &#39;value&#39;: 2},\n",
       "     &#39;Range&#39;: {&#39;criterion&#39;: &#39;inRange&#39;, &#39;value&#39;: 1.5},\n",
       "     &#39;Skewness&#39;: {&#39;criterion&#39;: &#39;ratio&#39;, &#39;value&#39;: 1.5},\n",
       "     &#39;isPositive&#39;: {&#39;criterion&#39;: &#39;equality&#39;},\n",
       "     &#39;isComplete&#39;: {&#39;criterion&#39;: &#39;equality&#39;}},\n",
       "    &#39;event_event_eventDetail_wifiConfig_directedScanCount&#39;: {&#39;Data Type&#39;: {&#39;criterion&#39;: &#39;equality&#39;},\n",
       "     &#39;Presence&#39;: {&#39;criterion&#39;: &#39;within&#39;,\n",
       "      &#39;Min_fraction&#39;: {&#39;criterion&#39;: &#39;reverse_difference&#39;, &#39;value&#39;: 0.05}},\n",
       "     &#39;Average&#39;: {&#39;criterion&#39;: &#39;ratio&#39;, &#39;value&#39;: 1.5},\n",
       "     &#39;Standard Deviation&#39;: {&#39;criterion&#39;: &#39;ratio&#39;, &#39;value&#39;: 2},\n",
       "     &#39;Range&#39;: {&#39;criterion&#39;: &#39;inRange&#39;, &#39;value&#39;: 1.5},\n",
       "     &#39;Skewness&#39;: {&#39;criterion&#39;: &#39;ratio&#39;, &#39;value&#39;: 1.5},\n",
       "     &#39;isPositive&#39;: {&#39;criterion&#39;: &#39;equality&#39;},\n",
       "     &#39;isComplete&#39;: {&#39;criterion&#39;: &#39;equality&#39;}},\n",
       "    &#39;event_event_eventDetail_wifiConfig_signalQuality_noise&#39;: {&#39;Data Type&#39;: {&#39;criterion&#39;: &#39;equality&#39;},\n",
       "     &#39;Presence&#39;: {&#39;criterion&#39;: &#39;within&#39;,\n",
       "      &#39;Min_fraction&#39;: {&#39;criterion&#39;: &#39;reverse_difference&#39;, &#39;value&#39;: 0.05}},\n",
       "     &#39;Average&#39;: {&#39;criterion&#39;: &#39;ratio&#39;, &#39;value&#39;: 1.5},\n",
       "     &#39;Standard Deviation&#39;: {&#39;criterion&#39;: &#39;ratio&#39;, &#39;value&#39;: 2},\n",
       "     &#39;Range&#39;: {&#39;criterion&#39;: &#39;inRange&#39;, &#39;value&#39;: 1.5},\n",
       "     &#39;Skewness&#39;: {&#39;criterion&#39;: &#39;ratio&#39;, &#39;value&#39;: 1.5},\n",
       "     &#39;isPositive&#39;: {&#39;criterion&#39;: &#39;equality&#39;},\n",
       "     &#39;isComplete&#39;: {&#39;criterion&#39;: &#39;equality&#39;}},\n",
       "    &#39;event_event_eventDetail_wifiConfig_signalQuality_strength&#39;: {&#39;Data Type&#39;: {&#39;criterion&#39;: &#39;equality&#39;},\n",
       "     &#39;Presence&#39;: {&#39;criterion&#39;: &#39;within&#39;,\n",
       "      &#39;Min_fraction&#39;: {&#39;criterion&#39;: &#39;reverse_difference&#39;, &#39;value&#39;: 0.05}},\n",
       "     &#39;Average&#39;: {&#39;criterion&#39;: &#39;ratio&#39;, &#39;value&#39;: 1.5},\n",
       "     &#39;Standard Deviation&#39;: {&#39;criterion&#39;: &#39;ratio&#39;, &#39;value&#39;: 2},\n",
       "     &#39;Range&#39;: {&#39;criterion&#39;: &#39;inRange&#39;, &#39;value&#39;: 1.5},\n",
       "     &#39;Skewness&#39;: {&#39;criterion&#39;: &#39;ratio&#39;, &#39;value&#39;: 1.5},\n",
       "     &#39;isPositive&#39;: {&#39;criterion&#39;: &#39;equality&#39;},\n",
       "     &#39;isComplete&#39;: {&#39;criterion&#39;: &#39;equality&#39;}},\n",
       "    &#39;event_event_eventDetail_linkStats_txErrors&#39;: {&#39;Data Type&#39;: {&#39;criterion&#39;: &#39;equality&#39;},\n",
       "     &#39;Presence&#39;: {&#39;criterion&#39;: &#39;within&#39;,\n",
       "      &#39;Min_fraction&#39;: {&#39;criterion&#39;: &#39;reverse_difference&#39;, &#39;value&#39;: 0.05}},\n",
       "     &#39;Average&#39;: {&#39;criterion&#39;: &#39;ratio&#39;, &#39;value&#39;: 1.5},\n",
       "     &#39;Standard Deviation&#39;: {&#39;criterion&#39;: &#39;ratio&#39;, &#39;value&#39;: 2},\n",
       "     &#39;Range&#39;: {&#39;criterion&#39;: &#39;inRange&#39;, &#39;value&#39;: 1.5},\n",
       "     &#39;Skewness&#39;: {&#39;criterion&#39;: &#39;ratio&#39;, &#39;value&#39;: 1.5},\n",
       "     &#39;isPositive&#39;: {&#39;criterion&#39;: &#39;equality&#39;},\n",
       "     &#39;isComplete&#39;: {&#39;criterion&#39;: &#39;equality&#39;}},\n",
       "    &#39;event_event_eventDetail_wifiConfig_channel&#39;: {&#39;Data Type&#39;: {&#39;criterion&#39;: &#39;equality&#39;},\n",
       "     &#39;Presence&#39;: {&#39;criterion&#39;: &#39;within&#39;,\n",
       "      &#39;Min_fraction&#39;: {&#39;criterion&#39;: &#39;reverse_difference&#39;, &#39;value&#39;: 0.05}},\n",
       "     &#39;Average&#39;: {&#39;criterion&#39;: &#39;ratio&#39;, &#39;value&#39;: 1.5},\n",
       "     &#39;Standard Deviation&#39;: {&#39;criterion&#39;: &#39;ratio&#39;, &#39;value&#39;: 2},\n",
       "     &#39;Range&#39;: {&#39;criterion&#39;: &#39;inRange&#39;, &#39;value&#39;: 1.5},\n",
       "     &#39;Skewness&#39;: {&#39;criterion&#39;: &#39;ratio&#39;, &#39;value&#39;: 1.5},\n",
       "     &#39;isPositive&#39;: {&#39;criterion&#39;: &#39;equality&#39;},\n",
       "     &#39;isComplete&#39;: {&#39;criterion&#39;: &#39;equality&#39;}}},\n",
       "   &#39;Global&#39;: {&#39;Data Type&#39;: {&#39;criterion&#39;: &#39;equality&#39;},\n",
       "    &#39;Presence&#39;: {&#39;criterion&#39;: &#39;within&#39;,\n",
       "     &#39;Min_fraction&#39;: {&#39;criterion&#39;: &#39;reverse_difference&#39;, &#39;value&#39;: 0.05}},\n",
       "    &#39;Average&#39;: {&#39;criterion&#39;: &#39;ratio&#39;, &#39;value&#39;: 1.5},\n",
       "    &#39;Standard Deviation&#39;: {&#39;criterion&#39;: &#39;ratio&#39;, &#39;value&#39;: 2},\n",
       "    &#39;Range&#39;: {&#39;criterion&#39;: &#39;inRange&#39;, &#39;value&#39;: 1.5},\n",
       "    &#39;Skewness&#39;: {&#39;criterion&#39;: &#39;ratio&#39;, &#39;value&#39;: 1.5},\n",
       "    &#39;isPositive&#39;: {&#39;criterion&#39;: &#39;equality&#39;},\n",
       "    &#39;isComplete&#39;: {&#39;criterion&#39;: &#39;equality&#39;}}},\n",
       "  &#39;Categorical&#39;: {&#39;Feature-wise&#39;: {&#39;event_event_eventDetail_domainConfig_domainName&#39;: {&#39;Data Type&#39;: {&#39;criterion&#39;: &#39;equality&#39;},\n",
       "     &#39;Presence&#39;: {&#39;criterion&#39;: &#39;within&#39;,\n",
       "      &#39;Min_fraction&#39;: {&#39;criterion&#39;: &#39;reverse_difference&#39;, &#39;value&#39;: 0.05}},\n",
       "     &#39;Mininum_categories&#39;: {&#39;criterion&#39;: &#39;less_than&#39;},\n",
       "     &#39;isComplete&#39;: {&#39;criterion&#39;: &#39;equality&#39;}},\n",
       "    &#39;event_event_eventDetail_connectionStateMax&#39;: {&#39;Data Type&#39;: {&#39;criterion&#39;: &#39;equality&#39;},\n",
       "     &#39;Presence&#39;: {&#39;criterion&#39;: &#39;within&#39;,\n",
       "      &#39;Min_fraction&#39;: {&#39;criterion&#39;: &#39;reverse_difference&#39;, &#39;value&#39;: 0.05}},\n",
       "     &#39;Mininum_categories&#39;: {&#39;criterion&#39;: &#39;less_than&#39;},\n",
       "     &#39;isComplete&#39;: {&#39;criterion&#39;: &#39;equality&#39;}},\n",
       "    &#39;event_event_eventDetail_selfHealSta_selfHealMinWaitTime&#39;: {&#39;Data Type&#39;: {&#39;criterion&#39;: &#39;equality&#39;},\n",
       "     &#39;Presence&#39;: {&#39;criterion&#39;: &#39;within&#39;,\n",
       "      &#39;Min_fraction&#39;: {&#39;criterion&#39;: &#39;reverse_difference&#39;, &#39;value&#39;: 0.05}},\n",
       "     &#39;Mininum_categories&#39;: {&#39;criterion&#39;: &#39;less_than&#39;},\n",
       "     &#39;isComplete&#39;: {&#39;criterion&#39;: &#39;equality&#39;}},\n",
       "    &#39;event_event_eventDetail_subsystemStates_bleKernelModuleState&#39;: {&#39;Data Type&#39;: {&#39;criterion&#39;: &#39;equality&#39;},\n",
       "     &#39;Presence&#39;: {&#39;criterion&#39;: &#39;within&#39;,\n",
       "      &#39;Min_fraction&#39;: {&#39;criterion&#39;: &#39;reverse_difference&#39;, &#39;value&#39;: 0.05}},\n",
       "     &#39;Mininum_categories&#39;: {&#39;criterion&#39;: &#39;less_than&#39;},\n",
       "     &#39;isComplete&#39;: {&#39;criterion&#39;: &#39;equality&#39;}},\n",
       "    &#39;event_event_eventDetail_uapConfig_adminDisabled&#39;: {&#39;Data Type&#39;: {&#39;criterion&#39;: &#39;equality&#39;},\n",
       "     &#39;Presence&#39;: {&#39;criterion&#39;: &#39;within&#39;,\n",
       "      &#39;Min_fraction&#39;: {&#39;criterion&#39;: &#39;reverse_difference&#39;, &#39;value&#39;: 0.05}},\n",
       "     &#39;Mininum_categories&#39;: {&#39;criterion&#39;: &#39;less_than&#39;},\n",
       "     &#39;isComplete&#39;: {&#39;criterion&#39;: &#39;equality&#39;}},\n",
       "    &#39;event_event_eventDetail_domainConfig_searchDomains_3&#39;: {&#39;Data Type&#39;: {&#39;criterion&#39;: &#39;equality&#39;},\n",
       "     &#39;Presence&#39;: {&#39;criterion&#39;: &#39;within&#39;,\n",
       "      &#39;Min_fraction&#39;: {&#39;criterion&#39;: &#39;reverse_difference&#39;, &#39;value&#39;: 0.05}},\n",
       "     &#39;Mininum_categories&#39;: {&#39;criterion&#39;: &#39;less_than&#39;},\n",
       "     &#39;isComplete&#39;: {&#39;criterion&#39;: &#39;equality&#39;}},\n",
       "    &#39;event_event_eventDetail_userConfig_ssid&#39;: {&#39;Data Type&#39;: {&#39;criterion&#39;: &#39;equality&#39;},\n",
       "     &#39;Presence&#39;: {&#39;criterion&#39;: &#39;within&#39;,\n",
       "      &#39;Min_fraction&#39;: {&#39;criterion&#39;: &#39;reverse_difference&#39;, &#39;value&#39;: 0.05}},\n",
       "     &#39;Mininum_categories&#39;: {&#39;criterion&#39;: &#39;less_than&#39;},\n",
       "     &#39;isComplete&#39;: {&#39;criterion&#39;: &#39;equality&#39;}},\n",
       "    &#39;event_event_eventDetail_subsystemStates_wifiHwModuleState&#39;: {&#39;Data Type&#39;: {&#39;criterion&#39;: &#39;equality&#39;},\n",
       "     &#39;Presence&#39;: {&#39;criterion&#39;: &#39;within&#39;,\n",
       "      &#39;Min_fraction&#39;: {&#39;criterion&#39;: &#39;reverse_difference&#39;, &#39;value&#39;: 0.05}},\n",
       "     &#39;Mininum_categories&#39;: {&#39;criterion&#39;: &#39;less_than&#39;},\n",
       "     &#39;isComplete&#39;: {&#39;criterion&#39;: &#39;equality&#39;}},\n",
       "    &#39;event_event_eventDetail_domainConfig_searchDomains_1&#39;: {&#39;Data Type&#39;: {&#39;criterion&#39;: &#39;equality&#39;},\n",
       "     &#39;Presence&#39;: {&#39;criterion&#39;: &#39;within&#39;,\n",
       "      &#39;Min_fraction&#39;: {&#39;criterion&#39;: &#39;reverse_difference&#39;, &#39;value&#39;: 0.05}},\n",
       "     &#39;Mininum_categories&#39;: {&#39;criterion&#39;: &#39;less_than&#39;},\n",
       "     &#39;isComplete&#39;: {&#39;criterion&#39;: &#39;equality&#39;}},\n",
       "    &#39;event_event_eventDetail_eventTriggerReason&#39;: {&#39;Data Type&#39;: {&#39;criterion&#39;: &#39;equality&#39;},\n",
       "     &#39;Presence&#39;: {&#39;criterion&#39;: &#39;within&#39;,\n",
       "      &#39;Min_fraction&#39;: {&#39;criterion&#39;: &#39;reverse_difference&#39;, &#39;value&#39;: 0.05}},\n",
       "     &#39;Mininum_categories&#39;: {&#39;criterion&#39;: &#39;less_than&#39;},\n",
       "     &#39;isComplete&#39;: {&#39;criterion&#39;: &#39;equality&#39;}},\n",
       "    &#39;event_eventDetailError&#39;: {&#39;Data Type&#39;: {&#39;criterion&#39;: &#39;equality&#39;},\n",
       "     &#39;Presence&#39;: {&#39;criterion&#39;: &#39;within&#39;,\n",
       "      &#39;Min_fraction&#39;: {&#39;criterion&#39;: &#39;reverse_difference&#39;, &#39;value&#39;: 0.05}},\n",
       "     &#39;Mininum_categories&#39;: {&#39;criterion&#39;: &#39;less_than&#39;},\n",
       "     &#39;isComplete&#39;: {&#39;criterion&#39;: &#39;equality&#39;}},\n",
       "    &#39;event_event_eventDetail_connectionStateCurrent&#39;: {&#39;Data Type&#39;: {&#39;criterion&#39;: &#39;equality&#39;},\n",
       "     &#39;Presence&#39;: {&#39;criterion&#39;: &#39;within&#39;,\n",
       "      &#39;Min_fraction&#39;: {&#39;criterion&#39;: &#39;reverse_difference&#39;, &#39;value&#39;: 0.05}},\n",
       "     &#39;Mininum_categories&#39;: {&#39;criterion&#39;: &#39;less_than&#39;},\n",
       "     &#39;isComplete&#39;: {&#39;criterion&#39;: &#39;equality&#39;}},\n",
       "    &#39;event_event_eventDetail_networkInterfaceName&#39;: {&#39;Data Type&#39;: {&#39;criterion&#39;: &#39;equality&#39;},\n",
       "     &#39;Presence&#39;: {&#39;criterion&#39;: &#39;within&#39;,\n",
       "      &#39;Min_fraction&#39;: {&#39;criterion&#39;: &#39;reverse_difference&#39;, &#39;value&#39;: 0.05}},\n",
       "     &#39;Mininum_categories&#39;: {&#39;criterion&#39;: &#39;less_than&#39;},\n",
       "     &#39;isComplete&#39;: {&#39;criterion&#39;: &#39;equality&#39;}},\n",
       "    &#39;event_event_eventDetail_domainConfig_searchDomains_2&#39;: {&#39;Data Type&#39;: {&#39;criterion&#39;: &#39;equality&#39;},\n",
       "     &#39;Presence&#39;: {&#39;criterion&#39;: &#39;within&#39;,\n",
       "      &#39;Min_fraction&#39;: {&#39;criterion&#39;: &#39;reverse_difference&#39;, &#39;value&#39;: 0.05}},\n",
       "     &#39;Mininum_categories&#39;: {&#39;criterion&#39;: &#39;less_than&#39;},\n",
       "     &#39;isComplete&#39;: {&#39;criterion&#39;: &#39;equality&#39;}},\n",
       "    &#39;event_event_eventDetail_linkStats_txDropped&#39;: {&#39;Data Type&#39;: {&#39;criterion&#39;: &#39;equality&#39;},\n",
       "     &#39;Presence&#39;: {&#39;criterion&#39;: &#39;within&#39;,\n",
       "      &#39;Min_fraction&#39;: {&#39;criterion&#39;: &#39;reverse_difference&#39;, &#39;value&#39;: 0.05}},\n",
       "     &#39;Mininum_categories&#39;: {&#39;criterion&#39;: &#39;less_than&#39;},\n",
       "     &#39;isComplete&#39;: {&#39;criterion&#39;: &#39;equality&#39;}},\n",
       "    &#39;event_event_eventDetail_bleState&#39;: {&#39;Data Type&#39;: {&#39;criterion&#39;: &#39;equality&#39;},\n",
       "     &#39;Presence&#39;: {&#39;criterion&#39;: &#39;within&#39;,\n",
       "      &#39;Min_fraction&#39;: {&#39;criterion&#39;: &#39;reverse_difference&#39;, &#39;value&#39;: 0.05}},\n",
       "     &#39;Mininum_categories&#39;: {&#39;criterion&#39;: &#39;less_than&#39;},\n",
       "     &#39;isComplete&#39;: {&#39;criterion&#39;: &#39;equality&#39;}},\n",
       "    &#39;event_event_eventDetail_linkStats_rxErrors&#39;: {&#39;Data Type&#39;: {&#39;criterion&#39;: &#39;equality&#39;},\n",
       "     &#39;Presence&#39;: {&#39;criterion&#39;: &#39;within&#39;,\n",
       "      &#39;Min_fraction&#39;: {&#39;criterion&#39;: &#39;reverse_difference&#39;, &#39;value&#39;: 0.05}},\n",
       "     &#39;Mininum_categories&#39;: {&#39;criterion&#39;: &#39;less_than&#39;},\n",
       "     &#39;isComplete&#39;: {&#39;criterion&#39;: &#39;equality&#39;}},\n",
       "    &#39;event_event_eventDetail_wifiConfig_authentication&#39;: {&#39;Data Type&#39;: {&#39;criterion&#39;: &#39;equality&#39;},\n",
       "     &#39;Presence&#39;: {&#39;criterion&#39;: &#39;within&#39;,\n",
       "      &#39;Min_fraction&#39;: {&#39;criterion&#39;: &#39;reverse_difference&#39;, &#39;value&#39;: 0.05}},\n",
       "     &#39;Mininum_categories&#39;: {&#39;criterion&#39;: &#39;less_than&#39;},\n",
       "     &#39;isComplete&#39;: {&#39;criterion&#39;: &#39;equality&#39;}},\n",
       "    &#39;event_event_eventDetail_userConfig_ipv6ConfigMethod&#39;: {&#39;Data Type&#39;: {&#39;criterion&#39;: &#39;equality&#39;},\n",
       "     &#39;Presence&#39;: {&#39;criterion&#39;: &#39;within&#39;,\n",
       "      &#39;Min_fraction&#39;: {&#39;criterion&#39;: &#39;reverse_difference&#39;, &#39;value&#39;: 0.05}},\n",
       "     &#39;Mininum_categories&#39;: {&#39;criterion&#39;: &#39;less_than&#39;},\n",
       "     &#39;isComplete&#39;: {&#39;criterion&#39;: &#39;equality&#39;}},\n",
       "    &#39;event_eventMeta_eventMetaDetail_eventId&#39;: {&#39;Data Type&#39;: {&#39;criterion&#39;: &#39;equality&#39;},\n",
       "     &#39;Presence&#39;: {&#39;criterion&#39;: &#39;within&#39;,\n",
       "      &#39;Min_fraction&#39;: {&#39;criterion&#39;: &#39;reverse_difference&#39;, &#39;value&#39;: 0.05}},\n",
       "     &#39;Mininum_categories&#39;: {&#39;criterion&#39;: &#39;less_than&#39;},\n",
       "     &#39;isComplete&#39;: {&#39;criterion&#39;: &#39;equality&#39;}},\n",
       "    &#39;event_event_eventDetail_userConfig_adminDisabled&#39;: {&#39;Data Type&#39;: {&#39;criterion&#39;: &#39;equality&#39;},\n",
       "     &#39;Presence&#39;: {&#39;criterion&#39;: &#39;within&#39;,\n",
       "      &#39;Min_fraction&#39;: {&#39;criterion&#39;: &#39;reverse_difference&#39;, &#39;value&#39;: 0.05}},\n",
       "     &#39;Mininum_categories&#39;: {&#39;criterion&#39;: &#39;less_than&#39;},\n",
       "     &#39;isComplete&#39;: {&#39;criterion&#39;: &#39;equality&#39;}},\n",
       "    &#39;event_event_eventDetail_userConfig_ipv4Enabled&#39;: {&#39;Data Type&#39;: {&#39;criterion&#39;: &#39;equality&#39;},\n",
       "     &#39;Presence&#39;: {&#39;criterion&#39;: &#39;within&#39;,\n",
       "      &#39;Min_fraction&#39;: {&#39;criterion&#39;: &#39;reverse_difference&#39;, &#39;value&#39;: 0.05}},\n",
       "     &#39;Mininum_categories&#39;: {&#39;criterion&#39;: &#39;less_than&#39;},\n",
       "     &#39;isComplete&#39;: {&#39;criterion&#39;: &#39;equality&#39;}},\n",
       "    &#39;event_event_eventDetail_domainConfig_hostname&#39;: {&#39;Data Type&#39;: {&#39;criterion&#39;: &#39;equality&#39;},\n",
       "     &#39;Presence&#39;: {&#39;criterion&#39;: &#39;within&#39;,\n",
       "      &#39;Min_fraction&#39;: {&#39;criterion&#39;: &#39;reverse_difference&#39;, &#39;value&#39;: 0.05}},\n",
       "     &#39;Mininum_categories&#39;: {&#39;criterion&#39;: &#39;less_than&#39;},\n",
       "     &#39;isComplete&#39;: {&#39;criterion&#39;: &#39;equality&#39;}},\n",
       "    &#39;event_event_eventDetail_selfHealSta_reason&#39;: {&#39;Data Type&#39;: {&#39;criterion&#39;: &#39;equality&#39;},\n",
       "     &#39;Presence&#39;: {&#39;criterion&#39;: &#39;within&#39;,\n",
       "      &#39;Min_fraction&#39;: {&#39;criterion&#39;: &#39;reverse_difference&#39;, &#39;value&#39;: 0.05}},\n",
       "     &#39;Mininum_categories&#39;: {&#39;criterion&#39;: &#39;less_than&#39;},\n",
       "     &#39;isComplete&#39;: {&#39;criterion&#39;: &#39;equality&#39;}},\n",
       "    &#39;event_event_eventDetailType&#39;: {&#39;Data Type&#39;: {&#39;criterion&#39;: &#39;equality&#39;},\n",
       "     &#39;Presence&#39;: {&#39;criterion&#39;: &#39;within&#39;,\n",
       "      &#39;Min_fraction&#39;: {&#39;criterion&#39;: &#39;reverse_difference&#39;, &#39;value&#39;: 0.05}},\n",
       "     &#39;Mininum_categories&#39;: {&#39;criterion&#39;: &#39;less_than&#39;},\n",
       "     &#39;isComplete&#39;: {&#39;criterion&#39;: &#39;equality&#39;}},\n",
       "    &#39;event_event_eventDetail_networkInterfaceType&#39;: {&#39;Data Type&#39;: {&#39;criterion&#39;: &#39;equality&#39;},\n",
       "     &#39;Presence&#39;: {&#39;criterion&#39;: &#39;within&#39;,\n",
       "      &#39;Min_fraction&#39;: {&#39;criterion&#39;: &#39;reverse_difference&#39;, &#39;value&#39;: 0.05}},\n",
       "     &#39;Mininum_categories&#39;: {&#39;criterion&#39;: &#39;less_than&#39;},\n",
       "     &#39;isComplete&#39;: {&#39;criterion&#39;: &#39;equality&#39;}},\n",
       "    &#39;event_event_eventDetail_wifiConfig_associatedBssid&#39;: {&#39;Data Type&#39;: {&#39;criterion&#39;: &#39;equality&#39;},\n",
       "     &#39;Presence&#39;: {&#39;criterion&#39;: &#39;within&#39;,\n",
       "      &#39;Min_fraction&#39;: {&#39;criterion&#39;: &#39;reverse_difference&#39;, &#39;value&#39;: 0.05}},\n",
       "     &#39;Mininum_categories&#39;: {&#39;criterion&#39;: &#39;less_than&#39;},\n",
       "     &#39;isComplete&#39;: {&#39;criterion&#39;: &#39;equality&#39;}},\n",
       "    &#39;event_event_eventDetail_domainConfig_searchDomains_5&#39;: {&#39;Data Type&#39;: {&#39;criterion&#39;: &#39;equality&#39;},\n",
       "     &#39;Presence&#39;: {&#39;criterion&#39;: &#39;within&#39;,\n",
       "      &#39;Min_fraction&#39;: {&#39;criterion&#39;: &#39;reverse_difference&#39;, &#39;value&#39;: 0.05}},\n",
       "     &#39;Mininum_categories&#39;: {&#39;criterion&#39;: &#39;less_than&#39;},\n",
       "     &#39;isComplete&#39;: {&#39;criterion&#39;: &#39;equality&#39;}},\n",
       "    &#39;event_event_eventDetail_userConfig_passwdChanged&#39;: {&#39;Data Type&#39;: {&#39;criterion&#39;: &#39;equality&#39;},\n",
       "     &#39;Presence&#39;: {&#39;criterion&#39;: &#39;within&#39;,\n",
       "      &#39;Min_fraction&#39;: {&#39;criterion&#39;: &#39;reverse_difference&#39;, &#39;value&#39;: 0.05}},\n",
       "     &#39;Mininum_categories&#39;: {&#39;criterion&#39;: &#39;less_than&#39;},\n",
       "     &#39;isComplete&#39;: {&#39;criterion&#39;: &#39;equality&#39;}},\n",
       "    &#39;event_event_eventDetail_networkConfig_ipv4Address_subnetMask&#39;: {&#39;Data Type&#39;: {&#39;criterion&#39;: &#39;equality&#39;},\n",
       "     &#39;Presence&#39;: {&#39;criterion&#39;: &#39;within&#39;,\n",
       "      &#39;Min_fraction&#39;: {&#39;criterion&#39;: &#39;reverse_difference&#39;, &#39;value&#39;: 0.05}},\n",
       "     &#39;Mininum_categories&#39;: {&#39;criterion&#39;: &#39;less_than&#39;},\n",
       "     &#39;isComplete&#39;: {&#39;criterion&#39;: &#39;equality&#39;}},\n",
       "    &#39;event_event_eventDetail_subsystemStates_wifiKernelModuleState&#39;: {&#39;Data Type&#39;: {&#39;criterion&#39;: &#39;equality&#39;},\n",
       "     &#39;Presence&#39;: {&#39;criterion&#39;: &#39;within&#39;,\n",
       "      &#39;Min_fraction&#39;: {&#39;criterion&#39;: &#39;reverse_difference&#39;, &#39;value&#39;: 0.05}},\n",
       "     &#39;Mininum_categories&#39;: {&#39;criterion&#39;: &#39;less_than&#39;},\n",
       "     &#39;isComplete&#39;: {&#39;criterion&#39;: &#39;equality&#39;}},\n",
       "    &#39;event_event_eventDetail_userConfig_powered&#39;: {&#39;Data Type&#39;: {&#39;criterion&#39;: &#39;equality&#39;},\n",
       "     &#39;Presence&#39;: {&#39;criterion&#39;: &#39;within&#39;,\n",
       "      &#39;Min_fraction&#39;: {&#39;criterion&#39;: &#39;reverse_difference&#39;, &#39;value&#39;: 0.05}},\n",
       "     &#39;Mininum_categories&#39;: {&#39;criterion&#39;: &#39;less_than&#39;},\n",
       "     &#39;isComplete&#39;: {&#39;criterion&#39;: &#39;equality&#39;}},\n",
       "    &#39;event_event_eventDetail_userConfig_ipv4ConfigMethod&#39;: {&#39;Data Type&#39;: {&#39;criterion&#39;: &#39;equality&#39;},\n",
       "     &#39;Presence&#39;: {&#39;criterion&#39;: &#39;within&#39;,\n",
       "      &#39;Min_fraction&#39;: {&#39;criterion&#39;: &#39;reverse_difference&#39;, &#39;value&#39;: 0.05}},\n",
       "     &#39;Mininum_categories&#39;: {&#39;criterion&#39;: &#39;less_than&#39;},\n",
       "     &#39;isComplete&#39;: {&#39;criterion&#39;: &#39;equality&#39;}},\n",
       "    &#39;event_event_eventDetail_wifiConfig_lastAssociationCode&#39;: {&#39;Data Type&#39;: {&#39;criterion&#39;: &#39;equality&#39;},\n",
       "     &#39;Presence&#39;: {&#39;criterion&#39;: &#39;within&#39;,\n",
       "      &#39;Min_fraction&#39;: {&#39;criterion&#39;: &#39;reverse_difference&#39;, &#39;value&#39;: 0.05}},\n",
       "     &#39;Mininum_categories&#39;: {&#39;criterion&#39;: &#39;less_than&#39;},\n",
       "     &#39;isComplete&#39;: {&#39;criterion&#39;: &#39;equality&#39;}},\n",
       "    &#39;event_event_eventDetail_domainConfig_nameServerConfig_ipv4Addresses_0_addr&#39;: {&#39;Data Type&#39;: {&#39;criterion&#39;: &#39;equality&#39;},\n",
       "     &#39;Presence&#39;: {&#39;criterion&#39;: &#39;within&#39;,\n",
       "      &#39;Min_fraction&#39;: {&#39;criterion&#39;: &#39;reverse_difference&#39;, &#39;value&#39;: 0.05}},\n",
       "     &#39;Mininum_categories&#39;: {&#39;criterion&#39;: &#39;less_than&#39;},\n",
       "     &#39;isComplete&#39;: {&#39;criterion&#39;: &#39;equality&#39;}},\n",
       "    &#39;event_event_eventDetail_connectionState&#39;: {&#39;Data Type&#39;: {&#39;criterion&#39;: &#39;equality&#39;},\n",
       "     &#39;Presence&#39;: {&#39;criterion&#39;: &#39;within&#39;,\n",
       "      &#39;Min_fraction&#39;: {&#39;criterion&#39;: &#39;reverse_difference&#39;, &#39;value&#39;: 0.05}},\n",
       "     &#39;Mininum_categories&#39;: {&#39;criterion&#39;: &#39;less_than&#39;},\n",
       "     &#39;isComplete&#39;: {&#39;criterion&#39;: &#39;equality&#39;}},\n",
       "    &#39;event_event_eventDetail_stateStabilisationDelay&#39;: {&#39;Data Type&#39;: {&#39;criterion&#39;: &#39;equality&#39;},\n",
       "     &#39;Presence&#39;: {&#39;criterion&#39;: &#39;within&#39;,\n",
       "      &#39;Min_fraction&#39;: {&#39;criterion&#39;: &#39;reverse_difference&#39;, &#39;value&#39;: 0.05}},\n",
       "     &#39;Mininum_categories&#39;: {&#39;criterion&#39;: &#39;less_than&#39;},\n",
       "     &#39;isComplete&#39;: {&#39;criterion&#39;: &#39;equality&#39;}},\n",
       "    &#39;event_event_eventDetail_subsystemStates_wifiSupplicantState&#39;: {&#39;Data Type&#39;: {&#39;criterion&#39;: &#39;equality&#39;},\n",
       "     &#39;Presence&#39;: {&#39;criterion&#39;: &#39;within&#39;,\n",
       "      &#39;Min_fraction&#39;: {&#39;criterion&#39;: &#39;reverse_difference&#39;, &#39;value&#39;: 0.05}},\n",
       "     &#39;Mininum_categories&#39;: {&#39;criterion&#39;: &#39;less_than&#39;},\n",
       "     &#39;isComplete&#39;: {&#39;criterion&#39;: &#39;equality&#39;}},\n",
       "    &#39;event_event_eventDetail_networkConfig_ipv4Gateway&#39;: {&#39;Data Type&#39;: {&#39;criterion&#39;: &#39;equality&#39;},\n",
       "     &#39;Presence&#39;: {&#39;criterion&#39;: &#39;within&#39;,\n",
       "      &#39;Min_fraction&#39;: {&#39;criterion&#39;: &#39;reverse_difference&#39;, &#39;value&#39;: 0.05}},\n",
       "     &#39;Mininum_categories&#39;: {&#39;criterion&#39;: &#39;less_than&#39;},\n",
       "     &#39;isComplete&#39;: {&#39;criterion&#39;: &#39;equality&#39;}},\n",
       "    &#39;event_event_eventDetail_userConfig_ipv6Enabled&#39;: {&#39;Data Type&#39;: {&#39;criterion&#39;: &#39;equality&#39;},\n",
       "     &#39;Presence&#39;: {&#39;criterion&#39;: &#39;within&#39;,\n",
       "      &#39;Min_fraction&#39;: {&#39;criterion&#39;: &#39;reverse_difference&#39;, &#39;value&#39;: 0.05}},\n",
       "     &#39;Mininum_categories&#39;: {&#39;criterion&#39;: &#39;less_than&#39;},\n",
       "     &#39;isComplete&#39;: {&#39;criterion&#39;: &#39;equality&#39;}},\n",
       "    &#39;event_event_eventDetail_userConfig_changeCounter&#39;: {&#39;Data Type&#39;: {&#39;criterion&#39;: &#39;equality&#39;},\n",
       "     &#39;Presence&#39;: {&#39;criterion&#39;: &#39;within&#39;,\n",
       "      &#39;Min_fraction&#39;: {&#39;criterion&#39;: &#39;reverse_difference&#39;, &#39;value&#39;: 0.05}},\n",
       "     &#39;Mininum_categories&#39;: {&#39;criterion&#39;: &#39;less_than&#39;},\n",
       "     &#39;isComplete&#39;: {&#39;criterion&#39;: &#39;equality&#39;}},\n",
       "    &#39;event_event_eventDetail_connectionStateMin&#39;: {&#39;Data Type&#39;: {&#39;criterion&#39;: &#39;equality&#39;},\n",
       "     &#39;Presence&#39;: {&#39;criterion&#39;: &#39;within&#39;,\n",
       "      &#39;Min_fraction&#39;: {&#39;criterion&#39;: &#39;reverse_difference&#39;, &#39;value&#39;: 0.05}},\n",
       "     &#39;Mininum_categories&#39;: {&#39;criterion&#39;: &#39;less_than&#39;},\n",
       "     &#39;isComplete&#39;: {&#39;criterion&#39;: &#39;equality&#39;}},\n",
       "    &#39;event_event_eventDetail_networkConfig_ipv4Address_addr&#39;: {&#39;Data Type&#39;: {&#39;criterion&#39;: &#39;equality&#39;},\n",
       "     &#39;Presence&#39;: {&#39;criterion&#39;: &#39;within&#39;,\n",
       "      &#39;Min_fraction&#39;: {&#39;criterion&#39;: &#39;reverse_difference&#39;, &#39;value&#39;: 0.05}},\n",
       "     &#39;Mininum_categories&#39;: {&#39;criterion&#39;: &#39;less_than&#39;},\n",
       "     &#39;isComplete&#39;: {&#39;criterion&#39;: &#39;equality&#39;}},\n",
       "    &#39;event_event_eventDetail_linkStats_rxDropped&#39;: {&#39;Data Type&#39;: {&#39;criterion&#39;: &#39;equality&#39;},\n",
       "     &#39;Presence&#39;: {&#39;criterion&#39;: &#39;within&#39;,\n",
       "      &#39;Min_fraction&#39;: {&#39;criterion&#39;: &#39;reverse_difference&#39;, &#39;value&#39;: 0.05}},\n",
       "     &#39;Mininum_categories&#39;: {&#39;criterion&#39;: &#39;less_than&#39;},\n",
       "     &#39;isComplete&#39;: {&#39;criterion&#39;: &#39;equality&#39;}},\n",
       "    &#39;event_event_eventDetail_version&#39;: {&#39;Data Type&#39;: {&#39;criterion&#39;: &#39;equality&#39;},\n",
       "     &#39;Presence&#39;: {&#39;criterion&#39;: &#39;within&#39;,\n",
       "      &#39;Min_fraction&#39;: {&#39;criterion&#39;: &#39;reverse_difference&#39;, &#39;value&#39;: 0.05}},\n",
       "     &#39;Mininum_categories&#39;: {&#39;criterion&#39;: &#39;less_than&#39;},\n",
       "     &#39;isComplete&#39;: {&#39;criterion&#39;: &#39;equality&#39;}},\n",
       "    &#39;event_event_eventDetail_domainConfig_searchDomains_4&#39;: {&#39;Data Type&#39;: {&#39;criterion&#39;: &#39;equality&#39;},\n",
       "     &#39;Presence&#39;: {&#39;criterion&#39;: &#39;within&#39;,\n",
       "      &#39;Min_fraction&#39;: {&#39;criterion&#39;: &#39;reverse_difference&#39;, &#39;value&#39;: 0.05}},\n",
       "     &#39;Mininum_categories&#39;: {&#39;criterion&#39;: &#39;less_than&#39;},\n",
       "     &#39;isComplete&#39;: {&#39;criterion&#39;: &#39;equality&#39;}},\n",
       "    &#39;event_event_eventDetail_uapConfig_powered&#39;: {&#39;Data Type&#39;: {&#39;criterion&#39;: &#39;equality&#39;},\n",
       "     &#39;Presence&#39;: {&#39;criterion&#39;: &#39;within&#39;,\n",
       "      &#39;Min_fraction&#39;: {&#39;criterion&#39;: &#39;reverse_difference&#39;, &#39;value&#39;: 0.05}},\n",
       "     &#39;Mininum_categories&#39;: {&#39;criterion&#39;: &#39;less_than&#39;},\n",
       "     &#39;isComplete&#39;: {&#39;criterion&#39;: &#39;equality&#39;}},\n",
       "    &#39;event_event_eventDetail_wifiConfig_disconnectCountFromLastEvent&#39;: {&#39;Data Type&#39;: {&#39;criterion&#39;: &#39;equality&#39;},\n",
       "     &#39;Presence&#39;: {&#39;criterion&#39;: &#39;within&#39;,\n",
       "      &#39;Min_fraction&#39;: {&#39;criterion&#39;: &#39;reverse_difference&#39;, &#39;value&#39;: 0.05}},\n",
       "     &#39;Mininum_categories&#39;: {&#39;criterion&#39;: &#39;less_than&#39;},\n",
       "     &#39;isComplete&#39;: {&#39;criterion&#39;: &#39;equality&#39;}},\n",
       "    &#39;event_event_eventDetail_networkConfig_ipv6Gateway&#39;: {&#39;Data Type&#39;: {&#39;criterion&#39;: &#39;equality&#39;},\n",
       "     &#39;Presence&#39;: {&#39;criterion&#39;: &#39;within&#39;,\n",
       "      &#39;Min_fraction&#39;: {&#39;criterion&#39;: &#39;reverse_difference&#39;, &#39;value&#39;: 0.05}},\n",
       "     &#39;Mininum_categories&#39;: {&#39;criterion&#39;: &#39;less_than&#39;},\n",
       "     &#39;isComplete&#39;: {&#39;criterion&#39;: &#39;equality&#39;}},\n",
       "    &#39;event_event_eventDetail_domainConfig_searchDomains_0&#39;: {&#39;Data Type&#39;: {&#39;criterion&#39;: &#39;equality&#39;},\n",
       "     &#39;Presence&#39;: {&#39;criterion&#39;: &#39;within&#39;,\n",
       "      &#39;Min_fraction&#39;: {&#39;criterion&#39;: &#39;reverse_difference&#39;, &#39;value&#39;: 0.05}},\n",
       "     &#39;Mininum_categories&#39;: {&#39;criterion&#39;: &#39;less_than&#39;},\n",
       "     &#39;isComplete&#39;: {&#39;criterion&#39;: &#39;equality&#39;}},\n",
       "    &#39;event_event_eventDetail_subsystemStates_wifiConnectionState&#39;: {&#39;Data Type&#39;: {&#39;criterion&#39;: &#39;equality&#39;},\n",
       "     &#39;Presence&#39;: {&#39;criterion&#39;: &#39;within&#39;,\n",
       "      &#39;Min_fraction&#39;: {&#39;criterion&#39;: &#39;reverse_difference&#39;, &#39;value&#39;: 0.05}},\n",
       "     &#39;Mininum_categories&#39;: {&#39;criterion&#39;: &#39;less_than&#39;},\n",
       "     &#39;isComplete&#39;: {&#39;criterion&#39;: &#39;equality&#39;}}},\n",
       "   &#39;Global&#39;: {&#39;Data Type&#39;: {&#39;criterion&#39;: &#39;equality&#39;},\n",
       "    &#39;Presence&#39;: {&#39;criterion&#39;: &#39;within&#39;,\n",
       "     &#39;Min_fraction&#39;: {&#39;criterion&#39;: &#39;reverse_difference&#39;, &#39;value&#39;: 0.05}},\n",
       "    &#39;Mininum_categories&#39;: {&#39;criterion&#39;: &#39;less_than&#39;},\n",
       "    &#39;isComplete&#39;: {&#39;criterion&#39;: &#39;equality&#39;}}}}}</div>"
      ]
     },
     "metadata": {
      "application/vnd.databricks.v1+output": {
       "addedWidgets": {},
       "arguments": {},
       "data": "<div class=\"ansiout\">Out[95]: {&#39;Dataset&#39;: {&#39;Data size&#39;: 100, &#39;No of Features&#39;: 60},\n &#39;Numerical&#39;: {&#39;event_event_eventDetail_wifiConfig_lastDeauthReason&#39;: {&#39;Data Type&#39;: &#39;int&#39;,\n   &#39;Presence&#39;: {&#39;Min_fraction&#39;: 1.0},\n   &#39;Average&#39;: 1.67,\n   &#39;Standard Deviation&#39;: 3.293872486845227,\n   &#39;Range&#39;: [0, 16],\n   &#39;Skewness&#39;: 2.8247911399224517,\n   &#39;isPositive&#39;: True,\n   &#39;isComplete&#39;: True},\n  &#39;event_event_eventDetail_wifiConfig_undirectedScanCount&#39;: {&#39;Data Type&#39;: &#39;int&#39;,\n   &#39;Presence&#39;: {&#39;Min_fraction&#39;: 1.0},\n   &#39;Average&#39;: 11.0,\n   &#39;Standard Deviation&#39;: 12.15389533101103,\n   &#39;Range&#39;: [1, 100],\n   &#39;Skewness&#39;: 4.422620521496445,\n   &#39;isPositive&#39;: True,\n   &#39;isComplete&#39;: True},\n  &#39;event_event_eventDetail_linkStats_txPackets&#39;: {&#39;Data Type&#39;: &#39;int&#39;,\n   &#39;Presence&#39;: {&#39;Min_fraction&#39;: 1.0},\n   &#39;Average&#39;: 488902.41,\n   &#39;Standard Deviation&#39;: 1799164.0783993176,\n   &#39;Range&#39;: [148, 17096048],\n   &#39;Skewness&#39;: 8.155918642560685,\n   &#39;isPositive&#39;: True,\n   &#39;isComplete&#39;: True},\n  &#39;event_event_eventDetail_linkStats_rxPackets&#39;: {&#39;Data Type&#39;: &#39;int&#39;,\n   &#39;Presence&#39;: {&#39;Min_fraction&#39;: 1.0},\n   &#39;Average&#39;: 954844.59,\n   &#39;Standard Deviation&#39;: 1996573.1652504208,\n   &#39;Range&#39;: [22, 13122628],\n   &#39;Skewness&#39;: 4.066695812881047,\n   &#39;isPositive&#39;: True,\n   &#39;isComplete&#39;: True},\n  &#39;event_event_eventDetail_wifiConfig_directedScanCount&#39;: {&#39;Data Type&#39;: &#39;int&#39;,\n   &#39;Presence&#39;: {&#39;Min_fraction&#39;: 1.0},\n   &#39;Average&#39;: 2.04,\n   &#39;Standard Deviation&#39;: 2.0788497207869936,\n   &#39;Range&#39;: [1, 12],\n   &#39;Skewness&#39;: 2.68561443691425,\n   &#39;isPositive&#39;: True,\n   &#39;isComplete&#39;: True},\n  &#39;event_event_eventDetail_wifiConfig_signalQuality_noise&#39;: {&#39;Data Type&#39;: &#39;float&#39;,\n   &#39;Presence&#39;: {&#39;Min_fraction&#39;: 1.0},\n   &#39;Average&#39;: -92.63,\n   &#39;Standard Deviation&#39;: 11.03498110921845,\n   &#39;Range&#39;: [-99.0, 0.0],\n   &#39;Skewness&#39;: 6.9627953253481225,\n   &#39;isPositive&#39;: False,\n   &#39;isComplete&#39;: True},\n  &#39;event_event_eventDetail_wifiConfig_signalQuality_strength&#39;: {&#39;Data Type&#39;: &#39;float&#39;,\n   &#39;Presence&#39;: {&#39;Min_fraction&#39;: 1.0},\n   &#39;Average&#39;: -45.74,\n   &#39;Standard Deviation&#39;: 16.099827466294297,\n   &#39;Range&#39;: [-84.0, 0.0],\n   &#39;Skewness&#39;: 0.13578803727096214,\n   &#39;isPositive&#39;: False,\n   &#39;isComplete&#39;: True},\n  &#39;event_event_eventDetail_linkStats_txErrors&#39;: {&#39;Data Type&#39;: &#39;int&#39;,\n   &#39;Presence&#39;: {&#39;Min_fraction&#39;: 1.0},\n   &#39;Average&#39;: 2.5,\n   &#39;Standard Deviation&#39;: 16.314150764030448,\n   &#39;Range&#39;: [0, 155],\n   &#39;Skewness&#39;: 8.55026286512786,\n   &#39;isPositive&#39;: True,\n   &#39;isComplete&#39;: True},\n  &#39;event_event_eventDetail_wifiConfig_channel&#39;: {&#39;Data Type&#39;: &#39;int&#39;,\n   &#39;Presence&#39;: {&#39;Min_fraction&#39;: 0.97},\n   &#39;Average&#39;: 42.4639175257732,\n   &#39;Standard Deviation&#39;: 53.22927254177405,\n   &#39;Range&#39;: [1, 161],\n   &#39;Skewness&#39;: 1.2595130409533934,\n   &#39;isPositive&#39;: True,\n   &#39;isComplete&#39;: False}},\n &#39;Categorical&#39;: {&#39;event_event_eventDetail_domainConfig_domainName&#39;: {&#39;Data Type&#39;: &#39;string&#39;,\n   &#39;Presence&#39;: {&#39;Min_fraction&#39;: 0.47},\n   &#39;Mininum_categories&#39;: 30,\n   &#39;isComplete&#39;: False},\n  &#39;event_event_eventDetail_connectionStateMax&#39;: {&#39;Data Type&#39;: &#39;int&#39;,\n   &#39;Presence&#39;: {&#39;Min_fraction&#39;: 1.0},\n   &#39;Mininum_categories&#39;: 1,\n   &#39;isComplete&#39;: True},\n  &#39;event_event_eventDetail_selfHealSta_selfHealMinWaitTime&#39;: {&#39;Data Type&#39;: &#39;int&#39;,\n   &#39;Presence&#39;: {&#39;Min_fraction&#39;: 0.050000000000000044},\n   &#39;Mininum_categories&#39;: 1,\n   &#39;isComplete&#39;: False},\n  &#39;event_event_eventDetail_subsystemStates_bleKernelModuleState&#39;: {&#39;Data Type&#39;: &#39;string&#39;,\n   &#39;Presence&#39;: {&#39;Min_fraction&#39;: 0.98},\n   &#39;Mininum_categories&#39;: 2,\n   &#39;isComplete&#39;: False},\n  &#39;event_event_eventDetail_uapConfig_adminDisabled&#39;: {&#39;Data Type&#39;: &#39;string&#39;,\n   &#39;Presence&#39;: {&#39;Min_fraction&#39;: 1.0},\n   &#39;Mininum_categories&#39;: 1,\n   &#39;isComplete&#39;: True},\n  &#39;event_event_eventDetail_domainConfig_searchDomains_3&#39;: {&#39;Data Type&#39;: &#39;string&#39;,\n   &#39;Presence&#39;: {&#39;Min_fraction&#39;: 0.0},\n   &#39;Mininum_categories&#39;: 0,\n   &#39;isComplete&#39;: False},\n  &#39;event_event_eventDetail_userConfig_ssid&#39;: {&#39;Data Type&#39;: &#39;string&#39;,\n   &#39;Presence&#39;: {&#39;Min_fraction&#39;: 1.0},\n   &#39;Mininum_categories&#39;: 98,\n   &#39;isComplete&#39;: True},\n  &#39;event_event_eventDetail_subsystemStates_wifiHwModuleState&#39;: {&#39;Data Type&#39;: &#39;string&#39;,\n   &#39;Presence&#39;: {&#39;Min_fraction&#39;: 0.98},\n   &#39;Mininum_categories&#39;: 1,\n   &#39;isComplete&#39;: False},\n  &#39;event_event_eventDetail_domainConfig_searchDomains_1&#39;: {&#39;Data Type&#39;: &#39;string&#39;,\n   &#39;Presence&#39;: {&#39;Min_fraction&#39;: 0.0},\n   &#39;Mininum_categories&#39;: 0,\n   &#39;isComplete&#39;: False},\n  &#39;event_event_eventDetail_eventTriggerReason&#39;: {&#39;Data Type&#39;: &#39;string&#39;,\n   &#39;Presence&#39;: {&#39;Min_fraction&#39;: 1.0},\n   &#39;Mininum_categories&#39;: 1,\n   &#39;isComplete&#39;: True},\n  &#39;event_eventDetailError&#39;: {&#39;Data Type&#39;: &#39;string&#39;,\n   &#39;Presence&#39;: {&#39;Min_fraction&#39;: 0.0},\n   &#39;Mininum_categories&#39;: 0,\n   &#39;isComplete&#39;: False},\n  &#39;event_event_eventDetail_connectionStateCurrent&#39;: {&#39;Data Type&#39;: &#39;int&#39;,\n   &#39;Presence&#39;: {&#39;Min_fraction&#39;: 1.0},\n   &#39;Mininum_categories&#39;: 1,\n   &#39;isComplete&#39;: True},\n  &#39;event_event_eventDetail_networkInterfaceName&#39;: {&#39;Data Type&#39;: &#39;string&#39;,\n   &#39;Presence&#39;: {&#39;Min_fraction&#39;: 1.0},\n   &#39;Mininum_categories&#39;: 1,\n   &#39;isComplete&#39;: True},\n  &#39;event_event_eventDetail_domainConfig_searchDomains_2&#39;: {&#39;Data Type&#39;: &#39;string&#39;,\n   &#39;Presence&#39;: {&#39;Min_fraction&#39;: 0.0},\n   &#39;Mininum_categories&#39;: 0,\n   &#39;isComplete&#39;: False},\n  &#39;event_event_eventDetail_linkStats_txDropped&#39;: {&#39;Data Type&#39;: &#39;int&#39;,\n   &#39;Presence&#39;: {&#39;Min_fraction&#39;: 1.0},\n   &#39;Mininum_categories&#39;: 1,\n   &#39;isComplete&#39;: True},\n  &#39;event_event_eventDetail_bleState&#39;: {&#39;Data Type&#39;: &#39;string&#39;,\n   &#39;Presence&#39;: {&#39;Min_fraction&#39;: 0.98},\n   &#39;Mininum_categories&#39;: 3,\n   &#39;isComplete&#39;: False},\n  &#39;event_event_eventDetail_linkStats_rxErrors&#39;: {&#39;Data Type&#39;: &#39;int&#39;,\n   &#39;Presence&#39;: {&#39;Min_fraction&#39;: 1.0},\n   &#39;Mininum_categories&#39;: 1,\n   &#39;isComplete&#39;: True},\n  &#39;event_event_eventDetail_wifiConfig_authentication&#39;: {&#39;Data Type&#39;: &#39;string&#39;,\n   &#39;Presence&#39;: {&#39;Min_fraction&#39;: 0.98},\n   &#39;Mininum_categories&#39;: 4,\n   &#39;isComplete&#39;: False},\n  &#39;event_event_eventDetail_userConfig_ipv6ConfigMethod&#39;: {&#39;Data Type&#39;: &#39;string&#39;,\n   &#39;Presence&#39;: {&#39;Min_fraction&#39;: 1.0},\n   &#39;Mininum_categories&#39;: 1,\n   &#39;isComplete&#39;: True},\n  &#39;event_eventMeta_eventMetaDetail_eventId&#39;: {&#39;Data Type&#39;: &#39;string&#39;,\n   &#39;Presence&#39;: {&#39;Min_fraction&#39;: 1.0},\n   &#39;Mininum_categories&#39;: 100,\n   &#39;isComplete&#39;: True},\n  &#39;event_event_eventDetail_userConfig_adminDisabled&#39;: {&#39;Data Type&#39;: &#39;string&#39;,\n   &#39;Presence&#39;: {&#39;Min_fraction&#39;: 1.0},\n   &#39;Mininum_categories&#39;: 1,\n   &#39;isComplete&#39;: True},\n  &#39;event_event_eventDetail_userConfig_ipv4Enabled&#39;: {&#39;Data Type&#39;: &#39;string&#39;,\n   &#39;Presence&#39;: {&#39;Min_fraction&#39;: 1.0},\n   &#39;Mininum_categories&#39;: 1,\n   &#39;isComplete&#39;: True},\n  &#39;event_event_eventDetail_domainConfig_hostname&#39;: {&#39;Data Type&#39;: &#39;string&#39;,\n   &#39;Presence&#39;: {&#39;Min_fraction&#39;: 1.0},\n   &#39;Mininum_categories&#39;: 99,\n   &#39;isComplete&#39;: True},\n  &#39;event_event_eventDetail_selfHealSta_reason&#39;: {&#39;Data Type&#39;: &#39;string&#39;,\n   &#39;Presence&#39;: {&#39;Min_fraction&#39;: 0.050000000000000044},\n   &#39;Mininum_categories&#39;: 2,\n   &#39;isComplete&#39;: False},\n  &#39;event_event_eventDetailType&#39;: {&#39;Data Type&#39;: &#39;string&#39;,\n   &#39;Presence&#39;: {&#39;Min_fraction&#39;: 1.0},\n   &#39;Mininum_categories&#39;: 3,\n   &#39;isComplete&#39;: True},\n  &#39;event_event_eventDetail_networkInterfaceType&#39;: {&#39;Data Type&#39;: &#39;string&#39;,\n   &#39;Presence&#39;: {&#39;Min_fraction&#39;: 1.0},\n   &#39;Mininum_categories&#39;: 1,\n   &#39;isComplete&#39;: True},\n  &#39;event_event_eventDetail_wifiConfig_associatedBssid&#39;: {&#39;Data Type&#39;: &#39;string&#39;,\n   &#39;Presence&#39;: {&#39;Min_fraction&#39;: 0.99},\n   &#39;Mininum_categories&#39;: 98,\n   &#39;isComplete&#39;: False},\n  &#39;event_event_eventDetail_domainConfig_searchDomains_5&#39;: {&#39;Data Type&#39;: &#39;string&#39;,\n   &#39;Presence&#39;: {&#39;Min_fraction&#39;: 0.0},\n   &#39;Mininum_categories&#39;: 0,\n   &#39;isComplete&#39;: False},\n  &#39;event_event_eventDetail_userConfig_passwdChanged&#39;: {&#39;Data Type&#39;: &#39;string&#39;,\n   &#39;Presence&#39;: {&#39;Min_fraction&#39;: 1.0},\n   &#39;Mininum_categories&#39;: 2,\n   &#39;isComplete&#39;: True},\n  &#39;event_event_eventDetail_networkConfig_ipv4Address_subnetMask&#39;: {&#39;Data Type&#39;: &#39;string&#39;,\n   &#39;Presence&#39;: {&#39;Min_fraction&#39;: 1.0},\n   &#39;Mininum_categories&#39;: 4,\n   &#39;isComplete&#39;: True},\n  &#39;event_event_eventDetail_subsystemStates_wifiKernelModuleState&#39;: {&#39;Data Type&#39;: &#39;string&#39;,\n   &#39;Presence&#39;: {&#39;Min_fraction&#39;: 0.98},\n   &#39;Mininum_categories&#39;: 1,\n   &#39;isComplete&#39;: False},\n  &#39;event_event_eventDetail_userConfig_powered&#39;: {&#39;Data Type&#39;: &#39;string&#39;,\n   &#39;Presence&#39;: {&#39;Min_fraction&#39;: 1.0},\n   &#39;Mininum_categories&#39;: 1,\n   &#39;isComplete&#39;: True},\n  &#39;event_event_eventDetail_userConfig_ipv4ConfigMethod&#39;: {&#39;Data Type&#39;: &#39;string&#39;,\n   &#39;Presence&#39;: {&#39;Min_fraction&#39;: 1.0},\n   &#39;Mininum_categories&#39;: 1,\n   &#39;isComplete&#39;: True},\n  &#39;event_event_eventDetail_wifiConfig_lastAssociationCode&#39;: {&#39;Data Type&#39;: &#39;string&#39;,\n   &#39;Presence&#39;: {&#39;Min_fraction&#39;: 1.0},\n   &#39;Mininum_categories&#39;: 1,\n   &#39;isComplete&#39;: True},\n  &#39;event_event_eventDetail_domainConfig_nameServerConfig_ipv4Addresses_0_addr&#39;: {&#39;Data Type&#39;: &#39;string&#39;,\n   &#39;Presence&#39;: {&#39;Min_fraction&#39;: 1.0},\n   &#39;Mininum_categories&#39;: 38,\n   &#39;isComplete&#39;: True},\n  &#39;event_event_eventDetail_connectionState&#39;: {&#39;Data Type&#39;: &#39;string&#39;,\n   &#39;Presence&#39;: {&#39;Min_fraction&#39;: 1.0},\n   &#39;Mininum_categories&#39;: 1,\n   &#39;isComplete&#39;: True},\n  &#39;event_event_eventDetail_stateStabilisationDelay&#39;: {&#39;Data Type&#39;: &#39;int&#39;,\n   &#39;Presence&#39;: {&#39;Min_fraction&#39;: 1.0},\n   &#39;Mininum_categories&#39;: 2,\n   &#39;isComplete&#39;: True},\n  &#39;event_event_eventDetail_subsystemStates_wifiSupplicantState&#39;: {&#39;Data Type&#39;: &#39;string&#39;,\n   &#39;Presence&#39;: {&#39;Min_fraction&#39;: 0.98},\n   &#39;Mininum_categories&#39;: 1,\n   &#39;isComplete&#39;: False},\n  &#39;event_event_eventDetail_networkConfig_ipv4Gateway&#39;: {&#39;Data Type&#39;: &#39;string&#39;,\n   &#39;Presence&#39;: {&#39;Min_fraction&#39;: 1.0},\n   &#39;Mininum_categories&#39;: 32,\n   &#39;isComplete&#39;: True},\n  &#39;event_event_eventDetail_userConfig_ipv6Enabled&#39;: {&#39;Data Type&#39;: &#39;string&#39;,\n   &#39;Presence&#39;: {&#39;Min_fraction&#39;: 1.0},\n   &#39;Mininum_categories&#39;: 2,\n   &#39;isComplete&#39;: True},\n  &#39;event_event_eventDetail_userConfig_changeCounter&#39;: {&#39;Data Type&#39;: &#39;int&#39;,\n   &#39;Presence&#39;: {&#39;Min_fraction&#39;: 1.0},\n   &#39;Mininum_categories&#39;: 3,\n   &#39;isComplete&#39;: True},\n  &#39;event_event_eventDetail_connectionStateMin&#39;: {&#39;Data Type&#39;: &#39;int&#39;,\n   &#39;Presence&#39;: {&#39;Min_fraction&#39;: 1.0},\n   &#39;Mininum_categories&#39;: 1,\n   &#39;isComplete&#39;: True},\n  &#39;event_event_eventDetail_networkConfig_ipv4Address_addr&#39;: {&#39;Data Type&#39;: &#39;string&#39;,\n   &#39;Presence&#39;: {&#39;Min_fraction&#39;: 1.0},\n   &#39;Mininum_categories&#39;: 83,\n   &#39;isComplete&#39;: True},\n  &#39;event_event_eventDetail_linkStats_rxDropped&#39;: {&#39;Data Type&#39;: &#39;int&#39;,\n   &#39;Presence&#39;: {&#39;Min_fraction&#39;: 1.0},\n   &#39;Mininum_categories&#39;: 1,\n   &#39;isComplete&#39;: True},\n  &#39;event_event_eventDetail_version&#39;: {&#39;Data Type&#39;: &#39;string&#39;,\n   &#39;Presence&#39;: {&#39;Min_fraction&#39;: 1.0},\n   &#39;Mininum_categories&#39;: 3,\n   &#39;isComplete&#39;: True},\n  &#39;event_event_eventDetail_domainConfig_searchDomains_4&#39;: {&#39;Data Type&#39;: &#39;string&#39;,\n   &#39;Presence&#39;: {&#39;Min_fraction&#39;: 0.0},\n   &#39;Mininum_categories&#39;: 0,\n   &#39;isComplete&#39;: False},\n  &#39;event_event_eventDetail_uapConfig_powered&#39;: {&#39;Data Type&#39;: &#39;string&#39;,\n   &#39;Presence&#39;: {&#39;Min_fraction&#39;: 1.0},\n   &#39;Mininum_categories&#39;: 2,\n   &#39;isComplete&#39;: True},\n  &#39;event_event_eventDetail_wifiConfig_disconnectCountFromLastEvent&#39;: {&#39;Data Type&#39;: &#39;int&#39;,\n   &#39;Presence&#39;: {&#39;Min_fraction&#39;: 0.98},\n   &#39;Mininum_categories&#39;: 4,\n   &#39;isComplete&#39;: False},\n  &#39;event_event_eventDetail_networkConfig_ipv6Gateway&#39;: {&#39;Data Type&#39;: &#39;string&#39;,\n   &#39;Presence&#39;: {&#39;Min_fraction&#39;: 0.14},\n   &#39;Mininum_categories&#39;: 10,\n   &#39;isComplete&#39;: False},\n  &#39;event_event_eventDetail_domainConfig_searchDomains_0&#39;: {&#39;Data Type&#39;: &#39;string&#39;,\n   &#39;Presence&#39;: {&#39;Min_fraction&#39;: 0.0},\n   &#39;Mininum_categories&#39;: 0,\n   &#39;isComplete&#39;: False},\n  &#39;event_event_eventDetail_subsystemStates_wifiConnectionState&#39;: {&#39;Data Type&#39;: &#39;string&#39;,\n   &#39;Presence&#39;: {&#39;Min_fraction&#39;: 0.98},\n   &#39;Mininum_categories&#39;: 1,\n   &#39;isComplete&#39;: False}},\n &#39;Threshold&#39;: {&#39;Dataset&#39;: {&#39;Data size&#39;: {&#39;criterion&#39;: &#39;equality&#39;},\n   &#39;No of Features&#39;: {&#39;criterion&#39;: &#39;equality&#39;}},\n  &#39;Numerical&#39;: {&#39;Feature-wise&#39;: {&#39;event_event_eventDetail_wifiConfig_lastDeauthReason&#39;: {&#39;Data Type&#39;: {&#39;criterion&#39;: &#39;equality&#39;},\n     &#39;Presence&#39;: {&#39;criterion&#39;: &#39;within&#39;,\n      &#39;Min_fraction&#39;: {&#39;criterion&#39;: &#39;reverse_difference&#39;, &#39;value&#39;: 0.05}},\n     &#39;Average&#39;: {&#39;criterion&#39;: &#39;ratio&#39;, &#39;value&#39;: 1.5},\n     &#39;Standard Deviation&#39;: {&#39;criterion&#39;: &#39;ratio&#39;, &#39;value&#39;: 2},\n     &#39;Range&#39;: {&#39;criterion&#39;: &#39;inRange&#39;, &#39;value&#39;: 1.5},\n     &#39;Skewness&#39;: {&#39;criterion&#39;: &#39;ratio&#39;, &#39;value&#39;: 1.5},\n     &#39;isPositive&#39;: {&#39;criterion&#39;: &#39;equality&#39;},\n     &#39;isComplete&#39;: {&#39;criterion&#39;: &#39;equality&#39;}},\n    &#39;event_event_eventDetail_wifiConfig_undirectedScanCount&#39;: {&#39;Data Type&#39;: {&#39;criterion&#39;: &#39;equality&#39;},\n     &#39;Presence&#39;: {&#39;criterion&#39;: &#39;within&#39;,\n      &#39;Min_fraction&#39;: {&#39;criterion&#39;: &#39;reverse_difference&#39;, &#39;value&#39;: 0.05}},\n     &#39;Average&#39;: {&#39;criterion&#39;: &#39;ratio&#39;, &#39;value&#39;: 1.5},\n     &#39;Standard Deviation&#39;: {&#39;criterion&#39;: &#39;ratio&#39;, &#39;value&#39;: 2},\n     &#39;Range&#39;: {&#39;criterion&#39;: &#39;inRange&#39;, &#39;value&#39;: 1.5},\n     &#39;Skewness&#39;: {&#39;criterion&#39;: &#39;ratio&#39;, &#39;value&#39;: 1.5},\n     &#39;isPositive&#39;: {&#39;criterion&#39;: &#39;equality&#39;},\n     &#39;isComplete&#39;: {&#39;criterion&#39;: &#39;equality&#39;}},\n    &#39;event_event_eventDetail_linkStats_txPackets&#39;: {&#39;Data Type&#39;: {&#39;criterion&#39;: &#39;equality&#39;},\n     &#39;Presence&#39;: {&#39;criterion&#39;: &#39;within&#39;,\n      &#39;Min_fraction&#39;: {&#39;criterion&#39;: &#39;reverse_difference&#39;, &#39;value&#39;: 0.05}},\n     &#39;Average&#39;: {&#39;criterion&#39;: &#39;ratio&#39;, &#39;value&#39;: 1.5},\n     &#39;Standard Deviation&#39;: {&#39;criterion&#39;: &#39;ratio&#39;, &#39;value&#39;: 2},\n     &#39;Range&#39;: {&#39;criterion&#39;: &#39;inRange&#39;, &#39;value&#39;: 1.5},\n     &#39;Skewness&#39;: {&#39;criterion&#39;: &#39;ratio&#39;, &#39;value&#39;: 1.5},\n     &#39;isPositive&#39;: {&#39;criterion&#39;: &#39;equality&#39;},\n     &#39;isComplete&#39;: {&#39;criterion&#39;: &#39;equality&#39;}},\n    &#39;event_event_eventDetail_linkStats_rxPackets&#39;: {&#39;Data Type&#39;: {&#39;criterion&#39;: &#39;equality&#39;},\n     &#39;Presence&#39;: {&#39;criterion&#39;: &#39;within&#39;,\n      &#39;Min_fraction&#39;: {&#39;criterion&#39;: &#39;reverse_difference&#39;, &#39;value&#39;: 0.05}},\n     &#39;Average&#39;: {&#39;criterion&#39;: &#39;ratio&#39;, &#39;value&#39;: 1.5},\n     &#39;Standard Deviation&#39;: {&#39;criterion&#39;: &#39;ratio&#39;, &#39;value&#39;: 2},\n     &#39;Range&#39;: {&#39;criterion&#39;: &#39;inRange&#39;, &#39;value&#39;: 1.5},\n     &#39;Skewness&#39;: {&#39;criterion&#39;: &#39;ratio&#39;, &#39;value&#39;: 1.5},\n     &#39;isPositive&#39;: {&#39;criterion&#39;: &#39;equality&#39;},\n     &#39;isComplete&#39;: {&#39;criterion&#39;: &#39;equality&#39;}},\n    &#39;event_event_eventDetail_wifiConfig_directedScanCount&#39;: {&#39;Data Type&#39;: {&#39;criterion&#39;: &#39;equality&#39;},\n     &#39;Presence&#39;: {&#39;criterion&#39;: &#39;within&#39;,\n      &#39;Min_fraction&#39;: {&#39;criterion&#39;: &#39;reverse_difference&#39;, &#39;value&#39;: 0.05}},\n     &#39;Average&#39;: {&#39;criterion&#39;: &#39;ratio&#39;, &#39;value&#39;: 1.5},\n     &#39;Standard Deviation&#39;: {&#39;criterion&#39;: &#39;ratio&#39;, &#39;value&#39;: 2},\n     &#39;Range&#39;: {&#39;criterion&#39;: &#39;inRange&#39;, &#39;value&#39;: 1.5},\n     &#39;Skewness&#39;: {&#39;criterion&#39;: &#39;ratio&#39;, &#39;value&#39;: 1.5},\n     &#39;isPositive&#39;: {&#39;criterion&#39;: &#39;equality&#39;},\n     &#39;isComplete&#39;: {&#39;criterion&#39;: &#39;equality&#39;}},\n    &#39;event_event_eventDetail_wifiConfig_signalQuality_noise&#39;: {&#39;Data Type&#39;: {&#39;criterion&#39;: &#39;equality&#39;},\n     &#39;Presence&#39;: {&#39;criterion&#39;: &#39;within&#39;,\n      &#39;Min_fraction&#39;: {&#39;criterion&#39;: &#39;reverse_difference&#39;, &#39;value&#39;: 0.05}},\n     &#39;Average&#39;: {&#39;criterion&#39;: &#39;ratio&#39;, &#39;value&#39;: 1.5},\n     &#39;Standard Deviation&#39;: {&#39;criterion&#39;: &#39;ratio&#39;, &#39;value&#39;: 2},\n     &#39;Range&#39;: {&#39;criterion&#39;: &#39;inRange&#39;, &#39;value&#39;: 1.5},\n     &#39;Skewness&#39;: {&#39;criterion&#39;: &#39;ratio&#39;, &#39;value&#39;: 1.5},\n     &#39;isPositive&#39;: {&#39;criterion&#39;: &#39;equality&#39;},\n     &#39;isComplete&#39;: {&#39;criterion&#39;: &#39;equality&#39;}},\n    &#39;event_event_eventDetail_wifiConfig_signalQuality_strength&#39;: {&#39;Data Type&#39;: {&#39;criterion&#39;: &#39;equality&#39;},\n     &#39;Presence&#39;: {&#39;criterion&#39;: &#39;within&#39;,\n      &#39;Min_fraction&#39;: {&#39;criterion&#39;: &#39;reverse_difference&#39;, &#39;value&#39;: 0.05}},\n     &#39;Average&#39;: {&#39;criterion&#39;: &#39;ratio&#39;, &#39;value&#39;: 1.5},\n     &#39;Standard Deviation&#39;: {&#39;criterion&#39;: &#39;ratio&#39;, &#39;value&#39;: 2},\n     &#39;Range&#39;: {&#39;criterion&#39;: &#39;inRange&#39;, &#39;value&#39;: 1.5},\n     &#39;Skewness&#39;: {&#39;criterion&#39;: &#39;ratio&#39;, &#39;value&#39;: 1.5},\n     &#39;isPositive&#39;: {&#39;criterion&#39;: &#39;equality&#39;},\n     &#39;isComplete&#39;: {&#39;criterion&#39;: &#39;equality&#39;}},\n    &#39;event_event_eventDetail_linkStats_txErrors&#39;: {&#39;Data Type&#39;: {&#39;criterion&#39;: &#39;equality&#39;},\n     &#39;Presence&#39;: {&#39;criterion&#39;: &#39;within&#39;,\n      &#39;Min_fraction&#39;: {&#39;criterion&#39;: &#39;reverse_difference&#39;, &#39;value&#39;: 0.05}},\n     &#39;Average&#39;: {&#39;criterion&#39;: &#39;ratio&#39;, &#39;value&#39;: 1.5},\n     &#39;Standard Deviation&#39;: {&#39;criterion&#39;: &#39;ratio&#39;, &#39;value&#39;: 2},\n     &#39;Range&#39;: {&#39;criterion&#39;: &#39;inRange&#39;, &#39;value&#39;: 1.5},\n     &#39;Skewness&#39;: {&#39;criterion&#39;: &#39;ratio&#39;, &#39;value&#39;: 1.5},\n     &#39;isPositive&#39;: {&#39;criterion&#39;: &#39;equality&#39;},\n     &#39;isComplete&#39;: {&#39;criterion&#39;: &#39;equality&#39;}},\n    &#39;event_event_eventDetail_wifiConfig_channel&#39;: {&#39;Data Type&#39;: {&#39;criterion&#39;: &#39;equality&#39;},\n     &#39;Presence&#39;: {&#39;criterion&#39;: &#39;within&#39;,\n      &#39;Min_fraction&#39;: {&#39;criterion&#39;: &#39;reverse_difference&#39;, &#39;value&#39;: 0.05}},\n     &#39;Average&#39;: {&#39;criterion&#39;: &#39;ratio&#39;, &#39;value&#39;: 1.5},\n     &#39;Standard Deviation&#39;: {&#39;criterion&#39;: &#39;ratio&#39;, &#39;value&#39;: 2},\n     &#39;Range&#39;: {&#39;criterion&#39;: &#39;inRange&#39;, &#39;value&#39;: 1.5},\n     &#39;Skewness&#39;: {&#39;criterion&#39;: &#39;ratio&#39;, &#39;value&#39;: 1.5},\n     &#39;isPositive&#39;: {&#39;criterion&#39;: &#39;equality&#39;},\n     &#39;isComplete&#39;: {&#39;criterion&#39;: &#39;equality&#39;}}},\n   &#39;Global&#39;: {&#39;Data Type&#39;: {&#39;criterion&#39;: &#39;equality&#39;},\n    &#39;Presence&#39;: {&#39;criterion&#39;: &#39;within&#39;,\n     &#39;Min_fraction&#39;: {&#39;criterion&#39;: &#39;reverse_difference&#39;, &#39;value&#39;: 0.05}},\n    &#39;Average&#39;: {&#39;criterion&#39;: &#39;ratio&#39;, &#39;value&#39;: 1.5},\n    &#39;Standard Deviation&#39;: {&#39;criterion&#39;: &#39;ratio&#39;, &#39;value&#39;: 2},\n    &#39;Range&#39;: {&#39;criterion&#39;: &#39;inRange&#39;, &#39;value&#39;: 1.5},\n    &#39;Skewness&#39;: {&#39;criterion&#39;: &#39;ratio&#39;, &#39;value&#39;: 1.5},\n    &#39;isPositive&#39;: {&#39;criterion&#39;: &#39;equality&#39;},\n    &#39;isComplete&#39;: {&#39;criterion&#39;: &#39;equality&#39;}}},\n  &#39;Categorical&#39;: {&#39;Feature-wise&#39;: {&#39;event_event_eventDetail_domainConfig_domainName&#39;: {&#39;Data Type&#39;: {&#39;criterion&#39;: &#39;equality&#39;},\n     &#39;Presence&#39;: {&#39;criterion&#39;: &#39;within&#39;,\n      &#39;Min_fraction&#39;: {&#39;criterion&#39;: &#39;reverse_difference&#39;, &#39;value&#39;: 0.05}},\n     &#39;Mininum_categories&#39;: {&#39;criterion&#39;: &#39;less_than&#39;},\n     &#39;isComplete&#39;: {&#39;criterion&#39;: &#39;equality&#39;}},\n    &#39;event_event_eventDetail_connectionStateMax&#39;: {&#39;Data Type&#39;: {&#39;criterion&#39;: &#39;equality&#39;},\n     &#39;Presence&#39;: {&#39;criterion&#39;: &#39;within&#39;,\n      &#39;Min_fraction&#39;: {&#39;criterion&#39;: &#39;reverse_difference&#39;, &#39;value&#39;: 0.05}},\n     &#39;Mininum_categories&#39;: {&#39;criterion&#39;: &#39;less_than&#39;},\n     &#39;isComplete&#39;: {&#39;criterion&#39;: &#39;equality&#39;}},\n    &#39;event_event_eventDetail_selfHealSta_selfHealMinWaitTime&#39;: {&#39;Data Type&#39;: {&#39;criterion&#39;: &#39;equality&#39;},\n     &#39;Presence&#39;: {&#39;criterion&#39;: &#39;within&#39;,\n      &#39;Min_fraction&#39;: {&#39;criterion&#39;: &#39;reverse_difference&#39;, &#39;value&#39;: 0.05}},\n     &#39;Mininum_categories&#39;: {&#39;criterion&#39;: &#39;less_than&#39;},\n     &#39;isComplete&#39;: {&#39;criterion&#39;: &#39;equality&#39;}},\n    &#39;event_event_eventDetail_subsystemStates_bleKernelModuleState&#39;: {&#39;Data Type&#39;: {&#39;criterion&#39;: &#39;equality&#39;},\n     &#39;Presence&#39;: {&#39;criterion&#39;: &#39;within&#39;,\n      &#39;Min_fraction&#39;: {&#39;criterion&#39;: &#39;reverse_difference&#39;, &#39;value&#39;: 0.05}},\n     &#39;Mininum_categories&#39;: {&#39;criterion&#39;: &#39;less_than&#39;},\n     &#39;isComplete&#39;: {&#39;criterion&#39;: &#39;equality&#39;}},\n    &#39;event_event_eventDetail_uapConfig_adminDisabled&#39;: {&#39;Data Type&#39;: {&#39;criterion&#39;: &#39;equality&#39;},\n     &#39;Presence&#39;: {&#39;criterion&#39;: &#39;within&#39;,\n      &#39;Min_fraction&#39;: {&#39;criterion&#39;: &#39;reverse_difference&#39;, &#39;value&#39;: 0.05}},\n     &#39;Mininum_categories&#39;: {&#39;criterion&#39;: &#39;less_than&#39;},\n     &#39;isComplete&#39;: {&#39;criterion&#39;: &#39;equality&#39;}},\n    &#39;event_event_eventDetail_domainConfig_searchDomains_3&#39;: {&#39;Data Type&#39;: {&#39;criterion&#39;: &#39;equality&#39;},\n     &#39;Presence&#39;: {&#39;criterion&#39;: &#39;within&#39;,\n      &#39;Min_fraction&#39;: {&#39;criterion&#39;: &#39;reverse_difference&#39;, &#39;value&#39;: 0.05}},\n     &#39;Mininum_categories&#39;: {&#39;criterion&#39;: &#39;less_than&#39;},\n     &#39;isComplete&#39;: {&#39;criterion&#39;: &#39;equality&#39;}},\n    &#39;event_event_eventDetail_userConfig_ssid&#39;: {&#39;Data Type&#39;: {&#39;criterion&#39;: &#39;equality&#39;},\n     &#39;Presence&#39;: {&#39;criterion&#39;: &#39;within&#39;,\n      &#39;Min_fraction&#39;: {&#39;criterion&#39;: &#39;reverse_difference&#39;, &#39;value&#39;: 0.05}},\n     &#39;Mininum_categories&#39;: {&#39;criterion&#39;: &#39;less_than&#39;},\n     &#39;isComplete&#39;: {&#39;criterion&#39;: &#39;equality&#39;}},\n    &#39;event_event_eventDetail_subsystemStates_wifiHwModuleState&#39;: {&#39;Data Type&#39;: {&#39;criterion&#39;: &#39;equality&#39;},\n     &#39;Presence&#39;: {&#39;criterion&#39;: &#39;within&#39;,\n      &#39;Min_fraction&#39;: {&#39;criterion&#39;: &#39;reverse_difference&#39;, &#39;value&#39;: 0.05}},\n     &#39;Mininum_categories&#39;: {&#39;criterion&#39;: &#39;less_than&#39;},\n     &#39;isComplete&#39;: {&#39;criterion&#39;: &#39;equality&#39;}},\n    &#39;event_event_eventDetail_domainConfig_searchDomains_1&#39;: {&#39;Data Type&#39;: {&#39;criterion&#39;: &#39;equality&#39;},\n     &#39;Presence&#39;: {&#39;criterion&#39;: &#39;within&#39;,\n      &#39;Min_fraction&#39;: {&#39;criterion&#39;: &#39;reverse_difference&#39;, &#39;value&#39;: 0.05}},\n     &#39;Mininum_categories&#39;: {&#39;criterion&#39;: &#39;less_than&#39;},\n     &#39;isComplete&#39;: {&#39;criterion&#39;: &#39;equality&#39;}},\n    &#39;event_event_eventDetail_eventTriggerReason&#39;: {&#39;Data Type&#39;: {&#39;criterion&#39;: &#39;equality&#39;},\n     &#39;Presence&#39;: {&#39;criterion&#39;: &#39;within&#39;,\n      &#39;Min_fraction&#39;: {&#39;criterion&#39;: &#39;reverse_difference&#39;, &#39;value&#39;: 0.05}},\n     &#39;Mininum_categories&#39;: {&#39;criterion&#39;: &#39;less_than&#39;},\n     &#39;isComplete&#39;: {&#39;criterion&#39;: &#39;equality&#39;}},\n    &#39;event_eventDetailError&#39;: {&#39;Data Type&#39;: {&#39;criterion&#39;: &#39;equality&#39;},\n     &#39;Presence&#39;: {&#39;criterion&#39;: &#39;within&#39;,\n      &#39;Min_fraction&#39;: {&#39;criterion&#39;: &#39;reverse_difference&#39;, &#39;value&#39;: 0.05}},\n     &#39;Mininum_categories&#39;: {&#39;criterion&#39;: &#39;less_than&#39;},\n     &#39;isComplete&#39;: {&#39;criterion&#39;: &#39;equality&#39;}},\n    &#39;event_event_eventDetail_connectionStateCurrent&#39;: {&#39;Data Type&#39;: {&#39;criterion&#39;: &#39;equality&#39;},\n     &#39;Presence&#39;: {&#39;criterion&#39;: &#39;within&#39;,\n      &#39;Min_fraction&#39;: {&#39;criterion&#39;: &#39;reverse_difference&#39;, &#39;value&#39;: 0.05}},\n     &#39;Mininum_categories&#39;: {&#39;criterion&#39;: &#39;less_than&#39;},\n     &#39;isComplete&#39;: {&#39;criterion&#39;: &#39;equality&#39;}},\n    &#39;event_event_eventDetail_networkInterfaceName&#39;: {&#39;Data Type&#39;: {&#39;criterion&#39;: &#39;equality&#39;},\n     &#39;Presence&#39;: {&#39;criterion&#39;: &#39;within&#39;,\n      &#39;Min_fraction&#39;: {&#39;criterion&#39;: &#39;reverse_difference&#39;, &#39;value&#39;: 0.05}},\n     &#39;Mininum_categories&#39;: {&#39;criterion&#39;: &#39;less_than&#39;},\n     &#39;isComplete&#39;: {&#39;criterion&#39;: &#39;equality&#39;}},\n    &#39;event_event_eventDetail_domainConfig_searchDomains_2&#39;: {&#39;Data Type&#39;: {&#39;criterion&#39;: &#39;equality&#39;},\n     &#39;Presence&#39;: {&#39;criterion&#39;: &#39;within&#39;,\n      &#39;Min_fraction&#39;: {&#39;criterion&#39;: &#39;reverse_difference&#39;, &#39;value&#39;: 0.05}},\n     &#39;Mininum_categories&#39;: {&#39;criterion&#39;: &#39;less_than&#39;},\n     &#39;isComplete&#39;: {&#39;criterion&#39;: &#39;equality&#39;}},\n    &#39;event_event_eventDetail_linkStats_txDropped&#39;: {&#39;Data Type&#39;: {&#39;criterion&#39;: &#39;equality&#39;},\n     &#39;Presence&#39;: {&#39;criterion&#39;: &#39;within&#39;,\n      &#39;Min_fraction&#39;: {&#39;criterion&#39;: &#39;reverse_difference&#39;, &#39;value&#39;: 0.05}},\n     &#39;Mininum_categories&#39;: {&#39;criterion&#39;: &#39;less_than&#39;},\n     &#39;isComplete&#39;: {&#39;criterion&#39;: &#39;equality&#39;}},\n    &#39;event_event_eventDetail_bleState&#39;: {&#39;Data Type&#39;: {&#39;criterion&#39;: &#39;equality&#39;},\n     &#39;Presence&#39;: {&#39;criterion&#39;: &#39;within&#39;,\n      &#39;Min_fraction&#39;: {&#39;criterion&#39;: &#39;reverse_difference&#39;, &#39;value&#39;: 0.05}},\n     &#39;Mininum_categories&#39;: {&#39;criterion&#39;: &#39;less_than&#39;},\n     &#39;isComplete&#39;: {&#39;criterion&#39;: &#39;equality&#39;}},\n    &#39;event_event_eventDetail_linkStats_rxErrors&#39;: {&#39;Data Type&#39;: {&#39;criterion&#39;: &#39;equality&#39;},\n     &#39;Presence&#39;: {&#39;criterion&#39;: &#39;within&#39;,\n      &#39;Min_fraction&#39;: {&#39;criterion&#39;: &#39;reverse_difference&#39;, &#39;value&#39;: 0.05}},\n     &#39;Mininum_categories&#39;: {&#39;criterion&#39;: &#39;less_than&#39;},\n     &#39;isComplete&#39;: {&#39;criterion&#39;: &#39;equality&#39;}},\n    &#39;event_event_eventDetail_wifiConfig_authentication&#39;: {&#39;Data Type&#39;: {&#39;criterion&#39;: &#39;equality&#39;},\n     &#39;Presence&#39;: {&#39;criterion&#39;: &#39;within&#39;,\n      &#39;Min_fraction&#39;: {&#39;criterion&#39;: &#39;reverse_difference&#39;, &#39;value&#39;: 0.05}},\n     &#39;Mininum_categories&#39;: {&#39;criterion&#39;: &#39;less_than&#39;},\n     &#39;isComplete&#39;: {&#39;criterion&#39;: &#39;equality&#39;}},\n    &#39;event_event_eventDetail_userConfig_ipv6ConfigMethod&#39;: {&#39;Data Type&#39;: {&#39;criterion&#39;: &#39;equality&#39;},\n     &#39;Presence&#39;: {&#39;criterion&#39;: &#39;within&#39;,\n      &#39;Min_fraction&#39;: {&#39;criterion&#39;: &#39;reverse_difference&#39;, &#39;value&#39;: 0.05}},\n     &#39;Mininum_categories&#39;: {&#39;criterion&#39;: &#39;less_than&#39;},\n     &#39;isComplete&#39;: {&#39;criterion&#39;: &#39;equality&#39;}},\n    &#39;event_eventMeta_eventMetaDetail_eventId&#39;: {&#39;Data Type&#39;: {&#39;criterion&#39;: &#39;equality&#39;},\n     &#39;Presence&#39;: {&#39;criterion&#39;: &#39;within&#39;,\n      &#39;Min_fraction&#39;: {&#39;criterion&#39;: &#39;reverse_difference&#39;, &#39;value&#39;: 0.05}},\n     &#39;Mininum_categories&#39;: {&#39;criterion&#39;: &#39;less_than&#39;},\n     &#39;isComplete&#39;: {&#39;criterion&#39;: &#39;equality&#39;}},\n    &#39;event_event_eventDetail_userConfig_adminDisabled&#39;: {&#39;Data Type&#39;: {&#39;criterion&#39;: &#39;equality&#39;},\n     &#39;Presence&#39;: {&#39;criterion&#39;: &#39;within&#39;,\n      &#39;Min_fraction&#39;: {&#39;criterion&#39;: &#39;reverse_difference&#39;, &#39;value&#39;: 0.05}},\n     &#39;Mininum_categories&#39;: {&#39;criterion&#39;: &#39;less_than&#39;},\n     &#39;isComplete&#39;: {&#39;criterion&#39;: &#39;equality&#39;}},\n    &#39;event_event_eventDetail_userConfig_ipv4Enabled&#39;: {&#39;Data Type&#39;: {&#39;criterion&#39;: &#39;equality&#39;},\n     &#39;Presence&#39;: {&#39;criterion&#39;: &#39;within&#39;,\n      &#39;Min_fraction&#39;: {&#39;criterion&#39;: &#39;reverse_difference&#39;, &#39;value&#39;: 0.05}},\n     &#39;Mininum_categories&#39;: {&#39;criterion&#39;: &#39;less_than&#39;},\n     &#39;isComplete&#39;: {&#39;criterion&#39;: &#39;equality&#39;}},\n    &#39;event_event_eventDetail_domainConfig_hostname&#39;: {&#39;Data Type&#39;: {&#39;criterion&#39;: &#39;equality&#39;},\n     &#39;Presence&#39;: {&#39;criterion&#39;: &#39;within&#39;,\n      &#39;Min_fraction&#39;: {&#39;criterion&#39;: &#39;reverse_difference&#39;, &#39;value&#39;: 0.05}},\n     &#39;Mininum_categories&#39;: {&#39;criterion&#39;: &#39;less_than&#39;},\n     &#39;isComplete&#39;: {&#39;criterion&#39;: &#39;equality&#39;}},\n    &#39;event_event_eventDetail_selfHealSta_reason&#39;: {&#39;Data Type&#39;: {&#39;criterion&#39;: &#39;equality&#39;},\n     &#39;Presence&#39;: {&#39;criterion&#39;: &#39;within&#39;,\n      &#39;Min_fraction&#39;: {&#39;criterion&#39;: &#39;reverse_difference&#39;, &#39;value&#39;: 0.05}},\n     &#39;Mininum_categories&#39;: {&#39;criterion&#39;: &#39;less_than&#39;},\n     &#39;isComplete&#39;: {&#39;criterion&#39;: &#39;equality&#39;}},\n    &#39;event_event_eventDetailType&#39;: {&#39;Data Type&#39;: {&#39;criterion&#39;: &#39;equality&#39;},\n     &#39;Presence&#39;: {&#39;criterion&#39;: &#39;within&#39;,\n      &#39;Min_fraction&#39;: {&#39;criterion&#39;: &#39;reverse_difference&#39;, &#39;value&#39;: 0.05}},\n     &#39;Mininum_categories&#39;: {&#39;criterion&#39;: &#39;less_than&#39;},\n     &#39;isComplete&#39;: {&#39;criterion&#39;: &#39;equality&#39;}},\n    &#39;event_event_eventDetail_networkInterfaceType&#39;: {&#39;Data Type&#39;: {&#39;criterion&#39;: &#39;equality&#39;},\n     &#39;Presence&#39;: {&#39;criterion&#39;: &#39;within&#39;,\n      &#39;Min_fraction&#39;: {&#39;criterion&#39;: &#39;reverse_difference&#39;, &#39;value&#39;: 0.05}},\n     &#39;Mininum_categories&#39;: {&#39;criterion&#39;: &#39;less_than&#39;},\n     &#39;isComplete&#39;: {&#39;criterion&#39;: &#39;equality&#39;}},\n    &#39;event_event_eventDetail_wifiConfig_associatedBssid&#39;: {&#39;Data Type&#39;: {&#39;criterion&#39;: &#39;equality&#39;},\n     &#39;Presence&#39;: {&#39;criterion&#39;: &#39;within&#39;,\n      &#39;Min_fraction&#39;: {&#39;criterion&#39;: &#39;reverse_difference&#39;, &#39;value&#39;: 0.05}},\n     &#39;Mininum_categories&#39;: {&#39;criterion&#39;: &#39;less_than&#39;},\n     &#39;isComplete&#39;: {&#39;criterion&#39;: &#39;equality&#39;}},\n    &#39;event_event_eventDetail_domainConfig_searchDomains_5&#39;: {&#39;Data Type&#39;: {&#39;criterion&#39;: &#39;equality&#39;},\n     &#39;Presence&#39;: {&#39;criterion&#39;: &#39;within&#39;,\n      &#39;Min_fraction&#39;: {&#39;criterion&#39;: &#39;reverse_difference&#39;, &#39;value&#39;: 0.05}},\n     &#39;Mininum_categories&#39;: {&#39;criterion&#39;: &#39;less_than&#39;},\n     &#39;isComplete&#39;: {&#39;criterion&#39;: &#39;equality&#39;}},\n    &#39;event_event_eventDetail_userConfig_passwdChanged&#39;: {&#39;Data Type&#39;: {&#39;criterion&#39;: &#39;equality&#39;},\n     &#39;Presence&#39;: {&#39;criterion&#39;: &#39;within&#39;,\n      &#39;Min_fraction&#39;: {&#39;criterion&#39;: &#39;reverse_difference&#39;, &#39;value&#39;: 0.05}},\n     &#39;Mininum_categories&#39;: {&#39;criterion&#39;: &#39;less_than&#39;},\n     &#39;isComplete&#39;: {&#39;criterion&#39;: &#39;equality&#39;}},\n    &#39;event_event_eventDetail_networkConfig_ipv4Address_subnetMask&#39;: {&#39;Data Type&#39;: {&#39;criterion&#39;: &#39;equality&#39;},\n     &#39;Presence&#39;: {&#39;criterion&#39;: &#39;within&#39;,\n      &#39;Min_fraction&#39;: {&#39;criterion&#39;: &#39;reverse_difference&#39;, &#39;value&#39;: 0.05}},\n     &#39;Mininum_categories&#39;: {&#39;criterion&#39;: &#39;less_than&#39;},\n     &#39;isComplete&#39;: {&#39;criterion&#39;: &#39;equality&#39;}},\n    &#39;event_event_eventDetail_subsystemStates_wifiKernelModuleState&#39;: {&#39;Data Type&#39;: {&#39;criterion&#39;: &#39;equality&#39;},\n     &#39;Presence&#39;: {&#39;criterion&#39;: &#39;within&#39;,\n      &#39;Min_fraction&#39;: {&#39;criterion&#39;: &#39;reverse_difference&#39;, &#39;value&#39;: 0.05}},\n     &#39;Mininum_categories&#39;: {&#39;criterion&#39;: &#39;less_than&#39;},\n     &#39;isComplete&#39;: {&#39;criterion&#39;: &#39;equality&#39;}},\n    &#39;event_event_eventDetail_userConfig_powered&#39;: {&#39;Data Type&#39;: {&#39;criterion&#39;: &#39;equality&#39;},\n     &#39;Presence&#39;: {&#39;criterion&#39;: &#39;within&#39;,\n      &#39;Min_fraction&#39;: {&#39;criterion&#39;: &#39;reverse_difference&#39;, &#39;value&#39;: 0.05}},\n     &#39;Mininum_categories&#39;: {&#39;criterion&#39;: &#39;less_than&#39;},\n     &#39;isComplete&#39;: {&#39;criterion&#39;: &#39;equality&#39;}},\n    &#39;event_event_eventDetail_userConfig_ipv4ConfigMethod&#39;: {&#39;Data Type&#39;: {&#39;criterion&#39;: &#39;equality&#39;},\n     &#39;Presence&#39;: {&#39;criterion&#39;: &#39;within&#39;,\n      &#39;Min_fraction&#39;: {&#39;criterion&#39;: &#39;reverse_difference&#39;, &#39;value&#39;: 0.05}},\n     &#39;Mininum_categories&#39;: {&#39;criterion&#39;: &#39;less_than&#39;},\n     &#39;isComplete&#39;: {&#39;criterion&#39;: &#39;equality&#39;}},\n    &#39;event_event_eventDetail_wifiConfig_lastAssociationCode&#39;: {&#39;Data Type&#39;: {&#39;criterion&#39;: &#39;equality&#39;},\n     &#39;Presence&#39;: {&#39;criterion&#39;: &#39;within&#39;,\n      &#39;Min_fraction&#39;: {&#39;criterion&#39;: &#39;reverse_difference&#39;, &#39;value&#39;: 0.05}},\n     &#39;Mininum_categories&#39;: {&#39;criterion&#39;: &#39;less_than&#39;},\n     &#39;isComplete&#39;: {&#39;criterion&#39;: &#39;equality&#39;}},\n    &#39;event_event_eventDetail_domainConfig_nameServerConfig_ipv4Addresses_0_addr&#39;: {&#39;Data Type&#39;: {&#39;criterion&#39;: &#39;equality&#39;},\n     &#39;Presence&#39;: {&#39;criterion&#39;: &#39;within&#39;,\n      &#39;Min_fraction&#39;: {&#39;criterion&#39;: &#39;reverse_difference&#39;, &#39;value&#39;: 0.05}},\n     &#39;Mininum_categories&#39;: {&#39;criterion&#39;: &#39;less_than&#39;},\n     &#39;isComplete&#39;: {&#39;criterion&#39;: &#39;equality&#39;}},\n    &#39;event_event_eventDetail_connectionState&#39;: {&#39;Data Type&#39;: {&#39;criterion&#39;: &#39;equality&#39;},\n     &#39;Presence&#39;: {&#39;criterion&#39;: &#39;within&#39;,\n      &#39;Min_fraction&#39;: {&#39;criterion&#39;: &#39;reverse_difference&#39;, &#39;value&#39;: 0.05}},\n     &#39;Mininum_categories&#39;: {&#39;criterion&#39;: &#39;less_than&#39;},\n     &#39;isComplete&#39;: {&#39;criterion&#39;: &#39;equality&#39;}},\n    &#39;event_event_eventDetail_stateStabilisationDelay&#39;: {&#39;Data Type&#39;: {&#39;criterion&#39;: &#39;equality&#39;},\n     &#39;Presence&#39;: {&#39;criterion&#39;: &#39;within&#39;,\n      &#39;Min_fraction&#39;: {&#39;criterion&#39;: &#39;reverse_difference&#39;, &#39;value&#39;: 0.05}},\n     &#39;Mininum_categories&#39;: {&#39;criterion&#39;: &#39;less_than&#39;},\n     &#39;isComplete&#39;: {&#39;criterion&#39;: &#39;equality&#39;}},\n    &#39;event_event_eventDetail_subsystemStates_wifiSupplicantState&#39;: {&#39;Data Type&#39;: {&#39;criterion&#39;: &#39;equality&#39;},\n     &#39;Presence&#39;: {&#39;criterion&#39;: &#39;within&#39;,\n      &#39;Min_fraction&#39;: {&#39;criterion&#39;: &#39;reverse_difference&#39;, &#39;value&#39;: 0.05}},\n     &#39;Mininum_categories&#39;: {&#39;criterion&#39;: &#39;less_than&#39;},\n     &#39;isComplete&#39;: {&#39;criterion&#39;: &#39;equality&#39;}},\n    &#39;event_event_eventDetail_networkConfig_ipv4Gateway&#39;: {&#39;Data Type&#39;: {&#39;criterion&#39;: &#39;equality&#39;},\n     &#39;Presence&#39;: {&#39;criterion&#39;: &#39;within&#39;,\n      &#39;Min_fraction&#39;: {&#39;criterion&#39;: &#39;reverse_difference&#39;, &#39;value&#39;: 0.05}},\n     &#39;Mininum_categories&#39;: {&#39;criterion&#39;: &#39;less_than&#39;},\n     &#39;isComplete&#39;: {&#39;criterion&#39;: &#39;equality&#39;}},\n    &#39;event_event_eventDetail_userConfig_ipv6Enabled&#39;: {&#39;Data Type&#39;: {&#39;criterion&#39;: &#39;equality&#39;},\n     &#39;Presence&#39;: {&#39;criterion&#39;: &#39;within&#39;,\n      &#39;Min_fraction&#39;: {&#39;criterion&#39;: &#39;reverse_difference&#39;, &#39;value&#39;: 0.05}},\n     &#39;Mininum_categories&#39;: {&#39;criterion&#39;: &#39;less_than&#39;},\n     &#39;isComplete&#39;: {&#39;criterion&#39;: &#39;equality&#39;}},\n    &#39;event_event_eventDetail_userConfig_changeCounter&#39;: {&#39;Data Type&#39;: {&#39;criterion&#39;: &#39;equality&#39;},\n     &#39;Presence&#39;: {&#39;criterion&#39;: &#39;within&#39;,\n      &#39;Min_fraction&#39;: {&#39;criterion&#39;: &#39;reverse_difference&#39;, &#39;value&#39;: 0.05}},\n     &#39;Mininum_categories&#39;: {&#39;criterion&#39;: &#39;less_than&#39;},\n     &#39;isComplete&#39;: {&#39;criterion&#39;: &#39;equality&#39;}},\n    &#39;event_event_eventDetail_connectionStateMin&#39;: {&#39;Data Type&#39;: {&#39;criterion&#39;: &#39;equality&#39;},\n     &#39;Presence&#39;: {&#39;criterion&#39;: &#39;within&#39;,\n      &#39;Min_fraction&#39;: {&#39;criterion&#39;: &#39;reverse_difference&#39;, &#39;value&#39;: 0.05}},\n     &#39;Mininum_categories&#39;: {&#39;criterion&#39;: &#39;less_than&#39;},\n     &#39;isComplete&#39;: {&#39;criterion&#39;: &#39;equality&#39;}},\n    &#39;event_event_eventDetail_networkConfig_ipv4Address_addr&#39;: {&#39;Data Type&#39;: {&#39;criterion&#39;: &#39;equality&#39;},\n     &#39;Presence&#39;: {&#39;criterion&#39;: &#39;within&#39;,\n      &#39;Min_fraction&#39;: {&#39;criterion&#39;: &#39;reverse_difference&#39;, &#39;value&#39;: 0.05}},\n     &#39;Mininum_categories&#39;: {&#39;criterion&#39;: &#39;less_than&#39;},\n     &#39;isComplete&#39;: {&#39;criterion&#39;: &#39;equality&#39;}},\n    &#39;event_event_eventDetail_linkStats_rxDropped&#39;: {&#39;Data Type&#39;: {&#39;criterion&#39;: &#39;equality&#39;},\n     &#39;Presence&#39;: {&#39;criterion&#39;: &#39;within&#39;,\n      &#39;Min_fraction&#39;: {&#39;criterion&#39;: &#39;reverse_difference&#39;, &#39;value&#39;: 0.05}},\n     &#39;Mininum_categories&#39;: {&#39;criterion&#39;: &#39;less_than&#39;},\n     &#39;isComplete&#39;: {&#39;criterion&#39;: &#39;equality&#39;}},\n    &#39;event_event_eventDetail_version&#39;: {&#39;Data Type&#39;: {&#39;criterion&#39;: &#39;equality&#39;},\n     &#39;Presence&#39;: {&#39;criterion&#39;: &#39;within&#39;,\n      &#39;Min_fraction&#39;: {&#39;criterion&#39;: &#39;reverse_difference&#39;, &#39;value&#39;: 0.05}},\n     &#39;Mininum_categories&#39;: {&#39;criterion&#39;: &#39;less_than&#39;},\n     &#39;isComplete&#39;: {&#39;criterion&#39;: &#39;equality&#39;}},\n    &#39;event_event_eventDetail_domainConfig_searchDomains_4&#39;: {&#39;Data Type&#39;: {&#39;criterion&#39;: &#39;equality&#39;},\n     &#39;Presence&#39;: {&#39;criterion&#39;: &#39;within&#39;,\n      &#39;Min_fraction&#39;: {&#39;criterion&#39;: &#39;reverse_difference&#39;, &#39;value&#39;: 0.05}},\n     &#39;Mininum_categories&#39;: {&#39;criterion&#39;: &#39;less_than&#39;},\n     &#39;isComplete&#39;: {&#39;criterion&#39;: &#39;equality&#39;}},\n    &#39;event_event_eventDetail_uapConfig_powered&#39;: {&#39;Data Type&#39;: {&#39;criterion&#39;: &#39;equality&#39;},\n     &#39;Presence&#39;: {&#39;criterion&#39;: &#39;within&#39;,\n      &#39;Min_fraction&#39;: {&#39;criterion&#39;: &#39;reverse_difference&#39;, &#39;value&#39;: 0.05}},\n     &#39;Mininum_categories&#39;: {&#39;criterion&#39;: &#39;less_than&#39;},\n     &#39;isComplete&#39;: {&#39;criterion&#39;: &#39;equality&#39;}},\n    &#39;event_event_eventDetail_wifiConfig_disconnectCountFromLastEvent&#39;: {&#39;Data Type&#39;: {&#39;criterion&#39;: &#39;equality&#39;},\n     &#39;Presence&#39;: {&#39;criterion&#39;: &#39;within&#39;,\n      &#39;Min_fraction&#39;: {&#39;criterion&#39;: &#39;reverse_difference&#39;, &#39;value&#39;: 0.05}},\n     &#39;Mininum_categories&#39;: {&#39;criterion&#39;: &#39;less_than&#39;},\n     &#39;isComplete&#39;: {&#39;criterion&#39;: &#39;equality&#39;}},\n    &#39;event_event_eventDetail_networkConfig_ipv6Gateway&#39;: {&#39;Data Type&#39;: {&#39;criterion&#39;: &#39;equality&#39;},\n     &#39;Presence&#39;: {&#39;criterion&#39;: &#39;within&#39;,\n      &#39;Min_fraction&#39;: {&#39;criterion&#39;: &#39;reverse_difference&#39;, &#39;value&#39;: 0.05}},\n     &#39;Mininum_categories&#39;: {&#39;criterion&#39;: &#39;less_than&#39;},\n     &#39;isComplete&#39;: {&#39;criterion&#39;: &#39;equality&#39;}},\n    &#39;event_event_eventDetail_domainConfig_searchDomains_0&#39;: {&#39;Data Type&#39;: {&#39;criterion&#39;: &#39;equality&#39;},\n     &#39;Presence&#39;: {&#39;criterion&#39;: &#39;within&#39;,\n      &#39;Min_fraction&#39;: {&#39;criterion&#39;: &#39;reverse_difference&#39;, &#39;value&#39;: 0.05}},\n     &#39;Mininum_categories&#39;: {&#39;criterion&#39;: &#39;less_than&#39;},\n     &#39;isComplete&#39;: {&#39;criterion&#39;: &#39;equality&#39;}},\n    &#39;event_event_eventDetail_subsystemStates_wifiConnectionState&#39;: {&#39;Data Type&#39;: {&#39;criterion&#39;: &#39;equality&#39;},\n     &#39;Presence&#39;: {&#39;criterion&#39;: &#39;within&#39;,\n      &#39;Min_fraction&#39;: {&#39;criterion&#39;: &#39;reverse_difference&#39;, &#39;value&#39;: 0.05}},\n     &#39;Mininum_categories&#39;: {&#39;criterion&#39;: &#39;less_than&#39;},\n     &#39;isComplete&#39;: {&#39;criterion&#39;: &#39;equality&#39;}}},\n   &#39;Global&#39;: {&#39;Data Type&#39;: {&#39;criterion&#39;: &#39;equality&#39;},\n    &#39;Presence&#39;: {&#39;criterion&#39;: &#39;within&#39;,\n     &#39;Min_fraction&#39;: {&#39;criterion&#39;: &#39;reverse_difference&#39;, &#39;value&#39;: 0.05}},\n    &#39;Mininum_categories&#39;: {&#39;criterion&#39;: &#39;less_than&#39;},\n    &#39;isComplete&#39;: {&#39;criterion&#39;: &#39;equality&#39;}}}}}</div>",
       "datasetInfos": [],
       "removedWidgets": [],
       "type": "html"
      }
     },
     "output_type": "display_data"
    }
   ],
   "source": [
    "rules = json.load(open(rules_path,))\n",
    "rules"
   ]
  },
  {
   "cell_type": "markdown",
   "metadata": {
    "application/vnd.databricks.v1+cell": {
     "inputWidgets": {},
     "nuid": "233b33d7-0041-44d5-b33f-e831a07776eb",
     "showTitle": false,
     "title": ""
    }
   },
   "source": [
    "#### Data Validation"
   ]
  },
  {
   "cell_type": "markdown",
   "metadata": {
    "application/vnd.databricks.v1+cell": {
     "inputWidgets": {},
     "nuid": "ed044308-816d-43af-8d10-30d14414cf4a",
     "showTitle": false,
     "title": ""
    }
   },
   "source": [
    "##### Drift Function"
   ]
  },
  {
   "cell_type": "code",
   "execution_count": null,
   "metadata": {
    "application/vnd.databricks.v1+cell": {
     "inputWidgets": {},
     "nuid": "0129442a-dd74-47d0-b8d8-3f971e582e27",
     "showTitle": false,
     "title": ""
    }
   },
   "outputs": [
    {
     "data": {
      "text/html": [
       "<style scoped>\n",
       "  .ansiout {\n",
       "    display: block;\n",
       "    unicode-bidi: embed;\n",
       "    white-space: pre-wrap;\n",
       "    word-wrap: break-word;\n",
       "    word-break: break-all;\n",
       "    font-family: \"Source Code Pro\", \"Menlo\", monospace;;\n",
       "    font-size: 13px;\n",
       "    color: #555;\n",
       "    margin-left: 4px;\n",
       "    line-height: 19px;\n",
       "  }\n",
       "</style>\n",
       "<div class=\"ansiout\"></div>"
      ]
     },
     "metadata": {
      "application/vnd.databricks.v1+output": {
       "addedWidgets": {},
       "arguments": {},
       "data": "<div class=\"ansiout\"></div>",
       "datasetInfos": [],
       "removedWidgets": [],
       "type": "html"
      }
     },
     "output_type": "display_data"
    }
   ],
   "source": [
    "def measure_drift(rules, statistics, include_features = []):\n",
    "  \n",
    "  #------------------------------------------ Function 1-------------------------------------\n",
    "  \n",
    "  def generate_stat(stats, key):\n",
    "    \n",
    "    if key == \"Range\":\n",
    "      \n",
    "      return ([stats[\"Minimum\"], stats['Maximum']])\n",
    "    \n",
    "    elif key ==\"isComplete\":\n",
    "      \n",
    "      if int(stats[\"Missing Value Percentage\"]) == 0 :\n",
    "          \n",
    "          return True\n",
    "        \n",
    "      else:\n",
    "          \n",
    "          return False\n",
    "    \n",
    "    elif key == \"Presence\":\n",
    "      \n",
    "      return {\"Min_fraction\" : (1 - stats[\"Missing Value Percentage\"] /100)}\n",
    "    \n",
    "    elif key == \"isPositive\":\n",
    "      \n",
    "      if int(stats[\"Minimum\"]) >= 0 :\n",
    "          \n",
    "          return True\n",
    "        \n",
    "      else:\n",
    "          \n",
    "          return False      \n",
    "    \n",
    "    elif key ==\"Mininum_categories\":\n",
    "      \n",
    "      return stats[\"No of Distinct Categories\"]\n",
    "    \n",
    "    elif key == \"isContainedIn\" :\n",
    "      \n",
    "      return stats[\"distinct_categories\"]\n",
    "  \n",
    "  \n",
    "  def intersection(lst1, lst2):\n",
    "    lst3 = [value for value in lst1 if value in lst2]\n",
    "    return lst3\n",
    "  \n",
    "  #------------------------------------------ Extract Stat Function  -------------------------------------\n",
    "  \n",
    "  def extract_stat_fn(statistics, numerical_stat_keys, categorical_stat_keys, dataset_stat_keys):\n",
    "\n",
    "    dic = { \"Dataset\":{}, \"Numerical\": {}, \"Categorical\": {}}\n",
    "\n",
    "    for  key in statistics.keys():\n",
    "    \n",
    "      if key == \"Numerical\":\n",
    "\n",
    "        for feature in statistics[\"Numerical\"].keys():\n",
    "\n",
    "          dic[\"Numerical\"][feature] = {}\n",
    "\n",
    "          for k in numerical_stat_keys:\n",
    "\n",
    "            try:\n",
    "\n",
    "              dic[\"Numerical\"][feature][k] = statistics[\"Numerical\"][feature][k]\n",
    "\n",
    "            except:\n",
    "\n",
    "              dic[\"Numerical\"][feature][k] = generate_stat(statistics[\"Numerical\"][feature], k)\n",
    "\n",
    "\n",
    "      elif key == \"Categorical\":\n",
    "\n",
    "        for feature in statistics[\"Categorical\"].keys():\n",
    "\n",
    "          dic[\"Categorical\"][feature] = {}\n",
    "\n",
    "          for k in categorical_stat_keys:\n",
    "\n",
    "            try:\n",
    "\n",
    "              dic[\"Categorical\"][feature][k] = statistics[\"Categorical\"][feature][k]\n",
    "\n",
    "            except:\n",
    "\n",
    "              dic[\"Categorical\"][feature][k] = generate_stat(statistics[\"Categorical\"][feature], k)\n",
    "\n",
    "      else:\n",
    "\n",
    "          dic[\"Dataset\"] = {k : statistics[\"Dataset\"][k]  for k in dataset_stat_keys}\n",
    "\n",
    "\n",
    "    return dic\n",
    "\n",
    "  \n",
    "  #------------------------------------------ Sub Compare Function  -------------------------------------\n",
    "  \n",
    "  \n",
    "  def sub_compare(dic1, dic2, threshold):\n",
    "\n",
    "    change_dic = {}\n",
    "\n",
    "    for key in dic1.keys():\n",
    "      \n",
    "      if threshold[key]['criterion'] == \"within\":\n",
    "        \n",
    "        for k in threshold[key].keys():\n",
    "          \n",
    "          if key != \"criterion\":\n",
    "            \n",
    "            temp = sub_compare(dic1[key], dic2[key], threshold[key])\n",
    "            \n",
    "            if temp != {}:\n",
    "              \n",
    "              change_dic[key] = temp\n",
    "              \n",
    "\n",
    "      elif threshold[key]['criterion'] == \"equality\":\n",
    "\n",
    "        if dic1[key] != dic2[key]:\n",
    "\n",
    "          change_dic[key] = {\"Expected\": dic1[key],\n",
    "                             \"Observed\": dic2[key]}\n",
    "          \n",
    "      elif threshold[key]['criterion'] == \"less_than\":\n",
    "\n",
    "        if dic2[key] < dic1[key]:\n",
    "\n",
    "          change_dic[key] = {\"Expected\": dic1[key],\n",
    "                             \"Observed\": dic2[key]}\n",
    "\n",
    "      elif threshold[key]['criterion'] == \"difference\":\n",
    "\n",
    "        temp_val = (dic2[key] - dic1[key])\n",
    "\n",
    "        if temp_val > threshold[key]['value']:\n",
    "\n",
    "          change_dic[key] = {\"Expected\": dic1[key],\n",
    "                             \"Observed\": dic2[key]}\n",
    "      \n",
    "      elif threshold[key]['criterion'] == \"reverse_difference\":\n",
    "\n",
    "        temp_val = (dic1[key] - dic2[key])\n",
    "\n",
    "        if temp_val > threshold[key]['value']:\n",
    "\n",
    "          change_dic[key] = {\"Expected\": dic1[key],\n",
    "                             \"Observed\": dic2[key]}\n",
    "          \n",
    "\n",
    "      elif threshold[key]['criterion'] == \"ratio\":\n",
    "\n",
    "          maxi, mini = np.max([dic1[key],dic2[key]]), np.min([dic1[key],dic2[key]])\n",
    "\n",
    "          if  (maxi/mini) > threshold[key]['value']:\n",
    "\n",
    "            change_dic[key] = {\"Expected\": dic1[key],\n",
    "                               \"Observed\": dic2[key]}\n",
    "\n",
    "      elif threshold[key]['criterion'] == \"inRange\":\n",
    "        \n",
    "        if (dic2[key][0] >= dic1[key][0]) and (dic2[key][1] <= dic1[key][1]):\n",
    "          \n",
    "          pass\n",
    "        \n",
    "        else:\n",
    "          \n",
    "          change_dic[key] = {\"Expected\": dic1[key],\n",
    "                               \"Observed\": dic2[key]}\n",
    "          \n",
    "        \n",
    "    return change_dic\n",
    "\n",
    "  #------------------------------------------------- Comapre function ---------------------------------------\n",
    "\n",
    "  def compare_stat(rules, current_dic):\n",
    "    \n",
    "    drift_dic = {}\n",
    "    base_dic = {key: rules[key] for key in rules.keys() if key!= \"Threshold\"}\n",
    "    threshold = rules['Threshold']\n",
    "\n",
    "    for k1 in base_dic.keys():\n",
    "\n",
    "        if k1 == \"Dataset\":\n",
    "          \n",
    "          drift_dic[k1] = sub_compare(base_dic[k1], current_dic[k1], threshold[k1])\n",
    "\n",
    "        else:\n",
    "          \n",
    "          drift_dic[k1] = {}\n",
    "          \n",
    "          if include_features == []:\n",
    "            \n",
    "            new_list = base_dic[k1].keys()\n",
    "          \n",
    "          else:\n",
    "            \n",
    "            new_list = intersection(base_dic[k1].keys(), include_features)\n",
    "            \n",
    "          for k2 in new_list:\n",
    "                        \n",
    "            try:\n",
    "              \n",
    "              temp_dic = sub_compare(base_dic[k1][k2], current_dic[k1][k2], threshold[k1][\"Feature-wise\"][k2])\n",
    "\n",
    "              if temp_dic == {}:\n",
    "\n",
    "                pass\n",
    "\n",
    "              else:\n",
    "\n",
    "                drift_dic[k1][k2] = temp_dic\n",
    "            except:\n",
    "              pass\n",
    "              \n",
    "\n",
    "    return drift_dic\n",
    "  \n",
    "  \n",
    "  temp = {\"Extra Features\": {\"Numerical\" : list(set(statistics[\"Numerical\"].keys()) - set(rules[\"Numerical\"].keys())) ,\"Categorical\": list(set(statistics[\"Categorical\"].keys()) - set(rules[\"Categorical\"].keys()))},\n",
    "          \n",
    "   \"Missing Features\": {\"Numerical\" : list(set(rules[\"Numerical\"].keys()) - set(statistics[\"Numerical\"].keys())) ,\"Categorical\": list(set(rules[\"Categorical\"].keys()) - set(statistics[\"Categorical\"].keys()))}}\n",
    "  \n",
    "  if temp[\"Extra Features\"][\"Numerical\"] == [] and temp[\"Extra Features\"][\"Categorical\"] == []:\n",
    "    \n",
    "    if temp[\"Missing Features\"][\"Numerical\"] == [] and temp[\"Missing Features\"][\"Categorical\"] == []:\n",
    "\n",
    "      temp = {}\n",
    "    \n",
    "    else:\n",
    "\n",
    "      temp = {\"Missing Features\" : temp[\"Missing Features\"]}\n",
    "      \n",
    "  num_stat_keys = rules['Threshold']['Numerical']['Global'].keys()\n",
    "  cat_stat_keys = rules['Threshold']['Categorical']['Global'].keys()\n",
    "  data_stat_keys = rules['Threshold']['Dataset'].keys()\n",
    "  \n",
    "  extracted_stat = extract_stat_fn(statistics, num_stat_keys, cat_stat_keys, data_stat_keys)\n",
    "  \n",
    "  drift_dic = compare_stat(rules, extracted_stat)\n",
    "   \n",
    "  drift_dic['Dataset'] = {**drift_dic['Dataset'], **temp}\n",
    "          \n",
    "  return drift_dic"
   ]
  },
  {
   "cell_type": "markdown",
   "metadata": {
    "application/vnd.databricks.v1+cell": {
     "inputWidgets": {},
     "nuid": "c5bc7f84-d0cb-4d16-a8c9-5d9203fb7720",
     "showTitle": false,
     "title": ""
    }
   },
   "source": [
    "##### Data Validation Class"
   ]
  },
  {
   "cell_type": "code",
   "execution_count": null,
   "metadata": {
    "application/vnd.databricks.v1+cell": {
     "inputWidgets": {},
     "nuid": "715a62e2-18a8-4db5-8f16-64a1b9d6bead",
     "showTitle": false,
     "title": ""
    }
   },
   "outputs": [
    {
     "data": {
      "text/html": [
       "<style scoped>\n",
       "  .ansiout {\n",
       "    display: block;\n",
       "    unicode-bidi: embed;\n",
       "    white-space: pre-wrap;\n",
       "    word-wrap: break-word;\n",
       "    word-break: break-all;\n",
       "    font-family: \"Source Code Pro\", \"Menlo\", monospace;;\n",
       "    font-size: 13px;\n",
       "    color: #555;\n",
       "    margin-left: 4px;\n",
       "    line-height: 19px;\n",
       "  }\n",
       "</style>\n",
       "<div class=\"ansiout\"></div>"
      ]
     },
     "metadata": {
      "application/vnd.databricks.v1+output": {
       "addedWidgets": {},
       "arguments": {},
       "data": "<div class=\"ansiout\"></div>",
       "datasetInfos": [],
       "removedWidgets": [],
       "type": "html"
      }
     },
     "output_type": "display_data"
    }
   ],
   "source": [
    "class data_validation:\n",
    "  \n",
    "  def __init__(self, current_data_path, rules_path, feature_statistics_path):\n",
    "    \n",
    "    self.current_data_path = current_data_path\n",
    "    self.rules_path = rules_path\n",
    "    self.feature_statistics_path = feature_statistics_path\n",
    "    \n",
    "  def read_data(self, data_format):\n",
    "    \n",
    "    sdf = spark.read.format(data_format).load(self.current_data_path)\n",
    "    return sdf\n",
    "\n",
    "  \n",
    "  \n",
    "  def generate_statistics_fn(self, data, generate_statistics):\n",
    "    \n",
    "    return generate_statistics(data)\n",
    "  \n",
    "  \n",
    "  \n",
    "  def detect_drift(self, base_stat, drift_fn, include_features = [], create_rules_fn= None, Type = None):\n",
    "    \n",
    "    try:\n",
    "      \n",
    "      rules = json.load(open(self.rules_path,))  \n",
    "      \n",
    "    except:   \n",
    "      \n",
    "      rules = self.create_rules_fn(base_stat)\n",
    "      \n",
    "    if include_features == []:\n",
    "      \n",
    "      drift = drift_fn(rules, base_stat,include_features)\n",
    "    \n",
    "    else:\n",
    "      \n",
    "      temp_drift = drift_fn(rules, base_stat,include_features)\n",
    "      drift = {**temp_drift[\"Numerical\"], **temp_drift[\"Categorical\"]}\n",
    "      \n",
    "      return drift\n",
    "    \n",
    "    if Type != None:\n",
    "      \n",
    "      return drift[Type]          \n",
    "    \n",
    "    else:\n",
    "      \n",
    "      return drift\n",
    "  \n",
    "  def display_drift(self, drift_dic, Type = None, limit = None):\n",
    "    \n",
    "    if list(drift_dic.keys()) != [\"Dataset\", \"Numerical\", \"Categorical\"]:\n",
    "      \n",
    "      for k in drift_dic.keys():\n",
    "        \n",
    "        print(\"\\033[1m Feature Name:  {} -\".format(k) + '\\033[0m')\n",
    "        print(display(pd.DataFrame(drift_dic[k])))\n",
    "        \n",
    "      return\n",
    "    \n",
    "    \n",
    "    if limit == None:\n",
    "      \n",
    "      limit = len(drift[Type].keys())\n",
    "    \n",
    "    else:\n",
    "      \n",
    "      pass\n",
    "    \n",
    "    if Type == None:\n",
    "      \n",
    "      return drift_dic\n",
    "    \n",
    "    for key in sample(list(drift[Type].keys()), limit):\n",
    "        print(\"\\033[1m Feature Name:  {} -\".format(key) + '\\033[0m')\n",
    "        \n",
    "        try:\n",
    "          print(display(pd.DataFrame(drift[Type][key])))\n",
    "        \n",
    "        except:\n",
    "          \n",
    "          print(\"{}:\".format(key))\n",
    "          for k in drift[Type][key].keys():\n",
    "            \n",
    "            print(display(pd.DataFrame(drift[Type][key][k])))\n",
    "          \n",
    "        print(\"_\"*100)\n",
    "    \n",
    "    return\n",
    "  \n",
    "  def display_textual_msg(self, anomaly_msg_fn, drift_dic, detailed_msg = True):\n",
    "    \n",
    "    if list(drift_dic.keys())!= [\"Dataset\", \"Numerical\", \"Categorical\"]:\n",
    "      \n",
    "      for k in drift_dic.keys():\n",
    "        \n",
    "        print(\"\\033[1m Feature/Column Name : {} -\\033[0m\\n\".format(k))\n",
    "        \n",
    "        for l in drift_dic[k].keys():\n",
    "          \n",
    "          anomaly_msg_fn(drift_dic[k], l, detailed_msg = detailed_msg )\n",
    "      \n",
    "      print(\"------------------------------------------------------\"*2)\n",
    "      return\n",
    "          \n",
    "    for key in drift_dic.keys():\n",
    "\n",
    "      if key == \"Dataset\":\n",
    "        \n",
    "        print(\"\\033[1m For Dataset (Not Feature wise) - \\033[0m\\n\")\n",
    "        \n",
    "        for k in drift_dic[key].keys():\n",
    "          \n",
    "          anomaly_msg_fn(drift_dic[key], k, detailed_msg = detailed_msg )\n",
    "          \n",
    "        print(\"\\n\\n----------------------No more Dataset Anomaly------------------- \\n\")\n",
    "        \n",
    "      else:\n",
    "        \n",
    "        print(\"\\033[1m For {} Features -\\033[0m\\n\".format(key))\n",
    "        \n",
    "        for k in drift_dic[key].keys():\n",
    "          \n",
    "          print(\"\\033[1m Feature/Column Name : {} -\\033[0m\\n\".format(k))\n",
    "          \n",
    "          for l in drift_dic[key][k].keys():\n",
    "            \n",
    "             anomaly_msg_fn(drift_dic[key][k], l, detailed_msg =True)\n",
    "          \n",
    "        print(\"\\n\\n----------------------No more Anomaly for {} Feature------------------- \\n\".format(key))\n",
    "    return\n",
    "  \n",
    "  \n",
    "  \n",
    "  \n",
    "  def update_rules(self, update_rules_fn, update_standard_values_dic, update_threshold_dic):\n",
    "    \n",
    "    rules = json.load(open(self.rules_path,))  \n",
    "    \n",
    "    for key in update_standard_values_dic.keys():\n",
    "      \n",
    "      rules = update_rules_fn(rules, key, update_standard_values_dic[key])\n",
    "      #print(rules)\n",
    "      \n",
    "    for key in update_threshold_dic.keys():\n",
    "      \n",
    "      rules = update_rules_fn(rules, key, update_threshold_dic[key], threshold = True)\n",
    "      \n",
    "    \n",
    "    out_file = open(self.rules_path, \"w\")  \n",
    "    json.dump(rules, out_file)\n",
    "    out_file.close()    \n",
    "    \n",
    "    \n",
    "    \n",
    "  def drift_flag(self, drift):\n",
    "    \n",
    "    if list(drift.keys())== [\"Dataset\", \"Numerical\", \"Categorical\"]:\n",
    "      \n",
    "      if {**drift[\"Dataset\"], **drift[\"Numerical\"], **drift[\"Categorical\"]} == {}:\n",
    "        \n",
    "        return(\"Success! No Drift.\")\n",
    "      \n",
    "      else:\n",
    "        \n",
    "        return(\"Failure! There is Drift\")\n",
    "      \n",
    "    else:\n",
    "      \n",
    "      if drift  == {}:\n",
    "        \n",
    "        return(\"Success! No Drift.\")\n",
    "      \n",
    "      else:\n",
    "        \n",
    "        return(\"Failure! There is Drift.\")"
   ]
  },
  {
   "cell_type": "markdown",
   "metadata": {
    "application/vnd.databricks.v1+cell": {
     "inputWidgets": {},
     "nuid": "5c485b1e-1a1f-4598-a2e3-d24cc5a575eb",
     "showTitle": false,
     "title": ""
    }
   },
   "source": [
    "#### Run Data Validation"
   ]
  },
  {
   "cell_type": "code",
   "execution_count": null,
   "metadata": {
    "application/vnd.databricks.v1+cell": {
     "inputWidgets": {},
     "nuid": "ac478979-3a2a-493c-ac69-b14f9273ddb4",
     "showTitle": false,
     "title": ""
    }
   },
   "outputs": [
    {
     "data": {
      "text/html": [
       "<style scoped>\n",
       "  .ansiout {\n",
       "    display: block;\n",
       "    unicode-bidi: embed;\n",
       "    white-space: pre-wrap;\n",
       "    word-wrap: break-word;\n",
       "    word-break: break-all;\n",
       "    font-family: \"Source Code Pro\", \"Menlo\", monospace;;\n",
       "    font-size: 13px;\n",
       "    color: #555;\n",
       "    margin-left: 4px;\n",
       "    line-height: 19px;\n",
       "  }\n",
       "</style>\n",
       "<div class=\"ansiout\"></div>"
      ]
     },
     "metadata": {
      "application/vnd.databricks.v1+output": {
       "addedWidgets": {},
       "arguments": {},
       "data": "<div class=\"ansiout\"></div>",
       "datasetInfos": [],
       "removedWidgets": [],
       "type": "html"
      }
     },
     "output_type": "display_data"
    }
   ],
   "source": [
    "## Data Validation\n",
    "validation = data_validation(data_to_validate_path, rules_path, base_stat_path)\n",
    "val_df = validation.read_data(data_format = data_format)\n",
    "\n",
    "# Update Rules\n",
    "validation.update_rules(update_rules, change_default_standard_values_for_features, change_default_threshold_for_features)\n",
    "\n",
    "## Statistics for Current Dataset\n",
    "current_stat = validation.generate_statistics_fn(val_df, generate_statistics)\n",
    "\n",
    "## Calculate Drift\n",
    "drift = validation.detect_drift(current_stat, measure_drift, include_features = drift_for_particular_features_only)"
   ]
  },
  {
   "cell_type": "markdown",
   "metadata": {
    "application/vnd.databricks.v1+cell": {
     "inputWidgets": {},
     "nuid": "f6e7db1b-aac0-47f7-ba9c-a18d4016060b",
     "showTitle": false,
     "title": ""
    }
   },
   "source": [
    "#### Display Results"
   ]
  },
  {
   "cell_type": "markdown",
   "metadata": {
    "application/vnd.databricks.v1+cell": {
     "inputWidgets": {},
     "nuid": "f2cd2894-1433-46bd-9b12-a13b8beba94c",
     "showTitle": false,
     "title": ""
    }
   },
   "source": [
    "##### Check there is any Drift or not"
   ]
  },
  {
   "cell_type": "code",
   "execution_count": null,
   "metadata": {
    "application/vnd.databricks.v1+cell": {
     "inputWidgets": {},
     "nuid": "dad94c54-023f-4236-81c8-e4eb3f03ea9f",
     "showTitle": false,
     "title": ""
    }
   },
   "outputs": [
    {
     "data": {
      "text/html": [
       "<style scoped>\n",
       "  .ansiout {\n",
       "    display: block;\n",
       "    unicode-bidi: embed;\n",
       "    white-space: pre-wrap;\n",
       "    word-wrap: break-word;\n",
       "    word-break: break-all;\n",
       "    font-family: \"Source Code Pro\", \"Menlo\", monospace;;\n",
       "    font-size: 13px;\n",
       "    color: #555;\n",
       "    margin-left: 4px;\n",
       "    line-height: 19px;\n",
       "  }\n",
       "</style>\n",
       "<div class=\"ansiout\">Out[106]: &#39;Failure! There is Drift&#39;</div>"
      ]
     },
     "metadata": {
      "application/vnd.databricks.v1+output": {
       "addedWidgets": {},
       "arguments": {},
       "data": "<div class=\"ansiout\">Out[106]: &#39;Failure! There is Drift&#39;</div>",
       "datasetInfos": [],
       "removedWidgets": [],
       "type": "html"
      }
     },
     "output_type": "display_data"
    }
   ],
   "source": [
    "validation.drift_flag(drift)"
   ]
  },
  {
   "cell_type": "markdown",
   "metadata": {
    "application/vnd.databricks.v1+cell": {
     "inputWidgets": {},
     "nuid": "f8b4dad9-6e9f-4cf3-a429-e623b5de7e7a",
     "showTitle": false,
     "title": ""
    }
   },
   "source": [
    "##### Check Drift"
   ]
  },
  {
   "cell_type": "code",
   "execution_count": null,
   "metadata": {
    "application/vnd.databricks.v1+cell": {
     "inputWidgets": {},
     "nuid": "bc7c07ad-e020-4db4-b656-090a5eaa1444",
     "showTitle": false,
     "title": ""
    }
   },
   "outputs": [
    {
     "data": {
      "text/html": [
       "<style scoped>\n",
       "  .ansiout {\n",
       "    display: block;\n",
       "    unicode-bidi: embed;\n",
       "    white-space: pre-wrap;\n",
       "    word-wrap: break-word;\n",
       "    word-break: break-all;\n",
       "    font-family: \"Source Code Pro\", \"Menlo\", monospace;;\n",
       "    font-size: 13px;\n",
       "    color: #555;\n",
       "    margin-left: 4px;\n",
       "    line-height: 19px;\n",
       "  }\n",
       "</style>\n",
       "<div class=\"ansiout\">Out[107]: {&#39;Dataset&#39;: {&#39;Data size&#39;: {&#39;Expected&#39;: 100, &#39;Observed&#39;: 160},\n",
       "  &#39;Extra Features&#39;: {&#39;Numerical&#39;: [&#39;event_event_eventDetail_userConfig_changeCounter&#39;,\n",
       "    &#39;event_event_eventDetail_wifiConfig_channelGraphs_1_percentLoad&#39;,\n",
       "    &#39;event_event_eventDetail_wifiConfig_channelGraphs_1_anpi&#39;],\n",
       "   &#39;Categorical&#39;: [&#39;event_event_eventDetail_selfHeal_actions_0&#39;,\n",
       "    &#39;event_event_eventDetail_selfHeal_results_0&#39;,\n",
       "    &#39;event_event_eventDetail_networkConfig_ipv6Addresses_3_addr&#39;,\n",
       "    &#39;event_event_eventDetail_domainConfig_nameServerConfig_ipv4Addresses_1_addr&#39;,\n",
       "    &#39;event_event_eventDetail_domainConfig_nameServerConfig_ipv6Addresses_0_addr&#39;,\n",
       "    &#39;event_event_eventDetail_selfHeal_results_2&#39;,\n",
       "    &#39;event_event_eventDetail_networkConfig_ipv6Addresses_2_addr&#39;,\n",
       "    &#39;event_event_eventDetail_networkConfig_ipv6Addresses_1_addr&#39;,\n",
       "    &#39;event_event_eventDetail_networkConfig_ipv6Addresses_0_addr&#39;,\n",
       "    &#39;event_event_eventDetail_domainConfig_nameServerConfig_ipv6Addresses_1_addr&#39;,\n",
       "    &#39;event_event_eventDetail_selfHeal_actions_1&#39;,\n",
       "    &#39;event_event_eventDetail_domainConfig_nameServerConfig_ipv4Addresses_0_subnetMask&#39;,\n",
       "    &#39;event_event_eventDetail_selfHeal_results_1&#39;,\n",
       "    &#39;event_event_eventDetail_domainConfig_nameServerConfig_ipv4Addresses_1_subnetMask&#39;,\n",
       "    &#39;event_event_eventDetail_selfHeal_selfHealVersion&#39;]},\n",
       "  &#39;Missing Features&#39;: {&#39;Numerical&#39;: [&#39;event_event_eventDetail_wifiConfig_channel&#39;],\n",
       "   &#39;Categorical&#39;: [&#39;event_event_eventDetail_selfHealSta_reason&#39;,\n",
       "    &#39;event_event_eventDetail_domainConfig_searchDomains_2&#39;,\n",
       "    &#39;event_event_eventDetail_subsystemStates_wifiSupplicantState&#39;,\n",
       "    &#39;event_event_eventDetail_bleState&#39;,\n",
       "    &#39;event_event_eventDetail_userConfig_changeCounter&#39;,\n",
       "    &#39;event_event_eventDetail_selfHealSta_selfHealMinWaitTime&#39;,\n",
       "    &#39;event_event_eventDetail_domainConfig_searchDomains_5&#39;,\n",
       "    &#39;event_event_eventDetail_subsystemStates_bleKernelModuleState&#39;,\n",
       "    &#39;event_event_eventDetail_wifiConfig_authentication&#39;,\n",
       "    &#39;event_event_eventDetail_subsystemStates_wifiKernelModuleState&#39;,\n",
       "    &#39;event_event_eventDetail_domainConfig_searchDomains_3&#39;,\n",
       "    &#39;event_event_eventDetail_domainConfig_searchDomains_4&#39;,\n",
       "    &#39;event_event_eventDetail_wifiConfig_disconnectCountFromLastEvent&#39;,\n",
       "    &#39;event_event_eventDetail_domainConfig_searchDomains_1&#39;,\n",
       "    &#39;event_event_eventDetail_domainConfig_searchDomains_0&#39;,\n",
       "    &#39;event_event_eventDetail_subsystemStates_wifiConnectionState&#39;,\n",
       "    &#39;event_event_eventDetail_subsystemStates_wifiHwModuleState&#39;]}},\n",
       " &#39;Numerical&#39;: {&#39;event_event_eventDetail_wifiConfig_lastDeauthReason&#39;: {&#39;Range&#39;: {&#39;Expected&#39;: [0,\n",
       "     16],\n",
       "    &#39;Observed&#39;: [0, 33]}},\n",
       "  &#39;event_event_eventDetail_wifiConfig_undirectedScanCount&#39;: {&#39;Skewness&#39;: {&#39;Expected&#39;: 4.422620521496445,\n",
       "    &#39;Observed&#39;: 2.3272603270640815}},\n",
       "  &#39;event_event_eventDetail_linkStats_txPackets&#39;: {&#39;Range&#39;: {&#39;Expected&#39;: [148,\n",
       "     17096048],\n",
       "    &#39;Observed&#39;: [158, 20741467]}},\n",
       "  &#39;event_event_eventDetail_linkStats_rxPackets&#39;: {&#39;Average&#39;: {&#39;Expected&#39;: 954844.59,\n",
       "    &#39;Observed&#39;: 4916504.73125},\n",
       "   &#39;Standard Deviation&#39;: {&#39;Expected&#39;: 1996573.1652504208,\n",
       "    &#39;Observed&#39;: 49184215.03960988},\n",
       "   &#39;Range&#39;: {&#39;Expected&#39;: [22, 13122628], &#39;Observed&#39;: [38, 620017927]},\n",
       "   &#39;Skewness&#39;: {&#39;Expected&#39;: 4.066695812881047,\n",
       "    &#39;Observed&#39;: 12.348214619277215}},\n",
       "  &#39;event_event_eventDetail_wifiConfig_directedScanCount&#39;: {&#39;Range&#39;: {&#39;Expected&#39;: [1,\n",
       "     12],\n",
       "    &#39;Observed&#39;: [1, 19]},\n",
       "   &#39;Skewness&#39;: {&#39;Expected&#39;: 2.68561443691425, &#39;Observed&#39;: 4.458950265331163}},\n",
       "  &#39;event_event_eventDetail_wifiConfig_signalQuality_strength&#39;: {&#39;Range&#39;: {&#39;Expected&#39;: [-84.0,\n",
       "     0.0],\n",
       "    &#39;Observed&#39;: [-94.0, 0.0]},\n",
       "   &#39;Skewness&#39;: {&#39;Expected&#39;: 0.13578803727096214,\n",
       "    &#39;Observed&#39;: 0.5260179062076012}}},\n",
       " &#39;Categorical&#39;: {&#39;event_event_eventDetailType&#39;: {&#39;Mininum_categories&#39;: {&#39;Expected&#39;: 3,\n",
       "    &#39;Observed&#39;: 2}},\n",
       "  &#39;event_event_eventDetail_domainConfig_nameServerConfig_ipv4Addresses_0_addr&#39;: {&#39;Mininum_categories&#39;: {&#39;Expected&#39;: 38,\n",
       "    &#39;Observed&#39;: 34},\n",
       "   &#39;isComplete&#39;: {&#39;Expected&#39;: True, &#39;Observed&#39;: False}},\n",
       "  &#39;event_event_eventDetail_stateStabilisationDelay&#39;: {&#39;Mininum_categories&#39;: {&#39;Expected&#39;: 2,\n",
       "    &#39;Observed&#39;: 1}},\n",
       "  &#39;event_event_eventDetail_networkConfig_ipv4Gateway&#39;: {&#39;Mininum_categories&#39;: {&#39;Expected&#39;: 32,\n",
       "    &#39;Observed&#39;: 28}},\n",
       "  &#39;event_event_eventDetail_version&#39;: {&#39;Mininum_categories&#39;: {&#39;Expected&#39;: 3,\n",
       "    &#39;Observed&#39;: 2}}}}</div>"
      ]
     },
     "metadata": {
      "application/vnd.databricks.v1+output": {
       "addedWidgets": {},
       "arguments": {},
       "data": "<div class=\"ansiout\">Out[107]: {&#39;Dataset&#39;: {&#39;Data size&#39;: {&#39;Expected&#39;: 100, &#39;Observed&#39;: 160},\n  &#39;Extra Features&#39;: {&#39;Numerical&#39;: [&#39;event_event_eventDetail_userConfig_changeCounter&#39;,\n    &#39;event_event_eventDetail_wifiConfig_channelGraphs_1_percentLoad&#39;,\n    &#39;event_event_eventDetail_wifiConfig_channelGraphs_1_anpi&#39;],\n   &#39;Categorical&#39;: [&#39;event_event_eventDetail_selfHeal_actions_0&#39;,\n    &#39;event_event_eventDetail_selfHeal_results_0&#39;,\n    &#39;event_event_eventDetail_networkConfig_ipv6Addresses_3_addr&#39;,\n    &#39;event_event_eventDetail_domainConfig_nameServerConfig_ipv4Addresses_1_addr&#39;,\n    &#39;event_event_eventDetail_domainConfig_nameServerConfig_ipv6Addresses_0_addr&#39;,\n    &#39;event_event_eventDetail_selfHeal_results_2&#39;,\n    &#39;event_event_eventDetail_networkConfig_ipv6Addresses_2_addr&#39;,\n    &#39;event_event_eventDetail_networkConfig_ipv6Addresses_1_addr&#39;,\n    &#39;event_event_eventDetail_networkConfig_ipv6Addresses_0_addr&#39;,\n    &#39;event_event_eventDetail_domainConfig_nameServerConfig_ipv6Addresses_1_addr&#39;,\n    &#39;event_event_eventDetail_selfHeal_actions_1&#39;,\n    &#39;event_event_eventDetail_domainConfig_nameServerConfig_ipv4Addresses_0_subnetMask&#39;,\n    &#39;event_event_eventDetail_selfHeal_results_1&#39;,\n    &#39;event_event_eventDetail_domainConfig_nameServerConfig_ipv4Addresses_1_subnetMask&#39;,\n    &#39;event_event_eventDetail_selfHeal_selfHealVersion&#39;]},\n  &#39;Missing Features&#39;: {&#39;Numerical&#39;: [&#39;event_event_eventDetail_wifiConfig_channel&#39;],\n   &#39;Categorical&#39;: [&#39;event_event_eventDetail_selfHealSta_reason&#39;,\n    &#39;event_event_eventDetail_domainConfig_searchDomains_2&#39;,\n    &#39;event_event_eventDetail_subsystemStates_wifiSupplicantState&#39;,\n    &#39;event_event_eventDetail_bleState&#39;,\n    &#39;event_event_eventDetail_userConfig_changeCounter&#39;,\n    &#39;event_event_eventDetail_selfHealSta_selfHealMinWaitTime&#39;,\n    &#39;event_event_eventDetail_domainConfig_searchDomains_5&#39;,\n    &#39;event_event_eventDetail_subsystemStates_bleKernelModuleState&#39;,\n    &#39;event_event_eventDetail_wifiConfig_authentication&#39;,\n    &#39;event_event_eventDetail_subsystemStates_wifiKernelModuleState&#39;,\n    &#39;event_event_eventDetail_domainConfig_searchDomains_3&#39;,\n    &#39;event_event_eventDetail_domainConfig_searchDomains_4&#39;,\n    &#39;event_event_eventDetail_wifiConfig_disconnectCountFromLastEvent&#39;,\n    &#39;event_event_eventDetail_domainConfig_searchDomains_1&#39;,\n    &#39;event_event_eventDetail_domainConfig_searchDomains_0&#39;,\n    &#39;event_event_eventDetail_subsystemStates_wifiConnectionState&#39;,\n    &#39;event_event_eventDetail_subsystemStates_wifiHwModuleState&#39;]}},\n &#39;Numerical&#39;: {&#39;event_event_eventDetail_wifiConfig_lastDeauthReason&#39;: {&#39;Range&#39;: {&#39;Expected&#39;: [0,\n     16],\n    &#39;Observed&#39;: [0, 33]}},\n  &#39;event_event_eventDetail_wifiConfig_undirectedScanCount&#39;: {&#39;Skewness&#39;: {&#39;Expected&#39;: 4.422620521496445,\n    &#39;Observed&#39;: 2.3272603270640815}},\n  &#39;event_event_eventDetail_linkStats_txPackets&#39;: {&#39;Range&#39;: {&#39;Expected&#39;: [148,\n     17096048],\n    &#39;Observed&#39;: [158, 20741467]}},\n  &#39;event_event_eventDetail_linkStats_rxPackets&#39;: {&#39;Average&#39;: {&#39;Expected&#39;: 954844.59,\n    &#39;Observed&#39;: 4916504.73125},\n   &#39;Standard Deviation&#39;: {&#39;Expected&#39;: 1996573.1652504208,\n    &#39;Observed&#39;: 49184215.03960988},\n   &#39;Range&#39;: {&#39;Expected&#39;: [22, 13122628], &#39;Observed&#39;: [38, 620017927]},\n   &#39;Skewness&#39;: {&#39;Expected&#39;: 4.066695812881047,\n    &#39;Observed&#39;: 12.348214619277215}},\n  &#39;event_event_eventDetail_wifiConfig_directedScanCount&#39;: {&#39;Range&#39;: {&#39;Expected&#39;: [1,\n     12],\n    &#39;Observed&#39;: [1, 19]},\n   &#39;Skewness&#39;: {&#39;Expected&#39;: 2.68561443691425, &#39;Observed&#39;: 4.458950265331163}},\n  &#39;event_event_eventDetail_wifiConfig_signalQuality_strength&#39;: {&#39;Range&#39;: {&#39;Expected&#39;: [-84.0,\n     0.0],\n    &#39;Observed&#39;: [-94.0, 0.0]},\n   &#39;Skewness&#39;: {&#39;Expected&#39;: 0.13578803727096214,\n    &#39;Observed&#39;: 0.5260179062076012}}},\n &#39;Categorical&#39;: {&#39;event_event_eventDetailType&#39;: {&#39;Mininum_categories&#39;: {&#39;Expected&#39;: 3,\n    &#39;Observed&#39;: 2}},\n  &#39;event_event_eventDetail_domainConfig_nameServerConfig_ipv4Addresses_0_addr&#39;: {&#39;Mininum_categories&#39;: {&#39;Expected&#39;: 38,\n    &#39;Observed&#39;: 34},\n   &#39;isComplete&#39;: {&#39;Expected&#39;: True, &#39;Observed&#39;: False}},\n  &#39;event_event_eventDetail_stateStabilisationDelay&#39;: {&#39;Mininum_categories&#39;: {&#39;Expected&#39;: 2,\n    &#39;Observed&#39;: 1}},\n  &#39;event_event_eventDetail_networkConfig_ipv4Gateway&#39;: {&#39;Mininum_categories&#39;: {&#39;Expected&#39;: 32,\n    &#39;Observed&#39;: 28}},\n  &#39;event_event_eventDetail_version&#39;: {&#39;Mininum_categories&#39;: {&#39;Expected&#39;: 3,\n    &#39;Observed&#39;: 2}}}}</div>",
       "datasetInfos": [],
       "removedWidgets": [],
       "type": "html"
      }
     },
     "output_type": "display_data"
    }
   ],
   "source": [
    "## Drift Json \n",
    "drift"
   ]
  },
  {
   "cell_type": "markdown",
   "metadata": {
    "application/vnd.databricks.v1+cell": {
     "inputWidgets": {},
     "nuid": "ad2919cb-deb8-4204-a143-17c8208f185c",
     "showTitle": false,
     "title": ""
    }
   },
   "source": [
    "##### Drift(Textual Message)"
   ]
  },
  {
   "cell_type": "code",
   "execution_count": null,
   "metadata": {
    "application/vnd.databricks.v1+cell": {
     "inputWidgets": {},
     "nuid": "f1d18549-b5d5-4842-b4d6-456760ea93cb",
     "showTitle": false,
     "title": ""
    }
   },
   "outputs": [
    {
     "data": {
      "text/html": [
       "<style scoped>\n",
       "  .ansiout {\n",
       "    display: block;\n",
       "    unicode-bidi: embed;\n",
       "    white-space: pre-wrap;\n",
       "    word-wrap: break-word;\n",
       "    word-break: break-all;\n",
       "    font-family: \"Source Code Pro\", \"Menlo\", monospace;;\n",
       "    font-size: 13px;\n",
       "    color: #555;\n",
       "    margin-left: 4px;\n",
       "    line-height: 19px;\n",
       "  }\n",
       "</style>\n",
       "<div class=\"ansiout\"><span class=\"ansi-bold\"> For Dataset (Not Feature wise) - </span>\n",
       "\n",
       "\t** Significant Change in  No of Rows/Data Points\n",
       "\t\t- No of Rows/Data Points has increased from 100 to 160\n",
       "\n",
       "\n",
       "\n",
       "----------------------No more Dataset Anomaly------------------- \n",
       "\n",
       "<span class=\"ansi-bold\"> For Numerical Features -</span>\n",
       "\n",
       "<span class=\"ansi-bold\"> Feature/Column Name : event_event_eventDetail_wifiConfig_lastDeauthReason -</span>\n",
       "\n",
       "\t** Some values found to be outside the Range of Feature\n",
       "<span class=\"ansi-bold\"> Feature/Column Name : event_event_eventDetail_wifiConfig_undirectedScanCount -</span>\n",
       "\n",
       "\t** The Skewness of the Feature has changed Significantly\n",
       "\t\t- The Skewness has changed from 4.422620521496445 to 2.3272603270640815\n",
       "\n",
       "<span class=\"ansi-bold\"> Feature/Column Name : event_event_eventDetail_linkStats_txPackets -</span>\n",
       "\n",
       "\t** Some values found to be outside the Range of Feature\n",
       "<span class=\"ansi-bold\"> Feature/Column Name : event_event_eventDetail_linkStats_rxPackets -</span>\n",
       "\n",
       "\t** The Feature Mean has changed Significantly\n",
       "\t\t- The Feature Mean has changed from 954844.59 to 4916504.73125\n",
       "\n",
       "\t** The Feature Standard Deviation has changed Significantly\n",
       "\t\t- The Feature SD has changed from 1996573.1652504208 to 49184215.03960988\n",
       "\n",
       "\t** Some values found to be outside the Range of Feature\n",
       "\t** The Skewness of the Feature has changed Significantly\n",
       "\t\t- The Skewness has changed from 4.066695812881047 to 12.348214619277215\n",
       "\n",
       "<span class=\"ansi-bold\"> Feature/Column Name : event_event_eventDetail_wifiConfig_directedScanCount -</span>\n",
       "\n",
       "\t** Some values found to be outside the Range of Feature\n",
       "\t** The Skewness of the Feature has changed Significantly\n",
       "\t\t- The Skewness has changed from 2.68561443691425 to 4.458950265331163\n",
       "\n",
       "<span class=\"ansi-bold\"> Feature/Column Name : event_event_eventDetail_wifiConfig_signalQuality_strength -</span>\n",
       "\n",
       "\t** Some values found to be outside the Range of Feature\n",
       "\t** The Skewness of the Feature has changed Significantly\n",
       "\t\t- The Skewness has changed from 0.13578803727096214 to 0.5260179062076012\n",
       "\n",
       "\n",
       "\n",
       "----------------------No more Anomaly for Numerical Feature------------------- \n",
       "\n",
       "<span class=\"ansi-bold\"> For Categorical Features -</span>\n",
       "\n",
       "<span class=\"ansi-bold\"> Feature/Column Name : event_event_eventDetailType -</span>\n",
       "\n",
       "\t** The Feature has less no of Categories than expected\n",
       "\t\t- Expected atleast 3 Categories but 2 Categories present\n",
       "\n",
       "<span class=\"ansi-bold\"> Feature/Column Name : event_event_eventDetail_domainConfig_nameServerConfig_ipv4Addresses_0_addr -</span>\n",
       "\n",
       "\t** The Feature has less no of Categories than expected\n",
       "\t\t- Expected atleast 38 Categories but 34 Categories present\n",
       "\n",
       "\t** The feature/columnn has Missing values whereas there should be no Missing value\n",
       "<span class=\"ansi-bold\"> Feature/Column Name : event_event_eventDetail_stateStabilisationDelay -</span>\n",
       "\n",
       "\t** The Feature has less no of Categories than expected\n",
       "\t\t- Expected atleast 2 Categories but 1 Categories present\n",
       "\n",
       "<span class=\"ansi-bold\"> Feature/Column Name : event_event_eventDetail_networkConfig_ipv4Gateway -</span>\n",
       "\n",
       "\t** The Feature has less no of Categories than expected\n",
       "\t\t- Expected atleast 32 Categories but 28 Categories present\n",
       "\n",
       "<span class=\"ansi-bold\"> Feature/Column Name : event_event_eventDetail_version -</span>\n",
       "\n",
       "\t** The Feature has less no of Categories than expected\n",
       "\t\t- Expected atleast 3 Categories but 2 Categories present\n",
       "\n",
       "\n",
       "\n",
       "----------------------No more Anomaly for Categorical Feature------------------- \n",
       "\n",
       "</div>"
      ]
     },
     "metadata": {
      "application/vnd.databricks.v1+output": {
       "addedWidgets": {},
       "arguments": {},
       "data": "<div class=\"ansiout\"><span class=\"ansi-bold\"> For Dataset (Not Feature wise) - </span>\n\n\t** Significant Change in  No of Rows/Data Points\n\t\t- No of Rows/Data Points has increased from 100 to 160\n\n\n\n----------------------No more Dataset Anomaly------------------- \n\n<span class=\"ansi-bold\"> For Numerical Features -</span>\n\n<span class=\"ansi-bold\"> Feature/Column Name : event_event_eventDetail_wifiConfig_lastDeauthReason -</span>\n\n\t** Some values found to be outside the Range of Feature\n<span class=\"ansi-bold\"> Feature/Column Name : event_event_eventDetail_wifiConfig_undirectedScanCount -</span>\n\n\t** The Skewness of the Feature has changed Significantly\n\t\t- The Skewness has changed from 4.422620521496445 to 2.3272603270640815\n\n<span class=\"ansi-bold\"> Feature/Column Name : event_event_eventDetail_linkStats_txPackets -</span>\n\n\t** Some values found to be outside the Range of Feature\n<span class=\"ansi-bold\"> Feature/Column Name : event_event_eventDetail_linkStats_rxPackets -</span>\n\n\t** The Feature Mean has changed Significantly\n\t\t- The Feature Mean has changed from 954844.59 to 4916504.73125\n\n\t** The Feature Standard Deviation has changed Significantly\n\t\t- The Feature SD has changed from 1996573.1652504208 to 49184215.03960988\n\n\t** Some values found to be outside the Range of Feature\n\t** The Skewness of the Feature has changed Significantly\n\t\t- The Skewness has changed from 4.066695812881047 to 12.348214619277215\n\n<span class=\"ansi-bold\"> Feature/Column Name : event_event_eventDetail_wifiConfig_directedScanCount -</span>\n\n\t** Some values found to be outside the Range of Feature\n\t** The Skewness of the Feature has changed Significantly\n\t\t- The Skewness has changed from 2.68561443691425 to 4.458950265331163\n\n<span class=\"ansi-bold\"> Feature/Column Name : event_event_eventDetail_wifiConfig_signalQuality_strength -</span>\n\n\t** Some values found to be outside the Range of Feature\n\t** The Skewness of the Feature has changed Significantly\n\t\t- The Skewness has changed from 0.13578803727096214 to 0.5260179062076012\n\n\n\n----------------------No more Anomaly for Numerical Feature------------------- \n\n<span class=\"ansi-bold\"> For Categorical Features -</span>\n\n<span class=\"ansi-bold\"> Feature/Column Name : event_event_eventDetailType -</span>\n\n\t** The Feature has less no of Categories than expected\n\t\t- Expected atleast 3 Categories but 2 Categories present\n\n<span class=\"ansi-bold\"> Feature/Column Name : event_event_eventDetail_domainConfig_nameServerConfig_ipv4Addresses_0_addr -</span>\n\n\t** The Feature has less no of Categories than expected\n\t\t- Expected atleast 38 Categories but 34 Categories present\n\n\t** The feature/columnn has Missing values whereas there should be no Missing value\n<span class=\"ansi-bold\"> Feature/Column Name : event_event_eventDetail_stateStabilisationDelay -</span>\n\n\t** The Feature has less no of Categories than expected\n\t\t- Expected atleast 2 Categories but 1 Categories present\n\n<span class=\"ansi-bold\"> Feature/Column Name : event_event_eventDetail_networkConfig_ipv4Gateway -</span>\n\n\t** The Feature has less no of Categories than expected\n\t\t- Expected atleast 32 Categories but 28 Categories present\n\n<span class=\"ansi-bold\"> Feature/Column Name : event_event_eventDetail_version -</span>\n\n\t** The Feature has less no of Categories than expected\n\t\t- Expected atleast 3 Categories but 2 Categories present\n\n\n\n----------------------No more Anomaly for Categorical Feature------------------- \n\n</div>",
       "datasetInfos": [],
       "removedWidgets": [],
       "type": "html"
      }
     },
     "output_type": "display_data"
    }
   ],
   "source": [
    "validation.display_textual_msg(anomaly_message, drift, detailed_msg = True)"
   ]
  },
  {
   "cell_type": "markdown",
   "metadata": {
    "application/vnd.databricks.v1+cell": {
     "inputWidgets": {},
     "nuid": "5855949e-1ffa-4e42-b06c-cdadf54f37d4",
     "showTitle": false,
     "title": ""
    }
   },
   "source": [
    "#### Other ways to Display Drift (Visualize)"
   ]
  },
  {
   "cell_type": "code",
   "execution_count": null,
   "metadata": {
    "application/vnd.databricks.v1+cell": {
     "inputWidgets": {},
     "nuid": "8deefd07-e374-46cd-8f4a-936aa0ca5219",
     "showTitle": false,
     "title": ""
    }
   },
   "outputs": [
    {
     "data": {
      "text/html": [
       "<style scoped>\n",
       "  .ansiout {\n",
       "    display: block;\n",
       "    unicode-bidi: embed;\n",
       "    white-space: pre-wrap;\n",
       "    word-wrap: break-word;\n",
       "    word-break: break-all;\n",
       "    font-family: \"Source Code Pro\", \"Menlo\", monospace;;\n",
       "    font-size: 13px;\n",
       "    color: #555;\n",
       "    margin-left: 4px;\n",
       "    line-height: 19px;\n",
       "  }\n",
       "</style>\n",
       "<div class=\"ansiout\"><span class=\"ansi-bold\"> Feature Name:  event_event_eventDetail_wifiConfig_signalQuality_strength -</span>\n",
       "</div>"
      ]
     },
     "metadata": {
      "application/vnd.databricks.v1+output": {
       "addedWidgets": {},
       "arguments": {},
       "data": "<div class=\"ansiout\"><span class=\"ansi-bold\"> Feature Name:  event_event_eventDetail_wifiConfig_signalQuality_strength -</span>\n</div>",
       "datasetInfos": [],
       "removedWidgets": [],
       "type": "html"
      }
     },
     "output_type": "display_data"
    },
    {
     "data": {
      "text/html": [
       "<style scoped>\n",
       "  .table-result-container {\n",
       "    max-height: 300px;\n",
       "    overflow: auto;\n",
       "  }\n",
       "  table, th, td {\n",
       "    border: 1px solid black;\n",
       "    border-collapse: collapse;\n",
       "  }\n",
       "  th, td {\n",
       "    padding: 5px;\n",
       "  }\n",
       "  th {\n",
       "    text-align: left;\n",
       "  }\n",
       "</style><div class='table-result-container'><table class='table-result'><thead style='background-color: white'><tr><th>Range</th><th>Skewness</th></tr></thead><tbody><tr><td>List(-84.0, 0.0)</td><td>0.13578803727096214</td></tr><tr><td>List(-94.0, 0.0)</td><td>0.5260179062076012</td></tr></tbody></table></div>"
      ]
     },
     "metadata": {
      "application/vnd.databricks.v1+output": {
       "addedWidgets": {},
       "aggData": [],
       "aggError": "",
       "aggOverflow": false,
       "aggSchema": [],
       "aggSeriesLimitReached": false,
       "aggType": "",
       "arguments": {},
       "columnCustomDisplayInfos": {},
       "data": [
        [
         [
          -84,
          0
         ],
         0.13578803727096214
        ],
        [
         [
          -94,
          0
         ],
         0.5260179062076012
        ]
       ],
       "datasetInfos": [],
       "dbfsResultPath": null,
       "isJsonSchema": true,
       "overflow": false,
       "plotOptions": {
        "customPlotOptions": {
         "plotlyBar": [
          {
           "key": "grouped",
           "value": true
          },
          {
           "key": "stacked",
           "value": false
          },
          {
           "key": "100_stacked",
           "value": false
          }
         ]
        },
        "displayType": "table",
        "pivotAggregation": "sum",
        "pivotColumns": [],
        "xColumns": [
         "<id>"
        ],
        "yColumns": []
       },
       "removedWidgets": [],
       "schema": [
        {
         "metadata": "{}",
         "name": "Range",
         "type": "{\"type\":\"array\",\"elementType\":\"double\",\"containsNull\":true}"
        },
        {
         "metadata": "{}",
         "name": "Skewness",
         "type": "\"double\""
        }
       ],
       "type": "table"
      }
     },
     "output_type": "display_data"
    },
    {
     "data": {
      "text/html": [
       "<style scoped>\n",
       "  .ansiout {\n",
       "    display: block;\n",
       "    unicode-bidi: embed;\n",
       "    white-space: pre-wrap;\n",
       "    word-wrap: break-word;\n",
       "    word-break: break-all;\n",
       "    font-family: \"Source Code Pro\", \"Menlo\", monospace;;\n",
       "    font-size: 13px;\n",
       "    color: #555;\n",
       "    margin-left: 4px;\n",
       "    line-height: 19px;\n",
       "  }\n",
       "</style>\n",
       "<div class=\"ansiout\">None\n",
       "____________________________________________________________________________________________________\n",
       "<span class=\"ansi-bold\"> Feature Name:  event_event_eventDetail_wifiConfig_lastDeauthReason -</span>\n",
       "</div>"
      ]
     },
     "metadata": {
      "application/vnd.databricks.v1+output": {
       "addedWidgets": {},
       "arguments": {},
       "data": "<div class=\"ansiout\">None\n____________________________________________________________________________________________________\n<span class=\"ansi-bold\"> Feature Name:  event_event_eventDetail_wifiConfig_lastDeauthReason -</span>\n</div>",
       "datasetInfos": [],
       "removedWidgets": [],
       "type": "html"
      }
     },
     "output_type": "display_data"
    },
    {
     "data": {
      "text/html": [
       "<style scoped>\n",
       "  .table-result-container {\n",
       "    max-height: 300px;\n",
       "    overflow: auto;\n",
       "  }\n",
       "  table, th, td {\n",
       "    border: 1px solid black;\n",
       "    border-collapse: collapse;\n",
       "  }\n",
       "  th, td {\n",
       "    padding: 5px;\n",
       "  }\n",
       "  th {\n",
       "    text-align: left;\n",
       "  }\n",
       "</style><div class='table-result-container'><table class='table-result'><thead style='background-color: white'><tr><th>Range</th></tr></thead><tbody><tr><td>List(0, 16)</td></tr><tr><td>List(0, 33)</td></tr></tbody></table></div>"
      ]
     },
     "metadata": {
      "application/vnd.databricks.v1+output": {
       "addedWidgets": {},
       "aggData": [],
       "aggError": "",
       "aggOverflow": false,
       "aggSchema": [],
       "aggSeriesLimitReached": false,
       "aggType": "",
       "arguments": {},
       "columnCustomDisplayInfos": {},
       "data": [
        [
         [
          0,
          16
         ]
        ],
        [
         [
          0,
          33
         ]
        ]
       ],
       "datasetInfos": [],
       "dbfsResultPath": null,
       "isJsonSchema": true,
       "overflow": false,
       "plotOptions": {
        "customPlotOptions": {
         "plotlyBar": [
          {
           "key": "grouped",
           "value": true
          },
          {
           "key": "stacked",
           "value": false
          },
          {
           "key": "100_stacked",
           "value": false
          }
         ]
        },
        "displayType": "table",
        "pivotAggregation": "sum",
        "pivotColumns": [],
        "xColumns": [
         "<id>"
        ],
        "yColumns": []
       },
       "removedWidgets": [],
       "schema": [
        {
         "metadata": "{}",
         "name": "Range",
         "type": "{\"type\":\"array\",\"elementType\":\"long\",\"containsNull\":true}"
        }
       ],
       "type": "table"
      }
     },
     "output_type": "display_data"
    },
    {
     "data": {
      "text/html": [
       "<style scoped>\n",
       "  .ansiout {\n",
       "    display: block;\n",
       "    unicode-bidi: embed;\n",
       "    white-space: pre-wrap;\n",
       "    word-wrap: break-word;\n",
       "    word-break: break-all;\n",
       "    font-family: \"Source Code Pro\", \"Menlo\", monospace;;\n",
       "    font-size: 13px;\n",
       "    color: #555;\n",
       "    margin-left: 4px;\n",
       "    line-height: 19px;\n",
       "  }\n",
       "</style>\n",
       "<div class=\"ansiout\">None\n",
       "____________________________________________________________________________________________________\n",
       "<span class=\"ansi-bold\"> Feature Name:  event_event_eventDetail_linkStats_rxPackets -</span>\n",
       "</div>"
      ]
     },
     "metadata": {
      "application/vnd.databricks.v1+output": {
       "addedWidgets": {},
       "arguments": {},
       "data": "<div class=\"ansiout\">None\n____________________________________________________________________________________________________\n<span class=\"ansi-bold\"> Feature Name:  event_event_eventDetail_linkStats_rxPackets -</span>\n</div>",
       "datasetInfos": [],
       "removedWidgets": [],
       "type": "html"
      }
     },
     "output_type": "display_data"
    },
    {
     "data": {
      "text/html": [
       "<style scoped>\n",
       "  .table-result-container {\n",
       "    max-height: 300px;\n",
       "    overflow: auto;\n",
       "  }\n",
       "  table, th, td {\n",
       "    border: 1px solid black;\n",
       "    border-collapse: collapse;\n",
       "  }\n",
       "  th, td {\n",
       "    padding: 5px;\n",
       "  }\n",
       "  th {\n",
       "    text-align: left;\n",
       "  }\n",
       "</style><div class='table-result-container'><table class='table-result'><thead style='background-color: white'><tr><th>Average</th><th>Standard Deviation</th><th>Range</th><th>Skewness</th></tr></thead><tbody><tr><td>954844.59</td><td>1996573.1652504208</td><td>List(22, 13122628)</td><td>4.066695812881047</td></tr><tr><td>4916504.73125</td><td>4.918421503960988E7</td><td>List(38, 620017927)</td><td>12.348214619277215</td></tr></tbody></table></div>"
      ]
     },
     "metadata": {
      "application/vnd.databricks.v1+output": {
       "addedWidgets": {},
       "aggData": [],
       "aggError": "",
       "aggOverflow": false,
       "aggSchema": [],
       "aggSeriesLimitReached": false,
       "aggType": "",
       "arguments": {},
       "columnCustomDisplayInfos": {},
       "data": [
        [
         954844.59,
         1996573.1652504208,
         [
          22,
          13122628
         ],
         4.066695812881047
        ],
        [
         4916504.73125,
         49184215.03960988,
         [
          38,
          620017927
         ],
         12.348214619277215
        ]
       ],
       "datasetInfos": [],
       "dbfsResultPath": null,
       "isJsonSchema": true,
       "overflow": false,
       "plotOptions": {
        "customPlotOptions": {
         "plotlyBar": [
          {
           "key": "grouped",
           "value": true
          },
          {
           "key": "stacked",
           "value": false
          },
          {
           "key": "100_stacked",
           "value": false
          }
         ]
        },
        "displayType": "table",
        "pivotAggregation": "sum",
        "pivotColumns": [],
        "xColumns": [
         "<id>"
        ],
        "yColumns": []
       },
       "removedWidgets": [],
       "schema": [
        {
         "metadata": "{}",
         "name": "Average",
         "type": "\"double\""
        },
        {
         "metadata": "{}",
         "name": "Standard Deviation",
         "type": "\"double\""
        },
        {
         "metadata": "{}",
         "name": "Range",
         "type": "{\"type\":\"array\",\"elementType\":\"long\",\"containsNull\":true}"
        },
        {
         "metadata": "{}",
         "name": "Skewness",
         "type": "\"double\""
        }
       ],
       "type": "table"
      }
     },
     "output_type": "display_data"
    },
    {
     "data": {
      "text/html": [
       "<style scoped>\n",
       "  .ansiout {\n",
       "    display: block;\n",
       "    unicode-bidi: embed;\n",
       "    white-space: pre-wrap;\n",
       "    word-wrap: break-word;\n",
       "    word-break: break-all;\n",
       "    font-family: \"Source Code Pro\", \"Menlo\", monospace;;\n",
       "    font-size: 13px;\n",
       "    color: #555;\n",
       "    margin-left: 4px;\n",
       "    line-height: 19px;\n",
       "  }\n",
       "</style>\n",
       "<div class=\"ansiout\">None\n",
       "____________________________________________________________________________________________________\n",
       "<span class=\"ansi-bold\"> Feature Name:  event_event_eventDetail_wifiConfig_undirectedScanCount -</span>\n",
       "</div>"
      ]
     },
     "metadata": {
      "application/vnd.databricks.v1+output": {
       "addedWidgets": {},
       "arguments": {},
       "data": "<div class=\"ansiout\">None\n____________________________________________________________________________________________________\n<span class=\"ansi-bold\"> Feature Name:  event_event_eventDetail_wifiConfig_undirectedScanCount -</span>\n</div>",
       "datasetInfos": [],
       "removedWidgets": [],
       "type": "html"
      }
     },
     "output_type": "display_data"
    },
    {
     "data": {
      "text/html": [
       "<style scoped>\n",
       "  .table-result-container {\n",
       "    max-height: 300px;\n",
       "    overflow: auto;\n",
       "  }\n",
       "  table, th, td {\n",
       "    border: 1px solid black;\n",
       "    border-collapse: collapse;\n",
       "  }\n",
       "  th, td {\n",
       "    padding: 5px;\n",
       "  }\n",
       "  th {\n",
       "    text-align: left;\n",
       "  }\n",
       "</style><div class='table-result-container'><table class='table-result'><thead style='background-color: white'><tr><th>Skewness</th></tr></thead><tbody><tr><td>4.422620521496445</td></tr><tr><td>2.3272603270640815</td></tr></tbody></table></div>"
      ]
     },
     "metadata": {
      "application/vnd.databricks.v1+output": {
       "addedWidgets": {},
       "aggData": [],
       "aggError": "",
       "aggOverflow": false,
       "aggSchema": [],
       "aggSeriesLimitReached": false,
       "aggType": "",
       "arguments": {},
       "columnCustomDisplayInfos": {},
       "data": [
        [
         4.422620521496445
        ],
        [
         2.3272603270640815
        ]
       ],
       "datasetInfos": [],
       "dbfsResultPath": null,
       "isJsonSchema": true,
       "overflow": false,
       "plotOptions": {
        "customPlotOptions": {
         "plotlyBar": [
          {
           "key": "grouped",
           "value": true
          },
          {
           "key": "stacked",
           "value": false
          },
          {
           "key": "100_stacked",
           "value": false
          }
         ]
        },
        "displayType": "table",
        "pivotAggregation": "sum",
        "pivotColumns": [],
        "xColumns": [
         "<id>"
        ],
        "yColumns": []
       },
       "removedWidgets": [],
       "schema": [
        {
         "metadata": "{}",
         "name": "Skewness",
         "type": "\"double\""
        }
       ],
       "type": "table"
      }
     },
     "output_type": "display_data"
    },
    {
     "data": {
      "text/html": [
       "<style scoped>\n",
       "  .ansiout {\n",
       "    display: block;\n",
       "    unicode-bidi: embed;\n",
       "    white-space: pre-wrap;\n",
       "    word-wrap: break-word;\n",
       "    word-break: break-all;\n",
       "    font-family: \"Source Code Pro\", \"Menlo\", monospace;;\n",
       "    font-size: 13px;\n",
       "    color: #555;\n",
       "    margin-left: 4px;\n",
       "    line-height: 19px;\n",
       "  }\n",
       "</style>\n",
       "<div class=\"ansiout\">None\n",
       "____________________________________________________________________________________________________\n",
       "<span class=\"ansi-bold\"> Feature Name:  event_event_eventDetail_linkStats_txPackets -</span>\n",
       "</div>"
      ]
     },
     "metadata": {
      "application/vnd.databricks.v1+output": {
       "addedWidgets": {},
       "arguments": {},
       "data": "<div class=\"ansiout\">None\n____________________________________________________________________________________________________\n<span class=\"ansi-bold\"> Feature Name:  event_event_eventDetail_linkStats_txPackets -</span>\n</div>",
       "datasetInfos": [],
       "removedWidgets": [],
       "type": "html"
      }
     },
     "output_type": "display_data"
    },
    {
     "data": {
      "text/html": [
       "<style scoped>\n",
       "  .table-result-container {\n",
       "    max-height: 300px;\n",
       "    overflow: auto;\n",
       "  }\n",
       "  table, th, td {\n",
       "    border: 1px solid black;\n",
       "    border-collapse: collapse;\n",
       "  }\n",
       "  th, td {\n",
       "    padding: 5px;\n",
       "  }\n",
       "  th {\n",
       "    text-align: left;\n",
       "  }\n",
       "</style><div class='table-result-container'><table class='table-result'><thead style='background-color: white'><tr><th>Range</th></tr></thead><tbody><tr><td>List(148, 17096048)</td></tr><tr><td>List(158, 20741467)</td></tr></tbody></table></div>"
      ]
     },
     "metadata": {
      "application/vnd.databricks.v1+output": {
       "addedWidgets": {},
       "aggData": [],
       "aggError": "",
       "aggOverflow": false,
       "aggSchema": [],
       "aggSeriesLimitReached": false,
       "aggType": "",
       "arguments": {},
       "columnCustomDisplayInfos": {},
       "data": [
        [
         [
          148,
          17096048
         ]
        ],
        [
         [
          158,
          20741467
         ]
        ]
       ],
       "datasetInfos": [],
       "dbfsResultPath": null,
       "isJsonSchema": true,
       "overflow": false,
       "plotOptions": {
        "customPlotOptions": {
         "plotlyBar": [
          {
           "key": "grouped",
           "value": true
          },
          {
           "key": "stacked",
           "value": false
          },
          {
           "key": "100_stacked",
           "value": false
          }
         ]
        },
        "displayType": "table",
        "pivotAggregation": "sum",
        "pivotColumns": [],
        "xColumns": [
         "<id>"
        ],
        "yColumns": []
       },
       "removedWidgets": [],
       "schema": [
        {
         "metadata": "{}",
         "name": "Range",
         "type": "{\"type\":\"array\",\"elementType\":\"long\",\"containsNull\":true}"
        }
       ],
       "type": "table"
      }
     },
     "output_type": "display_data"
    },
    {
     "data": {
      "text/html": [
       "<style scoped>\n",
       "  .ansiout {\n",
       "    display: block;\n",
       "    unicode-bidi: embed;\n",
       "    white-space: pre-wrap;\n",
       "    word-wrap: break-word;\n",
       "    word-break: break-all;\n",
       "    font-family: \"Source Code Pro\", \"Menlo\", monospace;;\n",
       "    font-size: 13px;\n",
       "    color: #555;\n",
       "    margin-left: 4px;\n",
       "    line-height: 19px;\n",
       "  }\n",
       "</style>\n",
       "<div class=\"ansiout\">None\n",
       "____________________________________________________________________________________________________\n",
       "<span class=\"ansi-bold\"> Feature Name:  event_event_eventDetail_wifiConfig_directedScanCount -</span>\n",
       "</div>"
      ]
     },
     "metadata": {
      "application/vnd.databricks.v1+output": {
       "addedWidgets": {},
       "arguments": {},
       "data": "<div class=\"ansiout\">None\n____________________________________________________________________________________________________\n<span class=\"ansi-bold\"> Feature Name:  event_event_eventDetail_wifiConfig_directedScanCount -</span>\n</div>",
       "datasetInfos": [],
       "removedWidgets": [],
       "type": "html"
      }
     },
     "output_type": "display_data"
    },
    {
     "data": {
      "text/html": [
       "<style scoped>\n",
       "  .table-result-container {\n",
       "    max-height: 300px;\n",
       "    overflow: auto;\n",
       "  }\n",
       "  table, th, td {\n",
       "    border: 1px solid black;\n",
       "    border-collapse: collapse;\n",
       "  }\n",
       "  th, td {\n",
       "    padding: 5px;\n",
       "  }\n",
       "  th {\n",
       "    text-align: left;\n",
       "  }\n",
       "</style><div class='table-result-container'><table class='table-result'><thead style='background-color: white'><tr><th>Range</th><th>Skewness</th></tr></thead><tbody><tr><td>List(1, 12)</td><td>2.68561443691425</td></tr><tr><td>List(1, 19)</td><td>4.458950265331163</td></tr></tbody></table></div>"
      ]
     },
     "metadata": {
      "application/vnd.databricks.v1+output": {
       "addedWidgets": {},
       "aggData": [],
       "aggError": "",
       "aggOverflow": false,
       "aggSchema": [],
       "aggSeriesLimitReached": false,
       "aggType": "",
       "arguments": {},
       "columnCustomDisplayInfos": {},
       "data": [
        [
         [
          1,
          12
         ],
         2.68561443691425
        ],
        [
         [
          1,
          19
         ],
         4.458950265331163
        ]
       ],
       "datasetInfos": [],
       "dbfsResultPath": null,
       "isJsonSchema": true,
       "overflow": false,
       "plotOptions": {
        "customPlotOptions": {
         "plotlyBar": [
          {
           "key": "grouped",
           "value": true
          },
          {
           "key": "stacked",
           "value": false
          },
          {
           "key": "100_stacked",
           "value": false
          }
         ]
        },
        "displayType": "table",
        "pivotAggregation": "sum",
        "pivotColumns": [],
        "xColumns": [
         "<id>"
        ],
        "yColumns": []
       },
       "removedWidgets": [],
       "schema": [
        {
         "metadata": "{}",
         "name": "Range",
         "type": "{\"type\":\"array\",\"elementType\":\"long\",\"containsNull\":true}"
        },
        {
         "metadata": "{}",
         "name": "Skewness",
         "type": "\"double\""
        }
       ],
       "type": "table"
      }
     },
     "output_type": "display_data"
    },
    {
     "data": {
      "text/html": [
       "<style scoped>\n",
       "  .ansiout {\n",
       "    display: block;\n",
       "    unicode-bidi: embed;\n",
       "    white-space: pre-wrap;\n",
       "    word-wrap: break-word;\n",
       "    word-break: break-all;\n",
       "    font-family: \"Source Code Pro\", \"Menlo\", monospace;;\n",
       "    font-size: 13px;\n",
       "    color: #555;\n",
       "    margin-left: 4px;\n",
       "    line-height: 19px;\n",
       "  }\n",
       "</style>\n",
       "<div class=\"ansiout\">None\n",
       "____________________________________________________________________________________________________\n",
       "</div>"
      ]
     },
     "metadata": {
      "application/vnd.databricks.v1+output": {
       "addedWidgets": {},
       "arguments": {},
       "data": "<div class=\"ansiout\">None\n____________________________________________________________________________________________________\n</div>",
       "datasetInfos": [],
       "removedWidgets": [],
       "type": "html"
      }
     },
     "output_type": "display_data"
    }
   ],
   "source": [
    "validation.display_drift(drift, Type = \"Numerical\", limit = None)"
   ]
  },
  {
   "cell_type": "code",
   "execution_count": null,
   "metadata": {
    "application/vnd.databricks.v1+cell": {
     "inputWidgets": {},
     "nuid": "5bc47bcb-3907-43c8-b0a5-e5d25773fe20",
     "showTitle": false,
     "title": ""
    }
   },
   "outputs": [
    {
     "data": {
      "text/html": [
       "<style scoped>\n",
       "  .ansiout {\n",
       "    display: block;\n",
       "    unicode-bidi: embed;\n",
       "    white-space: pre-wrap;\n",
       "    word-wrap: break-word;\n",
       "    word-break: break-all;\n",
       "    font-family: \"Source Code Pro\", \"Menlo\", monospace;;\n",
       "    font-size: 13px;\n",
       "    color: #555;\n",
       "    margin-left: 4px;\n",
       "    line-height: 19px;\n",
       "  }\n",
       "</style>\n",
       "<div class=\"ansiout\"><span class=\"ansi-bold\"> Feature Name:  event_event_eventDetail_networkConfig_ipv4Gateway -</span>\n",
       "</div>"
      ]
     },
     "metadata": {
      "application/vnd.databricks.v1+output": {
       "addedWidgets": {},
       "arguments": {},
       "data": "<div class=\"ansiout\"><span class=\"ansi-bold\"> Feature Name:  event_event_eventDetail_networkConfig_ipv4Gateway -</span>\n</div>",
       "datasetInfos": [],
       "removedWidgets": [],
       "type": "html"
      }
     },
     "output_type": "display_data"
    },
    {
     "data": {
      "text/html": [
       "<style scoped>\n",
       "  .table-result-container {\n",
       "    max-height: 300px;\n",
       "    overflow: auto;\n",
       "  }\n",
       "  table, th, td {\n",
       "    border: 1px solid black;\n",
       "    border-collapse: collapse;\n",
       "  }\n",
       "  th, td {\n",
       "    padding: 5px;\n",
       "  }\n",
       "  th {\n",
       "    text-align: left;\n",
       "  }\n",
       "</style><div class='table-result-container'><table class='table-result'><thead style='background-color: white'><tr><th>Mininum_categories</th></tr></thead><tbody><tr><td>32</td></tr><tr><td>28</td></tr></tbody></table></div>"
      ]
     },
     "metadata": {
      "application/vnd.databricks.v1+output": {
       "addedWidgets": {},
       "aggData": [],
       "aggError": "",
       "aggOverflow": false,
       "aggSchema": [],
       "aggSeriesLimitReached": false,
       "aggType": "",
       "arguments": {},
       "columnCustomDisplayInfos": {},
       "data": [
        [
         32
        ],
        [
         28
        ]
       ],
       "datasetInfos": [],
       "dbfsResultPath": null,
       "isJsonSchema": true,
       "overflow": false,
       "plotOptions": {
        "customPlotOptions": {},
        "displayType": "table",
        "pivotAggregation": null,
        "pivotColumns": null,
        "xColumns": null,
        "yColumns": null
       },
       "removedWidgets": [],
       "schema": [
        {
         "metadata": "{}",
         "name": "Mininum_categories",
         "type": "\"long\""
        }
       ],
       "type": "table"
      }
     },
     "output_type": "display_data"
    },
    {
     "data": {
      "text/html": [
       "<style scoped>\n",
       "  .ansiout {\n",
       "    display: block;\n",
       "    unicode-bidi: embed;\n",
       "    white-space: pre-wrap;\n",
       "    word-wrap: break-word;\n",
       "    word-break: break-all;\n",
       "    font-family: \"Source Code Pro\", \"Menlo\", monospace;;\n",
       "    font-size: 13px;\n",
       "    color: #555;\n",
       "    margin-left: 4px;\n",
       "    line-height: 19px;\n",
       "  }\n",
       "</style>\n",
       "<div class=\"ansiout\">None\n",
       "____________________________________________________________________________________________________\n",
       "<span class=\"ansi-bold\"> Feature Name:  event_event_eventDetail_stateStabilisationDelay -</span>\n",
       "</div>"
      ]
     },
     "metadata": {
      "application/vnd.databricks.v1+output": {
       "addedWidgets": {},
       "arguments": {},
       "data": "<div class=\"ansiout\">None\n____________________________________________________________________________________________________\n<span class=\"ansi-bold\"> Feature Name:  event_event_eventDetail_stateStabilisationDelay -</span>\n</div>",
       "datasetInfos": [],
       "removedWidgets": [],
       "type": "html"
      }
     },
     "output_type": "display_data"
    },
    {
     "data": {
      "text/html": [
       "<style scoped>\n",
       "  .table-result-container {\n",
       "    max-height: 300px;\n",
       "    overflow: auto;\n",
       "  }\n",
       "  table, th, td {\n",
       "    border: 1px solid black;\n",
       "    border-collapse: collapse;\n",
       "  }\n",
       "  th, td {\n",
       "    padding: 5px;\n",
       "  }\n",
       "  th {\n",
       "    text-align: left;\n",
       "  }\n",
       "</style><div class='table-result-container'><table class='table-result'><thead style='background-color: white'><tr><th>Mininum_categories</th></tr></thead><tbody><tr><td>2</td></tr><tr><td>1</td></tr></tbody></table></div>"
      ]
     },
     "metadata": {
      "application/vnd.databricks.v1+output": {
       "addedWidgets": {},
       "aggData": [],
       "aggError": "",
       "aggOverflow": false,
       "aggSchema": [],
       "aggSeriesLimitReached": false,
       "aggType": "",
       "arguments": {},
       "columnCustomDisplayInfos": {},
       "data": [
        [
         2
        ],
        [
         1
        ]
       ],
       "datasetInfos": [],
       "dbfsResultPath": null,
       "isJsonSchema": true,
       "overflow": false,
       "plotOptions": {
        "customPlotOptions": {},
        "displayType": "table",
        "pivotAggregation": null,
        "pivotColumns": null,
        "xColumns": null,
        "yColumns": null
       },
       "removedWidgets": [],
       "schema": [
        {
         "metadata": "{}",
         "name": "Mininum_categories",
         "type": "\"long\""
        }
       ],
       "type": "table"
      }
     },
     "output_type": "display_data"
    },
    {
     "data": {
      "text/html": [
       "<style scoped>\n",
       "  .ansiout {\n",
       "    display: block;\n",
       "    unicode-bidi: embed;\n",
       "    white-space: pre-wrap;\n",
       "    word-wrap: break-word;\n",
       "    word-break: break-all;\n",
       "    font-family: \"Source Code Pro\", \"Menlo\", monospace;;\n",
       "    font-size: 13px;\n",
       "    color: #555;\n",
       "    margin-left: 4px;\n",
       "    line-height: 19px;\n",
       "  }\n",
       "</style>\n",
       "<div class=\"ansiout\">None\n",
       "____________________________________________________________________________________________________\n",
       "<span class=\"ansi-bold\"> Feature Name:  event_event_eventDetail_version -</span>\n",
       "</div>"
      ]
     },
     "metadata": {
      "application/vnd.databricks.v1+output": {
       "addedWidgets": {},
       "arguments": {},
       "data": "<div class=\"ansiout\">None\n____________________________________________________________________________________________________\n<span class=\"ansi-bold\"> Feature Name:  event_event_eventDetail_version -</span>\n</div>",
       "datasetInfos": [],
       "removedWidgets": [],
       "type": "html"
      }
     },
     "output_type": "display_data"
    },
    {
     "data": {
      "text/html": [
       "<style scoped>\n",
       "  .table-result-container {\n",
       "    max-height: 300px;\n",
       "    overflow: auto;\n",
       "  }\n",
       "  table, th, td {\n",
       "    border: 1px solid black;\n",
       "    border-collapse: collapse;\n",
       "  }\n",
       "  th, td {\n",
       "    padding: 5px;\n",
       "  }\n",
       "  th {\n",
       "    text-align: left;\n",
       "  }\n",
       "</style><div class='table-result-container'><table class='table-result'><thead style='background-color: white'><tr><th>Mininum_categories</th></tr></thead><tbody><tr><td>3</td></tr><tr><td>2</td></tr></tbody></table></div>"
      ]
     },
     "metadata": {
      "application/vnd.databricks.v1+output": {
       "addedWidgets": {},
       "aggData": [],
       "aggError": "",
       "aggOverflow": false,
       "aggSchema": [],
       "aggSeriesLimitReached": false,
       "aggType": "",
       "arguments": {},
       "columnCustomDisplayInfos": {},
       "data": [
        [
         3
        ],
        [
         2
        ]
       ],
       "datasetInfos": [],
       "dbfsResultPath": null,
       "isJsonSchema": true,
       "overflow": false,
       "plotOptions": {
        "customPlotOptions": {},
        "displayType": "table",
        "pivotAggregation": null,
        "pivotColumns": null,
        "xColumns": null,
        "yColumns": null
       },
       "removedWidgets": [],
       "schema": [
        {
         "metadata": "{}",
         "name": "Mininum_categories",
         "type": "\"long\""
        }
       ],
       "type": "table"
      }
     },
     "output_type": "display_data"
    },
    {
     "data": {
      "text/html": [
       "<style scoped>\n",
       "  .ansiout {\n",
       "    display: block;\n",
       "    unicode-bidi: embed;\n",
       "    white-space: pre-wrap;\n",
       "    word-wrap: break-word;\n",
       "    word-break: break-all;\n",
       "    font-family: \"Source Code Pro\", \"Menlo\", monospace;;\n",
       "    font-size: 13px;\n",
       "    color: #555;\n",
       "    margin-left: 4px;\n",
       "    line-height: 19px;\n",
       "  }\n",
       "</style>\n",
       "<div class=\"ansiout\">None\n",
       "____________________________________________________________________________________________________\n",
       "<span class=\"ansi-bold\"> Feature Name:  event_event_eventDetail_domainConfig_nameServerConfig_ipv4Addresses_0_addr -</span>\n",
       "</div>"
      ]
     },
     "metadata": {
      "application/vnd.databricks.v1+output": {
       "addedWidgets": {},
       "arguments": {},
       "data": "<div class=\"ansiout\">None\n____________________________________________________________________________________________________\n<span class=\"ansi-bold\"> Feature Name:  event_event_eventDetail_domainConfig_nameServerConfig_ipv4Addresses_0_addr -</span>\n</div>",
       "datasetInfos": [],
       "removedWidgets": [],
       "type": "html"
      }
     },
     "output_type": "display_data"
    },
    {
     "data": {
      "text/html": [
       "<style scoped>\n",
       "  .table-result-container {\n",
       "    max-height: 300px;\n",
       "    overflow: auto;\n",
       "  }\n",
       "  table, th, td {\n",
       "    border: 1px solid black;\n",
       "    border-collapse: collapse;\n",
       "  }\n",
       "  th, td {\n",
       "    padding: 5px;\n",
       "  }\n",
       "  th {\n",
       "    text-align: left;\n",
       "  }\n",
       "</style><div class='table-result-container'><table class='table-result'><thead style='background-color: white'><tr><th>Mininum_categories</th><th>isComplete</th></tr></thead><tbody><tr><td>38</td><td>true</td></tr><tr><td>34</td><td>false</td></tr></tbody></table></div>"
      ]
     },
     "metadata": {
      "application/vnd.databricks.v1+output": {
       "addedWidgets": {},
       "aggData": [],
       "aggError": "",
       "aggOverflow": false,
       "aggSchema": [],
       "aggSeriesLimitReached": false,
       "aggType": "",
       "arguments": {},
       "columnCustomDisplayInfos": {},
       "data": [
        [
         38,
         true
        ],
        [
         34,
         false
        ]
       ],
       "datasetInfos": [],
       "dbfsResultPath": null,
       "isJsonSchema": true,
       "overflow": false,
       "plotOptions": {
        "customPlotOptions": {},
        "displayType": "table",
        "pivotAggregation": null,
        "pivotColumns": null,
        "xColumns": null,
        "yColumns": null
       },
       "removedWidgets": [],
       "schema": [
        {
         "metadata": "{}",
         "name": "Mininum_categories",
         "type": "\"long\""
        },
        {
         "metadata": "{}",
         "name": "isComplete",
         "type": "\"boolean\""
        }
       ],
       "type": "table"
      }
     },
     "output_type": "display_data"
    },
    {
     "data": {
      "text/html": [
       "<style scoped>\n",
       "  .ansiout {\n",
       "    display: block;\n",
       "    unicode-bidi: embed;\n",
       "    white-space: pre-wrap;\n",
       "    word-wrap: break-word;\n",
       "    word-break: break-all;\n",
       "    font-family: \"Source Code Pro\", \"Menlo\", monospace;;\n",
       "    font-size: 13px;\n",
       "    color: #555;\n",
       "    margin-left: 4px;\n",
       "    line-height: 19px;\n",
       "  }\n",
       "</style>\n",
       "<div class=\"ansiout\">None\n",
       "____________________________________________________________________________________________________\n",
       "<span class=\"ansi-bold\"> Feature Name:  event_event_eventDetailType -</span>\n",
       "</div>"
      ]
     },
     "metadata": {
      "application/vnd.databricks.v1+output": {
       "addedWidgets": {},
       "arguments": {},
       "data": "<div class=\"ansiout\">None\n____________________________________________________________________________________________________\n<span class=\"ansi-bold\"> Feature Name:  event_event_eventDetailType -</span>\n</div>",
       "datasetInfos": [],
       "removedWidgets": [],
       "type": "html"
      }
     },
     "output_type": "display_data"
    },
    {
     "data": {
      "text/html": [
       "<style scoped>\n",
       "  .table-result-container {\n",
       "    max-height: 300px;\n",
       "    overflow: auto;\n",
       "  }\n",
       "  table, th, td {\n",
       "    border: 1px solid black;\n",
       "    border-collapse: collapse;\n",
       "  }\n",
       "  th, td {\n",
       "    padding: 5px;\n",
       "  }\n",
       "  th {\n",
       "    text-align: left;\n",
       "  }\n",
       "</style><div class='table-result-container'><table class='table-result'><thead style='background-color: white'><tr><th>Mininum_categories</th></tr></thead><tbody><tr><td>3</td></tr><tr><td>2</td></tr></tbody></table></div>"
      ]
     },
     "metadata": {
      "application/vnd.databricks.v1+output": {
       "addedWidgets": {},
       "aggData": [],
       "aggError": "",
       "aggOverflow": false,
       "aggSchema": [],
       "aggSeriesLimitReached": false,
       "aggType": "",
       "arguments": {},
       "columnCustomDisplayInfos": {},
       "data": [
        [
         3
        ],
        [
         2
        ]
       ],
       "datasetInfos": [],
       "dbfsResultPath": null,
       "isJsonSchema": true,
       "overflow": false,
       "plotOptions": {
        "customPlotOptions": {},
        "displayType": "table",
        "pivotAggregation": null,
        "pivotColumns": null,
        "xColumns": null,
        "yColumns": null
       },
       "removedWidgets": [],
       "schema": [
        {
         "metadata": "{}",
         "name": "Mininum_categories",
         "type": "\"long\""
        }
       ],
       "type": "table"
      }
     },
     "output_type": "display_data"
    },
    {
     "data": {
      "text/html": [
       "<style scoped>\n",
       "  .ansiout {\n",
       "    display: block;\n",
       "    unicode-bidi: embed;\n",
       "    white-space: pre-wrap;\n",
       "    word-wrap: break-word;\n",
       "    word-break: break-all;\n",
       "    font-family: \"Source Code Pro\", \"Menlo\", monospace;;\n",
       "    font-size: 13px;\n",
       "    color: #555;\n",
       "    margin-left: 4px;\n",
       "    line-height: 19px;\n",
       "  }\n",
       "</style>\n",
       "<div class=\"ansiout\">None\n",
       "____________________________________________________________________________________________________\n",
       "</div>"
      ]
     },
     "metadata": {
      "application/vnd.databricks.v1+output": {
       "addedWidgets": {},
       "arguments": {},
       "data": "<div class=\"ansiout\">None\n____________________________________________________________________________________________________\n</div>",
       "datasetInfos": [],
       "removedWidgets": [],
       "type": "html"
      }
     },
     "output_type": "display_data"
    }
   ],
   "source": [
    "validation.display_drift(drift, Type = \"Categorical\", limit = None)"
   ]
  },
  {
   "cell_type": "code",
   "execution_count": null,
   "metadata": {
    "application/vnd.databricks.v1+cell": {
     "inputWidgets": {},
     "nuid": "7b6f9847-a1d8-44c2-aff7-35611481d6a8",
     "showTitle": false,
     "title": ""
    }
   },
   "outputs": [
    {
     "data": {
      "text/html": [
       "<style scoped>\n",
       "  .ansiout {\n",
       "    display: block;\n",
       "    unicode-bidi: embed;\n",
       "    white-space: pre-wrap;\n",
       "    word-wrap: break-word;\n",
       "    word-break: break-all;\n",
       "    font-family: \"Source Code Pro\", \"Menlo\", monospace;;\n",
       "    font-size: 13px;\n",
       "    color: #555;\n",
       "    margin-left: 4px;\n",
       "    line-height: 19px;\n",
       "  }\n",
       "</style>\n",
       "<div class=\"ansiout\"></div>"
      ]
     },
     "metadata": {
      "application/vnd.databricks.v1+output": {
       "addedWidgets": {},
       "arguments": {},
       "data": "<div class=\"ansiout\"></div>",
       "datasetInfos": [],
       "removedWidgets": [],
       "type": "html"
      }
     },
     "output_type": "display_data"
    }
   ],
   "source": [
    "## Run the following if particular features are provided to detect drift\n",
    "\n",
    "#validation.display_drift(drift)"
   ]
  }
 ],
 "metadata": {
  "application/vnd.databricks.v1+notebook": {
   "dashboards": [],
   "language": "python",
   "notebookName": "dataValidationModule",
   "notebookOrigID": 3237950,
   "widgets": {}
  },
  "kernelspec": {
   "display_name": "Python 3",
   "language": "python",
   "name": "python3"
  },
  "language_info": {
   "codemirror_mode": {
    "name": "ipython",
    "version": 3
   },
   "file_extension": ".py",
   "mimetype": "text/x-python",
   "name": "python",
   "nbconvert_exporter": "python",
   "pygments_lexer": "ipython3",
   "version": "3.8.6"
  }
 },
 "nbformat": 4,
 "nbformat_minor": 4
}
